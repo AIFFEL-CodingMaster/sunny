{
 "cells": [
  {
   "cell_type": "markdown",
   "metadata": {},
   "source": [
    "### 스페셜 퀴즈"
   ]
  },
  {
   "cell_type": "markdown",
   "metadata": {},
   "source": [
    "#### 컴퓨터랑 가위바위보를 하겠습니다.\n",
    "#### 판 수는 n 판만큼 할 수 있도록 입력을 받겠습니다."
   ]
  },
  {
   "cell_type": "code",
   "execution_count": 18,
   "metadata": {},
   "outputs": [
    {
     "name": "stdout",
     "output_type": "stream",
     "text": [
      "몇 판 ?3\n",
      "0.가위 1.바위 2.보 중 하나를 선택하세요>>\n",
      " 나:1\n",
      "컴퓨터: 1\n",
      "비겼습니다\n",
      "0.가위 1.바위 2.보 중 하나를 선택하세요>>\n",
      " 나:2\n",
      "컴퓨터: 2\n",
      "비겼습니다\n",
      "0.가위 1.바위 2.보 중 하나를 선택하세요>>\n",
      " 나:0\n",
      "컴퓨터: 1\n",
      "컴퓨터 승리\n",
      "1\n"
     ]
    }
   ],
   "source": [
    "from random import randint\n",
    "n = int(input(\"몇 판 ?\"))\n",
    "\n",
    "for i in range(n):\n",
    "     player = int(input(\"0.가위 1.바위 2.보 중 하나를 선택하세요>>\\n 나:\"))\n",
    "     com = random.randint(1,3)\n",
    "     print('컴퓨터:',com)\n",
    "\n",
    "     if player > 2:\n",
    "          print(\"잘못 누르셨습니다\")\n",
    "     elif player == com:\n",
    "          print(\"비겼습니다\")\n",
    "     elif player+1 == com or (player == 2 and com ==0):\n",
    "          print(\"컴퓨터 승리\")\n",
    "     else:\n",
    "          print(\"내가 승리\")\n",
    "\n",
    "     #내가 가위내면(player=0)-> com=1(진다),com=2(이긴다)\n",
    "     #내가 바위내면 (player=1)-> com=0(이긴다), com= 2(진다)\n",
    "     #내가 보 내면(player=2) -> com=1(이긴다),com=0(진다)\n",
    "\n",
    "com = random.randint(1,3)\n",
    "print(com) "
   ]
  }
 ],
 "metadata": {
  "kernelspec": {
   "display_name": "Python 3",
   "language": "python",
   "name": "python3"
  },
  "language_info": {
   "codemirror_mode": {
    "name": "ipython",
    "version": 3
   },
   "file_extension": ".py",
   "mimetype": "text/x-python",
   "name": "python",
   "nbconvert_exporter": "python",
   "pygments_lexer": "ipython3",
   "version": "3.7.9"
  }
 },
 "nbformat": 4,
 "nbformat_minor": 4
}
