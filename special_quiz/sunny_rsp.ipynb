{
 "cells": [
  {
   "cell_type": "markdown",
   "metadata": {},
   "source": [
    "### 스페셜 퀴즈"
   ]
  },
  {
   "cell_type": "markdown",
   "metadata": {},
   "source": [
    "#### if  문 만들기 연습입니다\n",
    "#### \"가위 바위 보 로직\"을 한 번 만들어주세요"
   ]
  },
  {
   "cell_type": "code",
   "execution_count": 57,
   "metadata": {},
   "outputs": [
    {
     "name": "stdout",
     "output_type": "stream",
     "text": [
      "player_1 : 가위, 바위, 보 중에 하나를 입력하세요 : 가위\n",
      "player_2 : 가위, 바위, 보 중에 하나를 입력하세요 : 가위\n",
      "비김\n"
     ]
    }
   ],
   "source": [
    "player_1 = input(\"player_1 : 가위, 바위, 보 중에 하나를 입력하세요 : \")\n",
    "player_2 = input(\"player_2 : 가위, 바위, 보 중에 하나를 입력하세요 : \")\n",
    "\n",
    "a = ['가위','바위','보']\n",
    "\n",
    "if player_1 == player_2:\n",
    "    print ('비김')\n",
    "elif player_1 == a[0]:\n",
    "    if  player_2 == a[1]:\n",
    "         print('player_2 승')\n",
    "elif player_1 == a[0]:\n",
    "    if  player_2 == a[2]:\n",
    "         print('player_2 패' ) # 패가 출력되지 않는 이유가 뭘까요?\n",
    "elif player_1 == a[1]:\n",
    "    if  player_2 == a[2]:\n",
    "         print('player_2 승')\n",
    "elif player_1 == a[1]:\n",
    "    if  player_2 == a[0]:\n",
    "         print('player_2 패') \n",
    "elif player_1 ==  a[2]:\n",
    "    if  player_2 ==  a[0]:\n",
    "         print('player_2 승')\n",
    "elif player_1 ==  a[2]:\n",
    "    if  player_2 ==  a[1]:\n",
    "         print('player_2 패') \n",
    "else:\n",
    "    print('잘못 입력하셨습니다')"
   ]
  }
 ],
 "metadata": {
  "kernelspec": {
   "display_name": "Python 3",
   "language": "python",
   "name": "python3"
  },
  "language_info": {
   "codemirror_mode": {
    "name": "ipython",
    "version": 3
   },
   "file_extension": ".py",
   "mimetype": "text/x-python",
   "name": "python",
   "nbconvert_exporter": "python",
   "pygments_lexer": "ipython3",
   "version": "3.7.6"
  }
 },
 "nbformat": 4,
 "nbformat_minor": 4
}
