{
 "cells": [
  {
   "cell_type": "code",
   "execution_count": 1,
   "metadata": {},
   "outputs": [
    {
     "name": "stdout",
     "output_type": "stream",
     "text": [
      "  File \"main.py\", line 24\r\n",
      "    parser.add_argument(\"--data_path\", type=str, default=\".\\\", help=\"데이터가 들어있는 디렉토리 경로\")\r\n",
      "                                                                        ^\r\n",
      "SyntaxError: invalid syntax\r\n"
     ]
    }
   ],
   "source": [
    "!python main.py \\\n",
    "--mode=\"tfr\" \\\n",
    "--data_path=\"../contents/images/\" \\\n",
    "--tfr_path=\"./tfrecord_data.tfr\""
   ]
  }
 ],
 "metadata": {
  "kernelspec": {
   "display_name": "Python 3",
   "language": "python",
   "name": "python3"
  },
  "language_info": {
   "codemirror_mode": {
    "name": "ipython",
    "version": 3
   },
   "file_extension": ".py",
   "mimetype": "text/x-python",
   "name": "python",
   "nbconvert_exporter": "python",
   "pygments_lexer": "ipython3",
   "version": "3.7.9"
  }
 },
 "nbformat": 4,
 "nbformat_minor": 4
}
