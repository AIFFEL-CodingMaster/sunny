{
 "cells": [
  {
   "cell_type": "markdown",
   "metadata": {},
   "source": [
    "### 힙 생성 & 원소 추가\n",
    "---\n",
    "\n",
    "heapq 모듈은 리스트를 최소 힙처럼 다룰 수 있도록 하기 때문에, 빈 리스트를 생성한 후 heapq의 함수를 호출할 때마다 리스트를  인자에 넘겨야 한다.\n",
    "\n",
    "아래 코드는 heap이라는 빈 리스트를 생성하고 50, 10, 20을 각각 추가하는 예시이다."
   ]
  },
  {
   "cell_type": "code",
   "execution_count": 9,
   "metadata": {},
   "outputs": [
    {
     "name": "stdout",
     "output_type": "stream",
     "text": [
      "[10, 50, 20]\n"
     ]
    }
   ],
   "source": [
    "import heapq\n",
    "\n",
    "heap = []\n",
    "heapq.heappush(heap, 50)\n",
    "heapq.heappush(heap, 10)\n",
    "heapq.heappush(heap, 20)\n",
    "\n",
    "print(heap)"
   ]
  },
  {
   "cell_type": "code",
   "execution_count": 11,
   "metadata": {},
   "outputs": [],
   "source": [
    "import heapq\n",
    "\n",
    "def heapsort(iterable):\n",
    "    h=[]\n",
    "    for value in iterable:\n",
    "        heapq.heappush(h, value)\n",
    "    return [heapq.heappop(h) for i in range(len(h))]\n"
   ]
  },
  {
   "cell_type": "code",
   "execution_count": 12,
   "metadata": {},
   "outputs": [
    {
     "data": {
      "text/plain": [
       "[0, 1, 2, 3, 4, 5, 6, 7, 8, 9]"
      ]
     },
     "execution_count": 12,
     "metadata": {},
     "output_type": "execute_result"
    }
   ],
   "source": [
    "heapsort([1,3,5,7,9,2,4,6,8,0])"
   ]
  },
  {
   "cell_type": "code",
   "execution_count": 13,
   "metadata": {},
   "outputs": [
    {
     "name": "stdout",
     "output_type": "stream",
     "text": [
      "[10, 30, 20, 40, 70, 90, 50, 60, 80, 100]\n"
     ]
    }
   ],
   "source": [
    "#이미 생성해둔 리스트가 있다면 heapify 함수를 통해 즉각적으로 힙 자료형으로 변환할 수 있다.\n",
    "\n",
    "heap2 = [60,40,50,80,70,90,20,30,10,100]\n",
    "heapq.heapify(heap2)\n",
    "\n",
    "print(heap2)"
   ]
  },
  {
   "cell_type": "markdown",
   "metadata": {},
   "source": [
    "### 힙에서 원소 삭제\n",
    "---\n",
    "heappop 함수는 가장 작은 원소를 힙에서 제거함과 동시에 그를 결괏값으로 리턴한다."
   ]
  },
  {
   "cell_type": "code",
   "execution_count": 14,
   "metadata": {},
   "outputs": [
    {
     "name": "stdout",
     "output_type": "stream",
     "text": [
      "10\n",
      "[20, 50]\n"
     ]
    }
   ],
   "source": [
    "result = heapq.heappop(heap)\n",
    "\n",
    "print(result)\n",
    "print(heap)"
   ]
  },
  {
   "cell_type": "markdown",
   "metadata": {},
   "source": [
    "위의 예제의 경우 heap에서 가장 작은 원소인 10이 결과로 리턴되었고, 힙에서는 제거된 것을 볼 수 있다. 원소를 삭제하지 않고 가져오고 싶으면 [0] 인덱싱을 통해 접근하면 된다."
   ]
  },
  {
   "cell_type": "code",
   "execution_count": 15,
   "metadata": {},
   "outputs": [
    {
     "name": "stdout",
     "output_type": "stream",
     "text": [
      "20\n",
      "[20, 50]\n"
     ]
    }
   ],
   "source": [
    "result2 = heap[0]\n",
    "\n",
    "print(result2)\n",
    "print(heap)"
   ]
  },
  {
   "cell_type": "markdown",
   "metadata": {},
   "source": [
    "위의 예제에서 힙에서 가장 작은 원소인 20을 가져오고난 후에도 heap은 유지되는 것을 확인할 수 있다."
   ]
  },
  {
   "cell_type": "markdown",
   "metadata": {},
   "source": [
    "IDEA: y = -x 변환을 하면 최솟값 정렬이 최댓값 정렬로 바뀐다.\n",
    "\n",
    "힙에 원소를 추가할 때 (-item, item)의 튜플 형태로 넣어주면 튜플의 첫 번째 원소를 우선순위로 힙을 구성하게 된다.  이때 원소 값의 부호를 바꿨기 때문에, 최소 힙으로 구현된 heapq 모듈을 최대 힙 구현에 활용하게 되는 것이다.\n",
    "\n",
    "아래의 예시는 리스트 heap_items에 있는 원소들을 max_heap이라는 최대 힙 자료구조로 만드는 코드이다."
   ]
  },
  {
   "cell_type": "code",
   "execution_count": 16,
   "metadata": {},
   "outputs": [
    {
     "name": "stdout",
     "output_type": "stream",
     "text": [
      "[(-9, 9), (-7, 7), (-3, 3), (-1, 1), (-5, 5)]\n"
     ]
    }
   ],
   "source": [
    "heap_items = [1,3,5,7,9]\n",
    "\n",
    "max_heap = []\n",
    "for item in heap_items:\n",
    "  heapq.heappush(max_heap, (-item, item))\n",
    "\n",
    "print(max_heap)"
   ]
  },
  {
   "cell_type": "code",
   "execution_count": 17,
   "metadata": {},
   "outputs": [
    {
     "name": "stdout",
     "output_type": "stream",
     "text": [
      "9\n"
     ]
    }
   ],
   "source": [
    "max_item = heapq.heappop(max_heap)[1]\n",
    "print(max_item)"
   ]
  },
  {
   "cell_type": "markdown",
   "metadata": {},
   "source": [
    "### 힙구조 문제풀이\n",
    "---\n",
    "\n",
    "**[예제] 주어진 리스트의 모든 값이 T 이상이 될 때까지 최솟값 두 개를 합치기**\n",
    "\n",
    "N개의 비커에 액체가 담겨 있다. 모든 비커에 있는 액체의 양이 T 이상이 될 때까지 액체가 가장 적게 담긴 두 비커의 액체를 합쳐가려 한다. 각각의 비커에 담겨있는 액체의 양을 표기한 리스트 L과 기준 T가 주어질 때, 모든 비커의 양이 T 이상이 될 때까지 필요한 작업 횟수를 리턴하는 함수를 구현해보자. (구현할 수 없는 경우 -1을 리턴)\n",
    "\n"
   ]
  },
  {
   "cell_type": "code",
   "execution_count": null,
   "metadata": {},
   "outputs": [],
   "source": [
    "'''\n",
    "**Example:**\n",
    "\n",
    "T = 4\n",
    "L = [1,2,3,4,5,6,7]\n",
    "\n",
    "step1: [1,2]를 합침\n",
    "      -> [3,3,4,5,6,7]\n",
    "step2: [3,3]을 합침\n",
    "      -> [6,4,5,6,7]\n",
    "모든 비커의 액체 양이 4이상이므로 STOP\n",
    "\n",
    "**Solution: heapify, heappush, heappop 활용**\n",
    "\n",
    "'''\n",
    "import heapq\n",
    "\n",
    "def my_heap_example(L, T):"
   ]
  },
  {
   "cell_type": "markdown",
   "metadata": {},
   "source": [
    "<details>\n",
    "<summary>Solution[펼치기]</summary>\n",
    "<div markdown=\"1\">\n",
    "\n",
    "import heapq\n",
    "\n",
    "def my_heap_example(L, T):\n",
    "  \"\"\" 주어진 비커의 리스트를 힙 구조로 변환 \"\"\"\n",
    "  heapq.heapify(L) \n",
    "\n",
    "  result = 0\n",
    "\n",
    "  while len(L) >= 2 : #IndexError 방지\n",
    "      \"\"\" 힙에서 최솟값을 가져옴 \"\"\"\n",
    "      min_ = heapq.heappop(L) \n",
    "      \n",
    "      if min_ >= T: # 액체의 최솟값이 T보다 크다는 조건 만족(종료)\n",
    "        print(\"-\"*40, \"\\nresult:\", result)\n",
    "        return result \n",
    "        \n",
    "      else: # 두 번째로 작은 값 가져와서 합친 값을 힙에 삽입\n",
    "        min_2 = heapq.heappop(L) \n",
    "        heapq.heappush(L, min_ + min_2)\n",
    "        result += 1\n",
    "        print(\"step{}: [{},{}] 합칩\".format(result, min_ , min_2))\n",
    "        print(\"       →\", L)\n",
    "  \n",
    "  \n",
    "  if L[0] > T:\n",
    "    print(\"-\"*40, \"\\nresult:\", result)\n",
    "    return result\n",
    "    \n",
    "  else:\n",
    "    print(\"-\"*40, \"\\nMission Failed\")\n",
    "    return -1\n",
    "\n",
    "</div>\n",
    "</details>"
   ]
  },
  {
   "cell_type": "markdown",
   "metadata": {},
   "source": [
    "**Result 1:**\n",
    "\n",
    "L = [3,5,1,8,3,2,1,9]\n",
    "<p>T = 7\n",
    "<p>result = my_heap_example(L,T)\n",
    "\n",
    "<p>step1: [1,1]를 합침\n",
    "      -> [2,3,2,8,5,9,3]\n",
    "<p>step2: [2,2]을 합침\n",
    "      -> [3,3,4,8,5,9]\n",
    "<p>step3: [3,3]를 합침\n",
    "      -> [4,5,9,8,6]\n",
    "<p>step4: [4,5]을 합침\n",
    "      -> [6,8,9,9]\n",
    "<p>step5: [6,8]을 합침\n",
    "      -> [9,9,14]\n",
    "    \n",
    "---\n",
    "result :5"
   ]
  },
  {
   "cell_type": "markdown",
   "metadata": {},
   "source": [
    "**Result 2: 모든 비커를 합쳐도 기준값을 넘지 못해 -1을 반환하는 케이스**\n",
    "\n",
    "L = [3,5,1,8,3,2,1,9]\n",
    "<p>T = 50\n",
    "<p>result = my_heap_example(L,T)\n",
    "\n",
    "<p>step1: [1,1]를 합침\n",
    "      -> [2,3,2,8,5,9,3]\n",
    "<p>step2: [2,2]을 합침\n",
    "      -> [3,3,4,8,5,9]\n",
    "<p>step3: [3,3]를 합침\n",
    "      -> [4,5,9,8,6]\n",
    "<p>step4: [4,5]을 합침\n",
    "      -> [6,8,9,9]\n",
    "<p>step5: [6,8]을 합침\n",
    "      -> [9,9,14]\n",
    "<p>step6: [9,9]을 합침\n",
    "      -> [14,18]\n",
    "<p>step6: [14,18]을 합침\n",
    "      -> [32]\n",
    "---\n",
    "result : Mission Failed"
   ]
  },
  {
   "cell_type": "code",
   "execution_count": null,
   "metadata": {},
   "outputs": [],
   "source": []
  }
 ],
 "metadata": {
  "kernelspec": {
   "display_name": "Python 3",
   "language": "python",
   "name": "python3"
  },
  "language_info": {
   "codemirror_mode": {
    "name": "ipython",
    "version": 3
   },
   "file_extension": ".py",
   "mimetype": "text/x-python",
   "name": "python",
   "nbconvert_exporter": "python",
   "pygments_lexer": "ipython3",
   "version": "3.7.9"
  }
 },
 "nbformat": 4,
 "nbformat_minor": 4
}
