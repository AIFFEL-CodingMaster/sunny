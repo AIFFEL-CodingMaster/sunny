{
 "cells": [
  {
   "cell_type": "code",
   "execution_count": 12,
   "metadata": {
    "scrolled": true
   },
   "outputs": [
    {
     "name": "stdout",
     "output_type": "stream",
     "text": [
      "2021-02-05 17:39:42.615926\n"
     ]
    }
   ],
   "source": [
    "#241. datetime 모듈을 사용해서 현재 시간을 화면에 출력해보세요.\n",
    "# datetime 모듈: https://www.daleseo.com/python-datetime/\n",
    "import datetime \n",
    "\n",
    "now = datetime.datetime.now()# 모듈>클래스>매서드=함수\n",
    "print(now)"
   ]
  },
  {
   "cell_type": "code",
   "execution_count": 13,
   "metadata": {},
   "outputs": [
    {
     "name": "stdout",
     "output_type": "stream",
     "text": [
      "<class 'datetime.datetime'>\n"
     ]
    }
   ],
   "source": [
    "#242. 현재시간의 타입: datetime 모듈의 now 함수의 리턴 값의 타입을 화면에 출력해보세요.\n",
    "\n",
    "import datetime \n",
    "\n",
    "now = datetime.datetime.now() \n",
    "print(type(now))"
   ]
  },
  {
   "cell_type": "code",
   "execution_count": 25,
   "metadata": {},
   "outputs": [
    {
     "name": "stdout",
     "output_type": "stream",
     "text": [
      "2021-01-31 18:02:55.264209\n",
      "2021-02-01 18:02:55.264209\n",
      "2021-02-02 18:02:55.264209\n",
      "2021-02-03 18:02:55.264209\n",
      "2021-02-04 18:02:55.264209\n"
     ]
    }
   ],
   "source": [
    "#243.datetime 모듈의 timedelta를 사용해서 오늘로부터 5일, 4일, 3일, 2일, 1일 전의 날짜를 화면에 출력해보세요.\n",
    "\n",
    "from datetime import timedelta\n",
    "\n",
    "now = datetime.datetime.now()\n",
    "for i in range(-5,0):\n",
    "    a = datetime.timedelta(days=i)\n",
    "    print(now+a)"
   ]
  },
  {
   "cell_type": "code",
   "execution_count": 27,
   "metadata": {},
   "outputs": [
    {
     "name": "stdout",
     "output_type": "stream",
     "text": [
      "18:06:52\n"
     ]
    }
   ],
   "source": [
    "#244. 현재시간을 얻어온 후 다음과 같은 포맷으로 시간을 출력해보세요. \n",
    "#strftime 메서드를 사용하세요.\n",
    "\n",
    "from datetime import timedelta\n",
    "\n",
    "now = datetime.datetime.now() #strftime('%Y/%m/%d')\n",
    "print(now.strftime(\"%H:%M:%S\"))"
   ]
  },
  {
   "cell_type": "code",
   "execution_count": 31,
   "metadata": {},
   "outputs": [
    {
     "name": "stdout",
     "output_type": "stream",
     "text": [
      "2021-01-01 00:00:00 <class 'datetime.datetime'>\n"
     ]
    }
   ],
   "source": [
    "#245. strptime\n",
    "#datetime.datetime.strptime 메서드를 사용하면 문자열 형식의 시간을 datetime.datetime 타입의 시간 값으로 만들어줍니다. \n",
    "#\"2020-05-04\"의 문자열을 시간 타입으로 변환해보세요.\n",
    "#strptime() 메서드는 다양한 포멧의 문자열을 datetime 객체로 변환해줍니다.\n",
    "\n",
    "import datetime\n",
    "\n",
    "day = \"2021-01-01\"\n",
    "a = datetime.datetime.strptime(day, \"%Y-%m-%d\")\n",
    "print(a, type(a))"
   ]
  },
  {
   "cell_type": "code",
   "execution_count": 20,
   "metadata": {},
   "outputs": [
    {
     "name": "stdout",
     "output_type": "stream",
     "text": [
      "0 2021-02-05 23:32:11.030049\n",
      "1 2021-02-05 23:32:12.031266\n",
      "2 2021-02-05 23:32:13.032607\n",
      "3 2021-02-05 23:32:14.033915\n",
      "4 2021-02-05 23:32:15.035244\n",
      "5 2021-02-05 23:32:16.036555\n",
      "0 2021-02-05 23:32:17.037877\n",
      "1 2021-02-05 23:32:18.039186\n",
      "2 2021-02-05 23:32:19.040502\n",
      "3 2021-02-05 23:32:20.041866\n",
      "4 2021-02-05 23:32:21.043174\n",
      "5 2021-02-05 23:32:22.044520\n",
      "0 2021-02-05 23:32:23.046532\n"
     ]
    },
    {
     "ename": "KeyboardInterrupt",
     "evalue": "",
     "output_type": "error",
     "traceback": [
      "\u001b[0;31m---------------------------------------------------------------------------\u001b[0m",
      "\u001b[0;31mKeyboardInterrupt\u001b[0m                         Traceback (most recent call last)",
      "\u001b[0;32m<ipython-input-20-ac001749c735>\u001b[0m in \u001b[0;36m<module>\u001b[0;34m\u001b[0m\n\u001b[1;32m      9\u001b[0m         \u001b[0mnow\u001b[0m \u001b[0;34m=\u001b[0m \u001b[0mdatetime\u001b[0m\u001b[0;34m.\u001b[0m\u001b[0mdatetime\u001b[0m\u001b[0;34m.\u001b[0m\u001b[0mnow\u001b[0m\u001b[0;34m(\u001b[0m\u001b[0;34m)\u001b[0m\u001b[0;34m\u001b[0m\u001b[0;34m\u001b[0m\u001b[0m\n\u001b[1;32m     10\u001b[0m         \u001b[0mprint\u001b[0m\u001b[0;34m(\u001b[0m\u001b[0mi\u001b[0m\u001b[0;34m,\u001b[0m\u001b[0mnow\u001b[0m\u001b[0;34m)\u001b[0m\u001b[0;34m\u001b[0m\u001b[0;34m\u001b[0m\u001b[0m\n\u001b[0;32m---> 11\u001b[0;31m         \u001b[0mtime\u001b[0m\u001b[0;34m.\u001b[0m\u001b[0msleep\u001b[0m\u001b[0;34m(\u001b[0m\u001b[0;36m1\u001b[0m\u001b[0;34m)\u001b[0m\u001b[0;34m\u001b[0m\u001b[0;34m\u001b[0m\u001b[0m\n\u001b[0m\u001b[1;32m     12\u001b[0m         \u001b[0;32mif\u001b[0m \u001b[0mi\u001b[0m \u001b[0;34m==\u001b[0m \u001b[0;36m5\u001b[0m\u001b[0;34m:\u001b[0m\u001b[0;34m\u001b[0m\u001b[0;34m\u001b[0m\u001b[0m\n\u001b[1;32m     13\u001b[0m             \u001b[0;32mbreak\u001b[0m\u001b[0;34m\u001b[0m\u001b[0;34m\u001b[0m\u001b[0m\n",
      "\u001b[0;31mKeyboardInterrupt\u001b[0m: "
     ]
    }
   ],
   "source": [
    "###(질문) - sleep함수는 break할 수 없나요?\n",
    "#246.sleep 함수\n",
    "#time 모듈, datetime 모듈을 사용해서 1초에 한 번 현재 시간을 출력하는 코드를 작성하세요.\n",
    "\n",
    "import datetime\n",
    "import time\n",
    "\n",
    "while True:\n",
    "    for i in range(10):\n",
    "        now = datetime.datetime.now()\n",
    "        print(i,now)\n",
    "        time.sleep(1)\n",
    "        if i == 5:\n",
    "            break"
   ]
  },
  {
   "cell_type": "markdown",
   "metadata": {},
   "source": [
    "247. 모듈 임포트\n",
    "모듈을 임포트하는 4가지 방식에 대해 설명해보세요.\n",
    "\n",
    "1. import : import는 현재 디렉터리에 있는 파일이나 파이썬 라이브러리가 저장된 디렉터리에 있는 모듈만 불러올 수 있다. \n",
    "\n",
    "2. from 모듈이름 import 모듈함수\n",
    "3. from 모듈이름 import *\n",
    "4. import 모듈이름 as 모듈함수"
   ]
  },
  {
   "cell_type": "code",
   "execution_count": 22,
   "metadata": {},
   "outputs": [
    {
     "data": {
      "text/plain": [
       "'/home/ssac15/coma/py_300'"
      ]
     },
     "execution_count": 22,
     "metadata": {},
     "output_type": "execute_result"
    }
   ],
   "source": [
    "#248.os 모듈의 getcwd 함수를 호출하여 현재 디렉터리의 경로를 화면에 출력해보세요.\n",
    "\n",
    "from os import getcwd\n",
    "getcwd()\n"
   ]
  },
  {
   "cell_type": "code",
   "execution_count": 29,
   "metadata": {},
   "outputs": [
    {
     "ename": "FileNotFoundError",
     "evalue": "[Errno 2] No such file or directory: '//home//ssac15//바탕화면//노트기록.txt' -> '//home//ssac15//바탕화면//노트.txt'",
     "output_type": "error",
     "traceback": [
      "\u001b[0;31m---------------------------------------------------------------------------\u001b[0m",
      "\u001b[0;31mFileNotFoundError\u001b[0m                         Traceback (most recent call last)",
      "\u001b[0;32m<ipython-input-29-fe56e03370f8>\u001b[0m in \u001b[0;36m<module>\u001b[0;34m\u001b[0m\n\u001b[1;32m      2\u001b[0m \u001b[0;34m\u001b[0m\u001b[0m\n\u001b[1;32m      3\u001b[0m \u001b[0;32mimport\u001b[0m \u001b[0mos\u001b[0m\u001b[0;34m\u001b[0m\u001b[0;34m\u001b[0m\u001b[0m\n\u001b[0;32m----> 4\u001b[0;31m \u001b[0mos\u001b[0m\u001b[0;34m.\u001b[0m\u001b[0mrename\u001b[0m\u001b[0;34m(\u001b[0m\u001b[0;34m\"//home//ssac15//바탕화면//노트기록.txt\"\u001b[0m\u001b[0;34m,\u001b[0m\u001b[0;34m\"//home//ssac15//바탕화면//노트.txt\"\u001b[0m\u001b[0;34m)\u001b[0m\u001b[0;34m\u001b[0m\u001b[0;34m\u001b[0m\u001b[0m\n\u001b[0m",
      "\u001b[0;31mFileNotFoundError\u001b[0m: [Errno 2] No such file or directory: '//home//ssac15//바탕화면//노트기록.txt' -> '//home//ssac15//바탕화면//노트.txt'"
     ]
    }
   ],
   "source": [
    "#249.바탕화면에 텍스트 파일을 하나 생성한 후 os 모듈의 rename 함수를 호출하여 해당 파일의 이름을 변경해보세요.\n",
    "\n",
    "import os\n",
    "os.rename(\"//home//ssac15//바탕화면//노트기록.txt\",\"//home//ssac15//바탕화면//노트.txt\")"
   ]
  },
  {
   "cell_type": "code",
   "execution_count": 31,
   "metadata": {},
   "outputs": [
    {
     "name": "stdout",
     "output_type": "stream",
     "text": [
      "0.0\n",
      "0.1\n",
      "0.2\n",
      "0.30000000000000004\n",
      "0.4\n",
      "0.5\n",
      "0.6000000000000001\n",
      "0.7000000000000001\n",
      "0.8\n",
      "0.9\n"
     ]
    }
   ],
   "source": [
    "#250. numpy 모듈의 arange 함수를 사용해서 0.0 부터 5.0까지 0.1씩 증가하는 값을 화면에 출력해보세요.\n",
    "\n",
    "import numpy as np\n",
    "\n",
    "for i  in np.arange (0,1,0.1): # 스압때문에 1로 줄임.   \n",
    "    print(i)"
   ]
  },
  {
   "cell_type": "markdown",
   "metadata": {},
   "source": [
    "#251.클래스, 객체, 인스턴스에 대해 설명해봅시다.\n",
    "\n",
    "클래스는 빵틀 같은 것이고, \n",
    "객체, 인스턴스는 빵틀에서 구워진 빵이라고 할 수 있다 \n",
    "\n",
    "아래 예제에서 \n",
    "\n",
    "class bread:\n",
    "    pass\n",
    "\n",
    "muffin = bread()\n",
    "\n",
    "일때, muffin이 객체이다. 그리고 muffin을 클래스 bread의 인스턴스라고 한다. "
   ]
  },
  {
   "cell_type": "code",
   "execution_count": 32,
   "metadata": {},
   "outputs": [],
   "source": [
    "#252.비어있는 사람 (Human) 클래스를 \"정의\" 해보세요.\n",
    "\n",
    "class human:\n",
    "    pass\n"
   ]
  },
  {
   "cell_type": "code",
   "execution_count": 40,
   "metadata": {},
   "outputs": [],
   "source": [
    "#253. 사람 (Human) 클래스의 인스턴스를 \"생성\" 하고 이를 areum 변수로 바인딩해보세요.\n",
    "\n",
    "class human:\n",
    "    pass\n",
    "\n",
    "areum = Human()\n"
   ]
  },
  {
   "cell_type": "code",
   "execution_count": 48,
   "metadata": {},
   "outputs": [
    {
     "name": "stdout",
     "output_type": "stream",
     "text": [
      "응애응애\n"
     ]
    }
   ],
   "source": [
    "#254. 사람 (Human) 클래스에 \"응애응애\"를 출력하는 생성자를 추가하세요.\n",
    "\n",
    "class Human:\n",
    "    \n",
    "    def born(self):\n",
    "        print(\"응애응애\")\n",
    "\n",
    "areum = Human()\n",
    "areum.born()   "
   ]
  },
  {
   "cell_type": "code",
   "execution_count": 60,
   "metadata": {},
   "outputs": [
    {
     "name": "stdout",
     "output_type": "stream",
     "text": [
      "내 이름은 아름 나이는 20 살, 여자 입니다.\n"
     ]
    }
   ],
   "source": [
    "#255. 사람 (Human) 클래스에 (이름, 나이, 성별)을 받는 생성자를 추가하세요.\n",
    "\n",
    "class Human():\n",
    "    \n",
    "    def a(self, name, age, sex):\n",
    "        print(\"내 이름은\", name,\"나이는\",age,\"살,\",sex,\"입니다.\")\n",
    "        \n",
    "        \n",
    "areum = Human()\n",
    "areum.a('아름',20,'여자')"
   ]
  },
  {
   "cell_type": "code",
   "execution_count": 59,
   "metadata": {},
   "outputs": [
    {
     "name": "stdout",
     "output_type": "stream",
     "text": [
      "이름:조아름\n",
      "나이:25\n",
      "성별:여자\n"
     ]
    }
   ],
   "source": [
    "#255 다른 방법\n",
    "\n",
    "class Human():\n",
    "    name = \"조아름\"\n",
    "    age = \"25\"\n",
    "    sex = \"여자\"\n",
    "    \n",
    "    def a(self):\n",
    "        print(\"이름:\"+self.name)\n",
    "        print(\"나이:\"+self.age)\n",
    "        print(\"성별:\"+self.sex)\n",
    "\n",
    "        \n",
    "areum = Human()\n",
    "\n",
    "areum.a()"
   ]
  },
  {
   "cell_type": "code",
   "execution_count": 72,
   "metadata": {},
   "outputs": [
    {
     "name": "stdout",
     "output_type": "stream",
     "text": [
      "안녕, 나는조아름,20살,여자야\n"
     ]
    }
   ],
   "source": [
    "#256. 255에서 생성한 인스턴스의 이름, 나이, 성별을 출력하세요. \n",
    "#인스턴스 변수에 접근하여 값을 출력하면 됩니다.\n",
    "#이름: 조아름, 나이: 25, 성별: 여자\n",
    "\n",
    "class Human():\n",
    "    \n",
    "    def __init__(self, name,age,sex):\n",
    "        self.name = name\n",
    "        self.age = age\n",
    "        self.sex = sex\n",
    "        \n",
    "    def say_hello(self):\n",
    "        print(\"안녕, 나는\"+self.name +\",\"+ self.age+ \"살,\" + self.sex +\"야\")\n",
    "        \n",
    "areum = Human(\"조아름\",\"20\",\"여자\")\n",
    "\n",
    "areum.say_hello()"
   ]
  },
  {
   "cell_type": "code",
   "execution_count": 75,
   "metadata": {},
   "outputs": [
    {
     "name": "stdout",
     "output_type": "stream",
     "text": [
      "조아름\n",
      "20\n",
      "여자\n"
     ]
    }
   ],
   "source": [
    "#256.\n",
    "print(areum.name)\n",
    "print(areum.age)\n",
    "print(areum.sex)"
   ]
  },
  {
   "cell_type": "code",
   "execution_count": 77,
   "metadata": {},
   "outputs": [
    {
     "name": "stdout",
     "output_type": "stream",
     "text": [
      "이름:조아름,나이:20,성별:여자\n"
     ]
    }
   ],
   "source": [
    "#257.사람 (Human) 클래스에서 이름, 나이, 성별을 출력하는 who() 메소드를 추가하세요.\n",
    "class Human():\n",
    "    \n",
    "    def __init__(self, name,age,sex):\n",
    "        self.name = name\n",
    "        self.age = age\n",
    "        self.sex = sex\n",
    "        \n",
    "    def who(self):\n",
    "        print(\"이름:\"+self.name +\",\"+ \"나이:\"+self.age+ \",\" +\"성별:\"+ self.sex )\n",
    "        \n",
    "areum = Human(\"조아름\",\"20\",\"여자\")\n",
    "\n",
    "areum.who()"
   ]
  },
  {
   "cell_type": "code",
   "execution_count": 93,
   "metadata": {},
   "outputs": [
    {
     "name": "stdout",
     "output_type": "stream",
     "text": [
      "안녕, 나는모름,미상살,모름야\n"
     ]
    }
   ],
   "source": [
    "#258.사람 (Human) 클래스에 (이름, 나이, 성별)을 받는 setInfo 메소드를 추가하세요.\n",
    "\n",
    "class Human():\n",
    "    \n",
    "    def __init__(self, name,age,sex):\n",
    "        self.name = name\n",
    "        self.age = age\n",
    "        self.sex = sex\n",
    "        \n",
    "    def who(self):\n",
    "        print(\"안녕, 나는\"+self.name +\",\"+ self.age+ \"살,\" + self.sex +\"야\")\n",
    "        \n",
    "    def setInfo(self, name,age,sex):\n",
    "        self.name = name\n",
    "        self.age = age\n",
    "        self.sex = sex\n",
    "\n",
    "areum = Human(\"모름\", \"미상\", \"모름\")\n",
    "areum.who() "
   ]
  },
  {
   "cell_type": "code",
   "execution_count": 95,
   "metadata": {},
   "outputs": [
    {
     "name": "stdout",
     "output_type": "stream",
     "text": [
      "안녕, 나는아름,25살,여자야\n"
     ]
    }
   ],
   "source": [
    "areum.setInfo(\"아름\", \"25\", \"여자\")\n",
    "areum.who() "
   ]
  },
  {
   "cell_type": "code",
   "execution_count": 86,
   "metadata": {},
   "outputs": [
    {
     "name": "stdout",
     "output_type": "stream",
     "text": [
      "나의 죽음을 알리지 말라\n"
     ]
    }
   ],
   "source": [
    "#259. 사람 (human) 클래스에 \"나의 죽음을 알리지 말라\"를 출력하는 소멸자를 추가하세요.\n",
    "class Human():\n",
    "    \n",
    "    def __init__(self, name,age,sex):\n",
    "        self.name = name\n",
    "        self.age = age\n",
    "        self.sex = sex\n",
    "        \n",
    "    def __del__(self):\n",
    "        print(\"나의 죽음을 알리지 말라\")\n",
    "    \n",
    "    def who(self):\n",
    "        print(\"안녕, 나는\"+self.name +\",\"+ self.age+ \"살,\" + self.sex +\"야\")\n",
    "        \n",
    "    def setInfo(self, name,age,sex):\n",
    "        self.name = name\n",
    "        self.age = age\n",
    "        self.sex = sex\n",
    "        \n",
    "areum = Human(\"아름\", 25, \"여자\")\n",
    "del areum "
   ]
  },
  {
   "cell_type": "code",
   "execution_count": null,
   "metadata": {},
   "outputs": [],
   "source": [
    "#260.아래와 같은 에러가 발생한 원인에 대해 설명하세요.\n",
    "* print함수에 인자가 필요함  print(mySrock)으로 바꿔야 함.\n",
    "\n",
    "class OMG : \n",
    "    def print() :\n",
    "        print(\"Oh my god\")\n",
    "\n",
    ">>> >>> myStock = OMG()\n",
    ">>> myStock.print()\n",
    "TypeError Traceback (most recent call last)\n",
    "<ipython-input-233-c85c04535b22> in <module>()\n",
    "----> myStock.print()\n",
    "\n",
    "TypeError: print() takes 0 positional arguments but 1 was given"
   ]
  },
  {
   "cell_type": "code",
   "execution_count": 3,
   "metadata": {},
   "outputs": [
    {
     "name": "stdout",
     "output_type": "stream",
     "text": [
      "비트코인\n"
     ]
    }
   ],
   "source": [
    "#261.주식 종목에 대한 정보를 저장하는 Stock 클래스를 정의해보세요. \n",
    "# 클래스는 속성과 메서드를 갖고 있지 않습니다.\n",
    "\n",
    "class Stock:\n",
    "    pass"
   ]
  },
  {
   "cell_type": "code",
   "execution_count": 101,
   "metadata": {},
   "outputs": [
    {
     "name": "stdout",
     "output_type": "stream",
     "text": [
      "삼성전자\n",
      "005930\n"
     ]
    }
   ],
   "source": [
    "#262.Stock 클래스의 객체가 생성될 때 종목명과 종목코드를 입력 받을 수 있도록 생성자를 정의해보세요.\n",
    "\n",
    "class Stock:\n",
    "    \n",
    "    def __init__(self, key, value):\n",
    "        self.key = key\n",
    "        self.value = value\n",
    "\n",
    "삼성 = Stock(\"삼성전자\", \"005930\")\n",
    "\n",
    "print(삼성.key)\n",
    "print(삼성.value)\n"
   ]
  },
  {
   "cell_type": "code",
   "execution_count": 103,
   "metadata": {},
   "outputs": [
    {
     "name": "stdout",
     "output_type": "stream",
     "text": [
      "삼성전자\n"
     ]
    }
   ],
   "source": [
    "#263.객체에 종목명을 입력할 수 있는 set_name 메서드를 추가해보세요.\n",
    "\n",
    "class Stock:\n",
    "    \n",
    "    def __init__(self, key, value):\n",
    "        self.key = key\n",
    "        self.value = value\n",
    "    \n",
    "    def set_name(self, name):\n",
    "        print(name)\n",
    "        \n",
    "a = Stock(None, None)\n",
    "a.set_name(\"삼성전자\")"
   ]
  },
  {
   "cell_type": "code",
   "execution_count": 112,
   "metadata": {},
   "outputs": [
    {
     "name": "stdout",
     "output_type": "stream",
     "text": [
      "삼성전자\n"
     ]
    }
   ],
   "source": [
    "#263. 정답과 무엇이 다른가? 출력이 동일함.\n",
    "class Stock:\n",
    "    \n",
    "    def __init__(self, key, value):\n",
    "        self.key = key\n",
    "        self.value = value\n",
    "    \n",
    "    def set_name(self, key):\n",
    "        self.key = key\n",
    "        \n",
    "        \n",
    "a = Stock(None, None)\n",
    "a.set_name(\"삼성전자\")  # Stock.set_name(a, \"삼성전자\")\n",
    "print(a.key)"
   ]
  },
  {
   "cell_type": "code",
   "execution_count": 117,
   "metadata": {},
   "outputs": [
    {
     "name": "stdout",
     "output_type": "stream",
     "text": [
      "005930\n"
     ]
    }
   ],
   "source": [
    "#264. 객체에 종목코드를 입력할 수 있는 set_code 메서드를 추가해보세요.\n",
    "class Stock:\n",
    "    \n",
    "    def __init__(self, name, code):\n",
    "        self.name = code\n",
    "        self.code = code\n",
    "    \n",
    "    def set_name(self, name):\n",
    "        self.name = name\n",
    "        \n",
    "    def set_code(self, code):\n",
    "        self.code = code\n",
    "        \n",
    "        \n",
    "a = Stock(None, None)\n",
    "a.set_code(\"005930\") \n",
    "print(a.code)"
   ]
  },
  {
   "cell_type": "code",
   "execution_count": 116,
   "metadata": {},
   "outputs": [
    {
     "name": "stdout",
     "output_type": "stream",
     "text": [
      "삼성전자\n",
      "005930\n",
      "삼성전자\n",
      "005930\n"
     ]
    }
   ],
   "source": [
    "#265.종목명과 종목코드를 리턴하는 get_name, get_code 메서드를 추가하세요. \n",
    "#해당 메서드를 사용하여 종목명과 종목코드를 얻고 이를 출력해보세요.\n",
    "\n",
    "\n",
    "\n",
    "class Stock:\n",
    "    \n",
    "    def __init__(self, name, code):\n",
    "        self.name = name\n",
    "        self.code = code\n",
    "    \n",
    "    def set_name(self, name):\n",
    "        self.name = name\n",
    "        \n",
    "    def set_code(self, code):\n",
    "        self.code = code\n",
    "        \n",
    "    def get_name(self):\n",
    "        return self.name\n",
    "    \n",
    "    def get_code(self):\n",
    "        return self.code\n",
    "\n",
    "\n",
    "삼성 = Stock(\"삼성전자\", \"005930\")\n",
    "\n",
    "print(삼성.name)\n",
    "print(삼성.code)\n",
    "print(삼성.get_name())\n",
    "print(삼성.get_code())\n"
   ]
  },
  {
   "cell_type": "code",
   "execution_count": 134,
   "metadata": {},
   "outputs": [
    {
     "name": "stdout",
     "output_type": "stream",
     "text": [
      "2.83\n"
     ]
    }
   ],
   "source": [
    "#266-267.생성자에서 종목명, 종목코드, PER, PBR, 배당수익률을 입력 받을 수 있도록 생성자를 수정하세요. PER, PBR, 배당수익률은 float 타입입니다\n",
    "\n",
    "class Stock_2:\n",
    "    \n",
    "    def __init__(self, name, code, per, pbr, ben):\n",
    "        self.name = name\n",
    "        self.code = code\n",
    "        self.per = per\n",
    "        self.pbr = pbr\n",
    "        self.ben = ben\n",
    "\n",
    "a = Stock_2(\"삼성전자\", \"005930\", 15.79, 1.33, 2.83)\n",
    "\n",
    "print(a.ben)"
   ]
  },
  {
   "cell_type": "code",
   "execution_count": 138,
   "metadata": {},
   "outputs": [
    {
     "name": "stdout",
     "output_type": "stream",
     "text": [
      "12.75\n"
     ]
    }
   ],
   "source": [
    "#268-269.PER, PBR, 배당수익률은 변경될 수 있는 값입니다. \n",
    "#이 값을 변경할 때 사용하는 set_per, set_pbr, set_dividend 메서드를 추가하세요.\n",
    "#267번에서 생성한 객체에 set_per 메서드를 호출하여 per 값을 12.75로 수정해보세요.\n",
    "\n",
    "class Stock_2:\n",
    "    \n",
    "    def __init__(self, name, code, per, pbr, ben):\n",
    "        self.name = name\n",
    "        self.code = code\n",
    "        self.per = per\n",
    "        self.pbr = pbr\n",
    "        self.ben = ben\n",
    "        \n",
    "    def set_per(self, per):\n",
    "        self.per = per\n",
    "    \n",
    "    def set_pbr(self, pbr):\n",
    "        self.pbr = pbr\n",
    "\n",
    "    def set_dividend(self, dividend):\n",
    "        self.dividend = dividend\n",
    "        \n",
    "a = Stock_2(\"삼성전자\", \"005930\", 15.79, 1.33, 2.83)\n",
    "a.set_per(12.75)\n",
    "\n",
    "print(a.per)"
   ]
  },
  {
   "cell_type": "code",
   "execution_count": 143,
   "metadata": {},
   "outputs": [
    {
     "name": "stdout",
     "output_type": "stream",
     "text": [
      "삼성전자 005930 15.79\n",
      "현대차 005980 8.7\n",
      "LG전자 066570 317.34\n"
     ]
    }
   ],
   "source": [
    "#270.아래의 표를 참조하여 3종목에 대해 객체를 생성하고 이를 파이썬 리스트에 저장하세요. \n",
    "#파이썬 리스트에 저장된 각 종목에 대해 for 루프를 통해 종목코드와 PER을 출력해보세요.\n",
    "\n",
    "class Stock_2:\n",
    "    \n",
    "    def __init__(self, name, code, per, pbr, ben):\n",
    "        self.name = name\n",
    "        self.code = code\n",
    "        self.per = per\n",
    "        self.pbr = pbr\n",
    "        self.ben = ben\n",
    "        \n",
    "    def set_per(self, per):\n",
    "        self.per = per\n",
    "    \n",
    "    def set_pbr(self, pbr):\n",
    "        self.pbr = pbr\n",
    "\n",
    "    def set_dividend(self, dividend):\n",
    "        self.dividend = dividend\n",
    "        \n",
    "title = []\n",
    "        \n",
    "samsung = Stock_2(\"삼성전자\", \"005930\", 15.79, 1.33, 2.83)\n",
    "hyundai = Stock_2(\"현대차\", \"005980\", 8.70, 0.35, 4.27)\n",
    "lg = Stock_2(\"LG전자\", \"066570\", 317.34, 0.69, 1.37)\n",
    "\n",
    "title.append(samsung)\n",
    "title.append(hyundai)\n",
    "title.append(lg)\n",
    "\n",
    "for i in title:\n",
    "    print(i.name,i.code, i.per)\n"
   ]
  },
  {
   "cell_type": "code",
   "execution_count": 11,
   "metadata": {},
   "outputs": [
    {
     "name": "stdout",
     "output_type": "stream",
     "text": [
      "sunny\n",
      "388-39-293759\n",
      "1000000000\n"
     ]
    }
   ],
   "source": [
    "#271. 은행에 가서 계좌를 개설하면 은행이름, 예금주, 계좌번호, 잔액이 설정됩니다. \n",
    "import random\n",
    "\n",
    "class Account:\n",
    "    \n",
    "    def __init__(self, name, balance):\n",
    "        self.bank = \"SC은행\"\n",
    "        self.name = name\n",
    "        self.balance = balance\n",
    "        num1 = random.randint(0, 999) \n",
    "        num2 = random.randint(0, 99)\n",
    "        num3 = random.randint(0, 999999)\n",
    "        \n",
    "        num1 = str(num1).zfill(3)\n",
    "        num2 = str(num2).zfill(2)\n",
    "        num3 = str(num3).zfill(6)\n",
    "        self.account = num1 + '-' + num2 + '-' + num3\n",
    "\n",
    "\n",
    "my_account = Account('sunny', 1000000000)\n",
    "print(my_account.name)\n",
    "print(my_account.account)\n",
    "print(my_account.balance)"
   ]
  },
  {
   "cell_type": "code",
   "execution_count": 30,
   "metadata": {},
   "outputs": [
    {
     "name": "stdout",
     "output_type": "stream",
     "text": [
      "1\n",
      "2\n"
     ]
    }
   ],
   "source": [
    "#272. 클래스 변수를 사용해서 Account 클래스로부터 생성된 계좌 객체의 개수를 저장하세요.\n",
    "\n",
    "\n",
    "import random\n",
    "\n",
    "class Account:\n",
    "    \n",
    "    #class variable\n",
    "    account_count = 0\n",
    "    \n",
    "    def __init__(self, name, balance):\n",
    "        self.bank = \"SC은행\"\n",
    "        self.name = name\n",
    "        self.balance = balance\n",
    "        num1 = random.randint(0, 999) \n",
    "        num2 = random.randint(0, 99)\n",
    "        num3 = random.randint(0, 999999)\n",
    "        \n",
    "        num1 = str(num1).zfill(3)\n",
    "        num2 = str(num2).zfill(2)\n",
    "        num3 = str(num3).zfill(6)\n",
    "        self.account = num1 + '-' + num2 + '-' + num3\n",
    "        \n",
    "        Account.account_count +=1\n",
    "        \n",
    "\n",
    "sunny = Account(\"sunny\", 100)\n",
    "print(Account.account_count)\n",
    "\n",
    "rine = Account(\"cherine\", 200)\n",
    "print(Account.account_count)\n",
    "\n"
   ]
  },
  {
   "cell_type": "code",
   "execution_count": 33,
   "metadata": {},
   "outputs": [
    {
     "name": "stdout",
     "output_type": "stream",
     "text": [
      "2\n"
     ]
    }
   ],
   "source": [
    "#273. Account 클래스로부터 생성된 계좌의 개수를 출력하는 get_account_num() 메서드를 추가하세요.\n",
    "\n",
    "import random\n",
    "\n",
    "class Account:\n",
    "    \n",
    "    #class variable\n",
    "    account_count = 0\n",
    "    \n",
    "    def __init__(self, name, balance):\n",
    "        self.bank = \"SC은행\"\n",
    "        self.name = name\n",
    "        self.balance = balance\n",
    "        num1 = random.randint(0, 999) \n",
    "        num2 = random.randint(0, 99)\n",
    "        num3 = random.randint(0, 999999)\n",
    "        \n",
    "        num1 = str(num1).zfill(3)\n",
    "        num2 = str(num2).zfill(2)\n",
    "        num3 = str(num3).zfill(6)\n",
    "        self.account = num1 + '-' + num2 + '-' + num3\n",
    "        \n",
    "        Account.account_count +=1\n",
    "        \n",
    "    @classmethod\n",
    "    def get_account_num(cls):\n",
    "        print(cls.account_count)\n",
    "        \n",
    "sunny = Account(\"sunny\", 100)\n",
    "rine = Account(\"cherine\", 200)\n",
    "\n",
    "sunny.get_account_num()"
   ]
  },
  {
   "cell_type": "code",
   "execution_count": 44,
   "metadata": {},
   "outputs": [
    {
     "name": "stdout",
     "output_type": "stream",
     "text": [
      "최소금액부터 입금이 가능합니다.\n",
      "400\n"
     ]
    }
   ],
   "source": [
    "#274. Account 클래스에 입금을 위한 deposit 메서드를 추가하세요. 입금은 최소 1원 이상만 가능합니다.\n",
    "\n",
    "\n",
    "import random\n",
    "\n",
    "class Account:\n",
    "    \n",
    "    #class variable\n",
    "    account_count = 0\n",
    "    \n",
    "    def __init__(self, name, balance):\n",
    "        self.bank = \"SC은행\"\n",
    "        self.name = name\n",
    "        self.balance = balance\n",
    "        num1 = random.randint(0, 999) \n",
    "        num2 = random.randint(0, 99)\n",
    "        num3 = random.randint(0, 999999)\n",
    "        \n",
    "        num1 = str(num1).zfill(3)\n",
    "        num2 = str(num2).zfill(2)\n",
    "        num3 = str(num3).zfill(6)\n",
    "        self.account = num1 + '-' + num2 + '-' + num3\n",
    "        \n",
    "        Account.account_count +=1\n",
    "        \n",
    "    @classmethod\n",
    "    def get_account_num(cls):\n",
    "        print(cls.account_count)\n",
    "        \n",
    "    def deposit(self, amount):\n",
    "        if amount >=1:\n",
    "            self.balance += amount\n",
    "        else:\n",
    "            print(\"최소금액부터 입금이 가능합니다.\")\n",
    "\n",
    "            \n",
    "sunny = Account(\"sunny\", 100)\n",
    "rine = Account(\"cherine\", 200)\n",
    "\n",
    "sunny.deposit(0)\n",
    "rine.deposit(200)\n",
    "print(rine.balance)"
   ]
  },
  {
   "cell_type": "code",
   "execution_count": 60,
   "metadata": {},
   "outputs": [
    {
     "name": "stdout",
     "output_type": "stream",
     "text": [
      "500\n",
      "잔고가 부족합니다.\n"
     ]
    }
   ],
   "source": [
    "#275. Account 클래스에 출금을 위한 withdraw 메서드를 추가하세요. 출금은 계좌의 잔고 이상으로 출금할 수는 없습니다.\n",
    "\n",
    "import random\n",
    "\n",
    "class Account:\n",
    "    \n",
    "    #class variable\n",
    "    account_count = 0\n",
    "    \n",
    "    def __init__(self, name, balance):\n",
    "        self.bank = \"SC은행\"\n",
    "        self.name = name\n",
    "        self.balance = balance\n",
    "        num1 = random.randint(0, 999) \n",
    "        num2 = random.randint(0, 99)\n",
    "        num3 = random.randint(0, 999999)\n",
    "        \n",
    "        num1 = str(num1).zfill(3)\n",
    "        num2 = str(num2).zfill(2)\n",
    "        num3 = str(num3).zfill(6)\n",
    "        self.account = num1 + '-' + num2 + '-' + num3\n",
    "        \n",
    "        Account.account_count +=1\n",
    "        \n",
    "    @classmethod\n",
    "    def get_account_num(cls):\n",
    "        print(cls.account_count)\n",
    "        \n",
    "    def deposit(self, amount):\n",
    "        if income >=1:\n",
    "            self.balance += amount\n",
    "        else:\n",
    "            print(\"최소금액부터 입금이 가능합니다.\")\n",
    "            \n",
    "    def withdraw(self, amount):\n",
    "        if self.balance > amount:\n",
    "            self.balance -= amount\n",
    "        else:\n",
    "            print(\"잔고가 부족합니다.\")\n",
    "\n",
    "sunny = Account(\"sunny\", 1000)\n",
    "rine = Account(\"cherine\", 500)\n",
    "\n",
    "sunny.withdraw(500)\n",
    "print(sunny.balance)  \n",
    "rine.withdraw(1000)"
   ]
  },
  {
   "cell_type": "code",
   "execution_count": 63,
   "metadata": {},
   "outputs": [
    {
     "name": "stdout",
     "output_type": "stream",
     "text": [
      "은행이름: SC은행\n",
      "예금주: 파이썬\n",
      "계좌번호: 507-74-917737\n",
      "잔고: 10000\n"
     ]
    }
   ],
   "source": [
    "#276. Account 인스턴스에 저장된 정보를 출력하는 display_info() 메서드를 추가하세요. 잔고는 세자리마다 쉼표를 출력하세요.\n",
    "\n",
    "\n",
    "import random\n",
    "\n",
    "class Account:\n",
    "    \n",
    "    #class variable\n",
    "    account_count = 0\n",
    "    \n",
    "    def __init__(self, name, balance):\n",
    "        self.bank = \"SC은행\"\n",
    "        self.name = name\n",
    "        self.balance = balance\n",
    "        num1 = random.randint(0, 999) \n",
    "        num2 = random.randint(0, 99)\n",
    "        num3 = random.randint(0, 999999)\n",
    "        \n",
    "        num1 = str(num1).zfill(3)\n",
    "        num2 = str(num2).zfill(2)\n",
    "        num3 = str(num3).zfill(6)\n",
    "        self.account = num1 + '-' + num2 + '-' + num3\n",
    "        \n",
    "        Account.account_count +=1\n",
    "        \n",
    "    @classmethod\n",
    "    def get_account_num(cls):\n",
    "        print(cls.account_count)\n",
    "        \n",
    "    def deposit(self, amount):\n",
    "        if income >=1:\n",
    "            self.balance += amount\n",
    "        else:\n",
    "            print(\"최소금액부터 입금이 가능합니다.\")\n",
    "            \n",
    "    def withdraw(self, amount):\n",
    "        if self.balance > amount:\n",
    "            self.balance -= amount\n",
    "        else:\n",
    "            print(\"잔고가 부족합니다.\")\n",
    "            \n",
    "    def display_info(self):\n",
    "        print(\"은행이름:\", self.bank)\n",
    "        print(\"예금주:\", self.name)\n",
    "        print(\"계좌번호:\", self.account)\n",
    "        print(\"잔고:\", self.balance)\n",
    "        \n",
    "someone = Account(\"파이썬\", 10000)\n",
    "someone.display_info()\n"
   ]
  },
  {
   "cell_type": "code",
   "execution_count": 79,
   "metadata": {},
   "outputs": [],
   "source": [
    "#277.입금 횟수가 5회가 될 때 잔고를 기준으로 1%의 이자가 잔고에 추가되도록 코드를 변경해보세요.\n",
    "\n",
    "import random\n",
    "\n",
    "class Account:\n",
    "    \n",
    "    #class variable\n",
    "    account_count = 0\n",
    "    \n",
    "    def __init__(self, name, balance):\n",
    "        self.deposit_count = 0\n",
    "        self.bank = \"SC은행\"\n",
    "        self.name = name\n",
    "        self.balance = balance\n",
    "        num1 = random.randint(0, 999) \n",
    "        num2 = random.randint(0, 99)\n",
    "        num3 = random.randint(0, 999999)\n",
    "        \n",
    "        num1 = str(num1).zfill(3)\n",
    "        num2 = str(num2).zfill(2)\n",
    "        num3 = str(num3).zfill(6)\n",
    "        self.account = num1 + '-' + num2 + '-' + num3\n",
    "        \n",
    "        Account.account_count +=1\n",
    "        \n",
    "    @classmethod\n",
    "    def get_account_num(cls):\n",
    "        print(cls.account_count)\n",
    "        \n",
    "    def deposit(self, amount):\n",
    "        if amount >=1:\n",
    "            self.balance += amount\n",
    "            self.deposit_count += 1\n",
    "            if deposit_count %5 == 0:\n",
    "                self.balance += self.balance*1.01\n",
    "        else:\n",
    "            print(\"최소금액부터 입금이 가능합니다.\")\n",
    "            \n",
    "    def withdraw(self, amount):\n",
    "        if self.balance > amount:\n",
    "            self.balance -= amount\n",
    "        else:\n",
    "            print(\"잔고가 부족합니다.\")\n",
    "            \n",
    "    def display_info(self):\n",
    "        print(\"은행이름:\", self.bank)\n",
    "        print(\"예금주:\", self.name)\n",
    "        print(\"계좌번호:\", self.account)\n",
    "        print(\"잔고:\", self.balance)\n",
    "        \n",
    "\n",
    "someone = Account(\"파이썬\", 10000)\n",
    "    "
   ]
  },
  {
   "cell_type": "code",
   "execution_count": 81,
   "metadata": {},
   "outputs": [
    {
     "name": "stdout",
     "output_type": "stream",
     "text": [
      "[<__main__.Account object at 0x7f65544ca190>, <__main__.Account object at 0x7f65544ca950>, <__main__.Account object at 0x7f65544caa50>]\n"
     ]
    }
   ],
   "source": [
    "#278. Account 클래스로부터 3개 이상 인스턴스를 생성하고 생성된 인스턴스를 리스트에 저장해보세요.\n",
    "\n",
    "name_list = []\n",
    "\n",
    "seo = Account(\"seo\",10000000)\n",
    "kim = Account(\"kim\",1000000)\n",
    "lee = Account(\"lee\",100000)\n",
    "\n",
    "name_list.append(seo)\n",
    "name_list.append(kim)\n",
    "name_list.append(lee)\n",
    "\n",
    "print(name_list)"
   ]
  },
  {
   "cell_type": "code",
   "execution_count": 88,
   "metadata": {},
   "outputs": [],
   "source": [
    "#279. 반복문을 통해 리스트에 있는 객체를 순회하면서 잔고가 100만원 이상인 고객의 정보만 출력하세요.\n",
    "import random\n",
    "\n",
    "class Account:\n",
    "    \n",
    "    #class variable\n",
    "    account_count = 0\n",
    "    \n",
    "    def __init__(self, name, balance):\n",
    "        self.deposit_count = 0\n",
    "        self.deposit_log = []\n",
    "        self.withdraw_log = []\n",
    "        self.bank = \"SC은행\"\n",
    "        self.name = name\n",
    "        self.balance = balance\n",
    "        num1 = random.randint(0, 999) \n",
    "        num2 = random.randint(0, 99)\n",
    "        num3 = random.randint(0, 999999)\n",
    "        \n",
    "        num1 = str(num1).zfill(3)\n",
    "        num2 = str(num2).zfill(2)\n",
    "        num3 = str(num3).zfill(6)\n",
    "        self.account = num1 + '-' + num2 + '-' + num3\n",
    "        \n",
    "        Account.account_count +=1\n",
    "        \n",
    "    @classmethod\n",
    "    def get_account_num(cls):\n",
    "        print(cls.account_count)\n",
    "        \n",
    "    def deposit(self, amount):\n",
    "        if amount >=1:\n",
    "            self.deposit_log.append(amount)\n",
    "            self.balance += amount\n",
    "            self.deposit_count += 1\n",
    "            if deposit_count %5 == 0:\n",
    "                self.balance += self.balance*1.01\n",
    "        else:\n",
    "            print(\"최소금액부터 입금이 가능합니다.\")\n",
    "            \n",
    "    def withdraw(self, amount):\n",
    "        if self.balance > amount:\n",
    "            self.withdraw_log.append(amount)\n",
    "            self.balance -= amount\n",
    "        else:\n",
    "            print(\"잔고가 부족합니다.\")\n",
    "            \n",
    "    def display_info(self):\n",
    "        print(\"은행이름:\", self.bank)\n",
    "        print(\"예금주:\", self.name)\n",
    "        print(\"계좌번호:\", self.account)\n",
    "        print(\"잔고:\", self.balance)\n",
    "    \n",
    "    def withdraw_history(self):\n",
    "        for amount in self.withdraw_log:\n",
    "            print(amount)\n",
    "    \n",
    "    def deposit_history(self):\n",
    "        for amount in self.deposit_log::\n",
    "            print(amount)\n",
    "\n",
    "        "
   ]
  },
  {
   "cell_type": "code",
   "execution_count": 87,
   "metadata": {},
   "outputs": [
    {
     "name": "stdout",
     "output_type": "stream",
     "text": [
      "은행이름: SC은행\n",
      "예금주: seo\n",
      "계좌번호: 305-13-043788\n",
      "잔고: 10000000\n",
      "None\n"
     ]
    }
   ],
   "source": [
    "name_list = []\n",
    "\n",
    "seo = Account(\"seo\",10000000)\n",
    "kim = Account(\"kim\",1000000)\n",
    "lee = Account(\"lee\",100000)\n",
    "\n",
    "name_list.append(seo)\n",
    "name_list.append(kim)\n",
    "name_list.append(lee)\n",
    "   \n",
    "\n",
    "for i in name_list:\n",
    "    if i.balance > 1000000:\n",
    "        print(i.display_info())"
   ]
  },
  {
   "cell_type": "code",
   "execution_count": 91,
   "metadata": {},
   "outputs": [],
   "source": [
    "#280. 입금과 출금 내역이 기록되도록 코드를 업데이트 하세요. 입금 내역과 출금 내역을 출력하는 deposit_history와 withdraw_history 메서드를 추가하세요.\n",
    "\n",
    "import random\n",
    "\n",
    "class Account:\n",
    "    \n",
    "    #class variable\n",
    "    account_count = 0\n",
    "    \n",
    "    def __init__(self, name, balance):\n",
    "        self.deposit_count = 0\n",
    "        self.deposit_log = []\n",
    "        self.withdraw_log = []\n",
    "        self.bank = \"SC은행\"\n",
    "        self.name = name\n",
    "        self.balance = balance\n",
    "        num1 = random.randint(0, 999) \n",
    "        num2 = random.randint(0, 99)\n",
    "        num3 = random.randint(0, 999999)\n",
    "        \n",
    "        num1 = str(num1).zfill(3)\n",
    "        num2 = str(num2).zfill(2)\n",
    "        num3 = str(num3).zfill(6)\n",
    "        self.account = num1 + '-' + num2 + '-' + num3\n",
    "        \n",
    "        Account.account_count +=1\n",
    "        \n",
    "    @classmethod\n",
    "    def get_account_num(cls):\n",
    "        print(cls.account_count)\n",
    "        \n",
    "    def deposit(self, amount):\n",
    "        if amount >=1:\n",
    "            self.deposit_log.append(amount)\n",
    "            self.balance += amount\n",
    "            self.deposit_count += 1\n",
    "            if deposit_count %5 == 0:\n",
    "                self.balance += self.balance*1.01\n",
    "        else:\n",
    "            print(\"최소금액부터 입금이 가능합니다.\")\n",
    "            \n",
    "    def withdraw(self, amount):\n",
    "        if self.balance > amount:\n",
    "            self.withdraw_log.append(amount)\n",
    "            self.balance -= amount\n",
    "        else:\n",
    "            print(\"잔고가 부족합니다.\")\n",
    "            \n",
    "    def display_info(self):\n",
    "        print(\"은행이름:\", self.bank)\n",
    "        print(\"예금주:\", self.name)\n",
    "        print(\"계좌번호:\", self.account)\n",
    "        print(\"잔고:\", self.balance)\n",
    "    \n",
    "    def withdraw_history(self):\n",
    "        for amount in self.withdraw_log:\n",
    "            print(amount)\n",
    "    \n",
    "    def deposit_history(self):\n",
    "        for amount in self.deposit_log:\n",
    "            print(amount)\n"
   ]
  },
  {
   "cell_type": "code",
   "execution_count": 92,
   "metadata": {},
   "outputs": [
    {
     "ename": "NameError",
     "evalue": "name 'deposit_count' is not defined",
     "output_type": "error",
     "traceback": [
      "\u001b[0;31m---------------------------------------------------------------------------\u001b[0m",
      "\u001b[0;31mNameError\u001b[0m                                 Traceback (most recent call last)",
      "\u001b[0;32m<ipython-input-92-8d1bc6dce26e>\u001b[0m in \u001b[0;36m<module>\u001b[0;34m\u001b[0m\n\u001b[1;32m      1\u001b[0m \u001b[0mkim\u001b[0m \u001b[0;34m=\u001b[0m \u001b[0mAccount\u001b[0m\u001b[0;34m(\u001b[0m\u001b[0;34m\"kim\"\u001b[0m\u001b[0;34m,\u001b[0m \u001b[0;36m1000\u001b[0m\u001b[0;34m)\u001b[0m\u001b[0;34m\u001b[0m\u001b[0;34m\u001b[0m\u001b[0m\n\u001b[0;32m----> 2\u001b[0;31m \u001b[0mkim\u001b[0m\u001b[0;34m.\u001b[0m\u001b[0mdeposit\u001b[0m\u001b[0;34m(\u001b[0m\u001b[0;36m100\u001b[0m\u001b[0;34m)\u001b[0m\u001b[0;34m\u001b[0m\u001b[0;34m\u001b[0m\u001b[0m\n\u001b[0m\u001b[1;32m      3\u001b[0m \u001b[0mkim\u001b[0m\u001b[0;34m.\u001b[0m\u001b[0mdeposit\u001b[0m\u001b[0;34m(\u001b[0m\u001b[0;36m100\u001b[0m\u001b[0;34m)\u001b[0m\u001b[0;34m\u001b[0m\u001b[0;34m\u001b[0m\u001b[0m\n\u001b[1;32m      4\u001b[0m \u001b[0mkim\u001b[0m\u001b[0;34m.\u001b[0m\u001b[0mdeposit\u001b[0m\u001b[0;34m(\u001b[0m\u001b[0;36m100\u001b[0m\u001b[0;34m)\u001b[0m\u001b[0;34m\u001b[0m\u001b[0;34m\u001b[0m\u001b[0m\n\u001b[1;32m      5\u001b[0m \u001b[0mkim\u001b[0m\u001b[0;34m.\u001b[0m\u001b[0mdeposit\u001b[0m\u001b[0;34m(\u001b[0m\u001b[0;36m100\u001b[0m\u001b[0;34m)\u001b[0m\u001b[0;34m\u001b[0m\u001b[0;34m\u001b[0m\u001b[0m\n",
      "\u001b[0;32m<ipython-input-91-90f23dd7f203>\u001b[0m in \u001b[0;36mdeposit\u001b[0;34m(self, amount)\u001b[0m\n\u001b[1;32m     35\u001b[0m             \u001b[0mself\u001b[0m\u001b[0;34m.\u001b[0m\u001b[0mbalance\u001b[0m \u001b[0;34m+=\u001b[0m \u001b[0mamount\u001b[0m\u001b[0;34m\u001b[0m\u001b[0;34m\u001b[0m\u001b[0m\n\u001b[1;32m     36\u001b[0m             \u001b[0mself\u001b[0m\u001b[0;34m.\u001b[0m\u001b[0mdeposit_count\u001b[0m \u001b[0;34m+=\u001b[0m \u001b[0;36m1\u001b[0m\u001b[0;34m\u001b[0m\u001b[0;34m\u001b[0m\u001b[0m\n\u001b[0;32m---> 37\u001b[0;31m             \u001b[0;32mif\u001b[0m \u001b[0mdeposit_count\u001b[0m \u001b[0;34m%\u001b[0m\u001b[0;36m5\u001b[0m \u001b[0;34m==\u001b[0m \u001b[0;36m0\u001b[0m\u001b[0;34m:\u001b[0m\u001b[0;34m\u001b[0m\u001b[0;34m\u001b[0m\u001b[0m\n\u001b[0m\u001b[1;32m     38\u001b[0m                 \u001b[0mself\u001b[0m\u001b[0;34m.\u001b[0m\u001b[0mbalance\u001b[0m \u001b[0;34m+=\u001b[0m \u001b[0mself\u001b[0m\u001b[0;34m.\u001b[0m\u001b[0mbalance\u001b[0m\u001b[0;34m*\u001b[0m\u001b[0;36m1.01\u001b[0m\u001b[0;34m\u001b[0m\u001b[0;34m\u001b[0m\u001b[0m\n\u001b[1;32m     39\u001b[0m         \u001b[0;32melse\u001b[0m\u001b[0;34m:\u001b[0m\u001b[0;34m\u001b[0m\u001b[0;34m\u001b[0m\u001b[0m\n",
      "\u001b[0;31mNameError\u001b[0m: name 'deposit_count' is not defined"
     ]
    }
   ],
   "source": [
    "kim = Account(\"kim\", 1000)\n",
    "kim.deposit(100)\n",
    "kim.deposit(100)\n",
    "kim.deposit(100)\n",
    "kim.deposit(100)\n",
    "kim.deposit(100)\n",
    "kim.deposit(100)"
   ]
  },
  {
   "cell_type": "code",
   "execution_count": 98,
   "metadata": {},
   "outputs": [
    {
     "name": "stdout",
     "output_type": "stream",
     "text": [
      "2\n",
      "1000\n"
     ]
    }
   ],
   "source": [
    "#281. 다음 코드가 동작하도록 차 클래스를 정의하세요.\n",
    "\n",
    "class 차:\n",
    "    def __init__(self, 바퀴, 가격):\n",
    "        self.바퀴 = 바퀴\n",
    "        self.가격 = 가격\n",
    "    \n",
    "    \n",
    "car = 차(2, 1000) \n",
    "\n",
    "print(car.바퀴)\n",
    "print(car.가격)\n",
    "    "
   ]
  },
  {
   "cell_type": "code",
   "execution_count": 99,
   "metadata": {},
   "outputs": [],
   "source": [
    "#282. 차 클래스를 상속받은 자전차 클래스를 정의하세요.\n",
    "\n",
    "class 자전차(차):\n",
    "    pass"
   ]
  },
  {
   "cell_type": "code",
   "execution_count": 101,
   "metadata": {},
   "outputs": [
    {
     "name": "stdout",
     "output_type": "stream",
     "text": [
      "100\n"
     ]
    }
   ],
   "source": [
    "#283. 다음 코드가 동작하도록 자전차 클래스를 정의하세요. 단 자전차 클래스는 차 클래스를 상속받습니다.\n",
    "\n",
    "\n",
    "bicycle = 자전차(2, 100)\n",
    "print(bicycle.가격)"
   ]
  },
  {
   "cell_type": "code",
   "execution_count": 122,
   "metadata": {},
   "outputs": [
    {
     "data": {
      "text/plain": [
       "'시마노'"
      ]
     },
     "execution_count": 122,
     "metadata": {},
     "output_type": "execute_result"
    }
   ],
   "source": [
    "#284. 다음 코드가 동작하도록 자전차 클래스를 정의하세요. \n",
    "#단 자전차 클래스는 차 클래스를 상속받습니다.\n",
    "\n",
    "class 자전차(차):\n",
    "    def __init__(self, 바퀴, 가격, 구동계):\n",
    "        self.바퀴 = 바퀴\n",
    "        self.가격 = 가격\n",
    "        self.구동계 = 구동계\n",
    "   \n",
    "\n",
    "bicycle = 자전차(2, 100, \"시마노\")\n",
    "bicycle.구동계"
   ]
  },
  {
   "cell_type": "code",
   "execution_count": null,
   "metadata": {},
   "outputs": [],
   "source": [
    "#284. 다른 방법\n",
    "\n",
    "class 자전차(차):\n",
    "    def __init__(self, 바퀴, 가격, 구동계):\n",
    "        super().__init__(바퀴, 가격)\n",
    "        self.구동계 = 구동계\n",
    "   \n",
    "\n",
    "bicycle = 자전차(2, 100, \"시마노\")\n",
    "bicycle.구동계"
   ]
  },
  {
   "cell_type": "code",
   "execution_count": 112,
   "metadata": {},
   "outputs": [
    {
     "name": "stdout",
     "output_type": "stream",
     "text": [
      "바퀴수: 4\n",
      "가격: 1000\n"
     ]
    }
   ],
   "source": [
    "#285. 다음 코드가 동작하도록 차 클래스를 상속받는 자동차 클래스를 정의하세요.\n",
    "class 자동차(차):\n",
    "            \n",
    "    def 정보(self):\n",
    "        print(\"바퀴수:\", self.바퀴)\n",
    "        print(\"가격:\", self.가격)\n",
    "        \n",
    "car = 자동차(4, 1000)\n",
    "car.정보()"
   ]
  },
  {
   "cell_type": "code",
   "execution_count": 118,
   "metadata": {},
   "outputs": [
    {
     "name": "stdout",
     "output_type": "stream",
     "text": [
      "바퀴수: 2\n",
      "가격: 100\n"
     ]
    }
   ],
   "source": [
    "#286. 다음 코드가 동작하도록 자전차 클래스를 수정하세요.\n",
    "\n",
    "class 자전차(차):\n",
    "    def __init__(self, 바퀴, 가격, 구동계):\n",
    "        super().__init__(바퀴, 가격)\n",
    "        self.구동계 = 구동계     \n",
    "                  \n",
    "    def 정보(self):\n",
    "        print(\"바퀴수:\", self.바퀴)\n",
    "        print(\"가격:\", self.가격)\n",
    "    \n",
    "\n",
    "bicycle = 자전차(2, 100, \"시마노\")\n",
    "bicycle.정보()"
   ]
  },
  {
   "cell_type": "code",
   "execution_count": 120,
   "metadata": {},
   "outputs": [
    {
     "name": "stdout",
     "output_type": "stream",
     "text": [
      "바퀴수: 2\n",
      "가격: 100\n"
     ]
    }
   ],
   "source": [
    "#286. 다른방법\n",
    "class 차:\n",
    "    def __init__(self, 바퀴, 가격):\n",
    "        self.바퀴 = 바퀴\n",
    "        self.가격 = 가격\n",
    "        \n",
    "    def 정보(self):\n",
    "        print(\"바퀴수:\", self.바퀴)\n",
    "        print(\"가격:\", self.가격)\n",
    "        \n",
    "class 자동차(차):\n",
    "    \n",
    "     def __init__(self, 바퀴, 가격):\n",
    "        super().__init__(바퀴, 가격)\n",
    "\n",
    "class 자전차(차):\n",
    "    def __init__(self, 바퀴, 가격, 구동계):\n",
    "        super().__init__(바퀴, 가격)\n",
    "        self.구동계 = 구동계   \n",
    "        \n",
    "bicycle = 자전차(2, 100, \"시마노\")\n",
    "bicycle.정보()"
   ]
  },
  {
   "cell_type": "code",
   "execution_count": 121,
   "metadata": {},
   "outputs": [
    {
     "name": "stdout",
     "output_type": "stream",
     "text": [
      "바퀴수: 2\n",
      "가격: 100\n",
      "구동계  시마노\n"
     ]
    }
   ],
   "source": [
    "#287.자전차의 정보() 메서드로 구동계 정보까지 출력하도록 수정해보세요.\n",
    "\n",
    "class 차:\n",
    "    def __init__(self, 바퀴, 가격):\n",
    "        self.바퀴 = 바퀴\n",
    "        self.가격 = 가격\n",
    "        \n",
    "    def 정보(self):\n",
    "        print(\"바퀴수:\", self.바퀴)\n",
    "        print(\"가격:\", self.가격)\n",
    "        \n",
    "class 자동차(차):\n",
    "    \n",
    "     def __init__(self, 바퀴, 가격):\n",
    "        super().__init__(바퀴, 가격)\n",
    "\n",
    "class 자전차(차):\n",
    "    def __init__(self, 바퀴, 가격, 구동계):\n",
    "        super().__init__(바퀴, 가격)\n",
    "        self.구동계 = 구동계  \n",
    "     \n",
    "    #override\n",
    "    def 정보(self):\n",
    "        super().정보()\n",
    "        print(\"구동계 \", self.구동계)\n",
    "        \n",
    "bicycle = 자전차(2, 100, \"시마노\")\n",
    "bicycle.정보()"
   ]
  },
  {
   "cell_type": "code",
   "execution_count": 123,
   "metadata": {},
   "outputs": [
    {
     "name": "stdout",
     "output_type": "stream",
     "text": [
      "자식호출\n"
     ]
    }
   ],
   "source": [
    "#288. 다음 코드의 실행 결과를 예상해보세요.\n",
    "\n",
    "class 부모:\n",
    "    def 호출(self):\n",
    "        print(\"부모호출\")\n",
    "\n",
    "class 자식(부모):\n",
    "    def 호출(self):\n",
    "        print(\"자식호출\")\n",
    "    \n",
    "나 = 자식()\n",
    "나.호출()\n",
    "\n",
    "#자식호출"
   ]
  },
  {
   "cell_type": "code",
   "execution_count": 124,
   "metadata": {},
   "outputs": [
    {
     "name": "stdout",
     "output_type": "stream",
     "text": [
      "자식생성\n"
     ]
    }
   ],
   "source": [
    "#289. 다음 코드의 실행 결과를 예상해보세요.\n",
    "\n",
    "class 부모:\n",
    "    def __init__(self):\n",
    "        print(\"부모생성\")\n",
    "\n",
    "class 자식(부모):\n",
    "    def __init__(self):\n",
    "        print(\"자식생성\")\n",
    "    \n",
    "    \n",
    "나 = 자식()\n",
    "#자식생성"
   ]
  },
  {
   "cell_type": "code",
   "execution_count": 125,
   "metadata": {},
   "outputs": [
    {
     "name": "stdout",
     "output_type": "stream",
     "text": [
      "자식생성\n",
      "부모생성\n"
     ]
    }
   ],
   "source": [
    "#290. 다음 코드의 실행 결과를 예상해보세요.\n",
    "\n",
    "class 부모:\n",
    "    def __init__(self):\n",
    "        print(\"부모생성\")\n",
    "\n",
    "class 자식(부모):\n",
    "    def __init__(self):\n",
    "        print(\"자식생성\")\n",
    "        super().__init__()\n",
    "\n",
    "나 = 자식()\n",
    "#부모생성"
   ]
  },
  {
   "cell_type": "code",
   "execution_count": 134,
   "metadata": {},
   "outputs": [
    {
     "ename": "TypeError",
     "evalue": "'encording' is an invalid keyword argument for open()",
     "output_type": "error",
     "traceback": [
      "\u001b[0;31m---------------------------------------------------------------------------\u001b[0m",
      "\u001b[0;31mTypeError\u001b[0m                                 Traceback (most recent call last)",
      "\u001b[0;32m<ipython-input-134-95c297c7d51d>\u001b[0m in \u001b[0;36m<module>\u001b[0;34m\u001b[0m\n\u001b[1;32m      3\u001b[0m \u001b[0;31m#파이썬 내장함수\u001b[0m\u001b[0;34m\u001b[0m\u001b[0;34m\u001b[0m\u001b[0;34m\u001b[0m\u001b[0m\n\u001b[1;32m      4\u001b[0m \u001b[0;34m\u001b[0m\u001b[0m\n\u001b[0;32m----> 5\u001b[0;31m \u001b[0mf\u001b[0m \u001b[0;34m=\u001b[0m \u001b[0mopen\u001b[0m\u001b[0;34m(\u001b[0m\u001b[0;34m\"/home/ssac15/바탕화면/매수종목1.txt\"\u001b[0m\u001b[0;34m,\u001b[0m \u001b[0mmode\u001b[0m \u001b[0;34m=\u001b[0m \u001b[0;34m\"wt\"\u001b[0m\u001b[0;34m,\u001b[0m \u001b[0mencording\u001b[0m \u001b[0;34m=\u001b[0m\u001b[0;34m\"utf-8\"\u001b[0m\u001b[0;34m)\u001b[0m\u001b[0;34m\u001b[0m\u001b[0;34m\u001b[0m\u001b[0m\n\u001b[0m\u001b[1;32m      6\u001b[0m \u001b[0;34m\u001b[0m\u001b[0m\n\u001b[1;32m      7\u001b[0m \u001b[0mf\u001b[0m\u001b[0;34m.\u001b[0m\u001b[0mwrite\u001b[0m\u001b[0;34m(\u001b[0m\u001b[0;34m\"005930\\n\"\u001b[0m\u001b[0;34m)\u001b[0m\u001b[0;34m\u001b[0m\u001b[0;34m\u001b[0m\u001b[0m\n",
      "\u001b[0;31mTypeError\u001b[0m: 'encording' is an invalid keyword argument for open()"
     ]
    }
   ],
   "source": [
    "#291.바탕화면에 '매수종목1.txt' 파일을 생성한 후 다음과 같이 종목코드를 파일에 써보세요.\n",
    "#경로 호출이 안됨. \n",
    "#파이썬 내장함수\n",
    "\n",
    "f = open(\"/home/ssac15/바탕화면/매수종목1.txt\", mode = \"wt\", encording =\"utf-8\")\n",
    "\n",
    "f.write(\"005930\\n\")\n",
    "f.write(\"005380\\n\")\n",
    "f.write(\"035420\")\n",
    "f.close()\n"
   ]
  },
  {
   "cell_type": "code",
   "execution_count": null,
   "metadata": {},
   "outputs": [],
   "source": [
    "#292.바탕화면에 '매수종목2.txt' 파일을 생성한 후 다음과 같이 종목코드와 종목명을 파일에 써보세요.\n",
    "\n",
    "##경로 지정이 안됨"
   ]
  },
  {
   "cell_type": "code",
   "execution_count": null,
   "metadata": {},
   "outputs": [],
   "source": [
    "#293.바탕화면에 '매수종목.csv' 파일을 생성한 후 다음과 같이 종목코드와 종목명을 파일에 써보세요. \n",
    "#인코딩은 'cp949'를 사용해야합니다."
   ]
  },
  {
   "cell_type": "code",
   "execution_count": 135,
   "metadata": {},
   "outputs": [
    {
     "ename": "TypeError",
     "evalue": "'encording' is an invalid keyword argument for open()",
     "output_type": "error",
     "traceback": [
      "\u001b[0;31m---------------------------------------------------------------------------\u001b[0m",
      "\u001b[0;31mTypeError\u001b[0m                                 Traceback (most recent call last)",
      "\u001b[0;32m<ipython-input-135-3a1e698be586>\u001b[0m in \u001b[0;36m<module>\u001b[0;34m\u001b[0m\n\u001b[1;32m      1\u001b[0m \u001b[0;31m#294.바탕화면에 생성한 '매수종목1.txt' 파일을 읽은 후 종목코드를 리스트에 저장해보세요.\u001b[0m\u001b[0;34m\u001b[0m\u001b[0;34m\u001b[0m\u001b[0;34m\u001b[0m\u001b[0m\n\u001b[1;32m      2\u001b[0m \u001b[0;34m\u001b[0m\u001b[0m\n\u001b[0;32m----> 3\u001b[0;31m \u001b[0mf\u001b[0m \u001b[0;34m=\u001b[0m \u001b[0mopen\u001b[0m\u001b[0;34m(\u001b[0m\u001b[0;34m\"/home/ssac15/바탕화면/매수종목1.txt\"\u001b[0m\u001b[0;34m,\u001b[0m \u001b[0mencording\u001b[0m \u001b[0;34m=\u001b[0m\u001b[0;34m\"utf-8\"\u001b[0m\u001b[0;34m)\u001b[0m\u001b[0;34m\u001b[0m\u001b[0;34m\u001b[0m\u001b[0m\n\u001b[0m",
      "\u001b[0;31mTypeError\u001b[0m: 'encording' is an invalid keyword argument for open()"
     ]
    }
   ],
   "source": [
    "#294.바탕화면에 생성한 '매수종목1.txt' 파일을 읽은 후 종목코드를 리스트에 저장해보세요.\n",
    "\n",
    "f = open(\"/home/ssac15/바탕화면/매수종목1.txt\", encording =\"utf-8\")"
   ]
  },
  {
   "cell_type": "code",
   "execution_count": null,
   "metadata": {},
   "outputs": [],
   "source": [
    "#295.바탕화면에 생성한 '매수종목2.txt' 파일을 읽은 후 종목코드와 종목명을 딕셔너리로 저장해보세요. 종목명을 key로 종목명을 value로 저장합"
   ]
  },
  {
   "cell_type": "code",
   "execution_count": 137,
   "metadata": {},
   "outputs": [
    {
     "name": "stdout",
     "output_type": "stream",
     "text": [
      "10.31\n",
      "0\n",
      "8.0\n"
     ]
    }
   ],
   "source": [
    "#296.문자열 PER (Price to Earning Ratio) 값을 실수로 변환할 때 에러가 발생합니다.\n",
    "# 예외처리를 통해 에러가 발생하는 PER은 0으로 출력하세요.\n",
    "\n",
    "per = [\"10.31\", \"\", \"8.00\"]\n",
    "\n",
    "for i in per:\n",
    "    \n",
    "    try:\n",
    "        print(float(i))\n",
    "    except:\n",
    "        print(0)"
   ]
  },
  {
   "cell_type": "code",
   "execution_count": 139,
   "metadata": {},
   "outputs": [
    {
     "name": "stdout",
     "output_type": "stream",
     "text": [
      "0\n",
      "[10.31, 10.31, 8.0]\n",
      "<class 'list'>\n"
     ]
    }
   ],
   "source": [
    "#297.문자열로 표현된 PER 값을 실수로 변환한 후 이를 새로운 리스트에 저장해보세요.\n",
    "\n",
    "per = [\"10.31\", \"\", \"8.00\"]\n",
    "\n",
    "new_per = []\n",
    "\n",
    "for i in per:\n",
    "    \n",
    "    try:\n",
    "        a = float(i)\n",
    "    except:\n",
    "        print(0)\n",
    "    \n",
    "    new_per.append(a)\n",
    "\n",
    "print(new_per)\n",
    "print(type(new_per))"
   ]
  },
  {
   "cell_type": "code",
   "execution_count": 141,
   "metadata": {},
   "outputs": [
    {
     "name": "stdout",
     "output_type": "stream",
     "text": [
      "잘못된 접근 입니다.\n"
     ]
    }
   ],
   "source": [
    "#298.어떤 값을 0으로 나누면 ZeroDivisionError 에러가 발생합니다. \n",
    "# try ~ except로 모든 에러에 대해 예외처리하지 말고 ZeroDivisionError 에러만 예외처리해보세요.\n",
    "\n",
    "\n",
    "try:\n",
    "    num = 3 / 0\n",
    "except ZeroDivisionError:\n",
    "    print(\"잘못된 접근 입니다.\")"
   ]
  },
  {
   "cell_type": "code",
   "execution_count": 149,
   "metadata": {},
   "outputs": [
    {
     "name": "stdout",
     "output_type": "stream",
     "text": [
      "1\n",
      "2\n",
      "3\n",
      "list index out of range\n",
      "list index out of range\n"
     ]
    }
   ],
   "source": [
    "#299.다음과 같은 코드 구조를 사용하면 예외 발생 시 에러 메시지를 변수로 바인딩할 수 있습니다.\n",
    "\n",
    "#try:\n",
    " #   실행코드\n",
    "#except 예외 as 변수:\n",
    " #   예외처리코드 \n",
    "    \n",
    "#리스트의 인덱싱에 대해 에러를 출력해보세요.\n",
    "\n",
    "\n",
    "data = [1, 2, 3]\n",
    "\n",
    "for i in range(5):\n",
    "    try:\n",
    "        print(data[i])\n",
    "    except IndexError as e:\n",
    "        print(e)"
   ]
  },
  {
   "cell_type": "code",
   "execution_count": 154,
   "metadata": {},
   "outputs": [
    {
     "name": "stdout",
     "output_type": "stream",
     "text": [
      "10.31\n",
      "bye\n",
      "진짜 안녕\n",
      "could not convert string to float: \n",
      "진짜 안녕\n",
      "8.0\n",
      "bye\n",
      "진짜 안녕\n"
     ]
    }
   ],
   "source": [
    "#300.try, except, else, finally 구조 사용해보기\n",
    "#파이썬 예외처리는 다음과 같은 구조를 가질 수 있습니다.\n",
    "#아래의 코드에 대해서 예외처리를 사용하고 try, except, else, finally에 적당한 코드를 작성해봅시다. \n",
    "# else와 finally는 적당한 문구를 print하시면 됩니다.\n",
    "\n",
    "per = [\"10.31\", \"\", \"8.00\"]\n",
    "\n",
    "for i in per:\n",
    "    try:\n",
    "        print(float(i))\n",
    "    except ValueError as e:\n",
    "        print(e)\n",
    "    else:\n",
    "        print(\"bye\")\n",
    "    finally:\n",
    "        print(\"진짜 안녕\")\n",
    "   "
   ]
  }
 ],
 "metadata": {
  "kernelspec": {
   "display_name": "Python 3",
   "language": "python",
   "name": "python3"
  },
  "language_info": {
   "codemirror_mode": {
    "name": "ipython",
    "version": 3
   },
   "file_extension": ".py",
   "mimetype": "text/x-python",
   "name": "python",
   "nbconvert_exporter": "python",
   "pygments_lexer": "ipython3",
   "version": "3.7.9"
  }
 },
 "nbformat": 4,
 "nbformat_minor": 4
}
