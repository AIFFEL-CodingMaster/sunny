{
 "cells": [
  {
   "cell_type": "markdown",
   "metadata": {},
   "source": [
    "#### 함수 만들기"
   ]
  },
  {
   "cell_type": "code",
   "execution_count": 40,
   "metadata": {},
   "outputs": [
    {
     "name": "stdout",
     "output_type": "stream",
     "text": [
      "15\n"
     ]
    }
   ],
   "source": [
    "def sumTotal(a, b):\n",
    "    total = 0\n",
    "    for i in range(a, b + 1):\n",
    "        total = total + i\n",
    "    return total\n",
    "    \n",
    "c = sumTotal(1, 5)\n",
    "print(c)  "
   ]
  },
  {
   "cell_type": "markdown",
   "metadata": {},
   "source": [
    "함수()\n",
    "* return 값이 변수로 들어감\n",
    "변수 = 함수(input)"
   ]
  },
  {
   "cell_type": "code",
   "execution_count": 44,
   "metadata": {},
   "outputs": [
    {
     "name": "stdout",
     "output_type": "stream",
     "text": [
      "1\n",
      "<class 'int'>\n",
      "1\n",
      "<class 'str'>\n"
     ]
    }
   ],
   "source": [
    "# input과 output이 있는 함수\n",
    "number = 1\n",
    "\n",
    "def int_to_str(num):\n",
    "    string_num = str(num)\n",
    "    return string_num\n",
    "\n",
    "string_number = int_to_str(number)\n",
    "print(number)\n",
    "print(type(number))\n",
    "print(string_number)\n",
    "print(type(string_number)) # 함수를 써서 숫자가 문자형으로 변함"
   ]
  },
  {
   "cell_type": "markdown",
   "metadata": {},
   "source": [
    "#### 파이썬에서의 랜덤(random)\n",
    "random 모듈의 random() 함수를 호출했더니 복잡한 숫자를 돌려주네요.\n",
    "\n",
    "* randrange() random.randrange(1,7)\n",
    "* random()  0 이상 1 미만의 숫자 중에서 아무 숫자나 하나 뽑아서 돌려주는 일\n",
    "* shuffle() 순서형 자료(sequence)를 뒤죽박죽으로 섞어놓는 함수\n",
    "* choice()  아무 원소나 하나 뽑아주는"
   ]
  },
  {
   "cell_type": "code",
   "execution_count": 45,
   "metadata": {},
   "outputs": [
    {
     "data": {
      "text/plain": [
       "0.7731037853929676"
      ]
     },
     "execution_count": 45,
     "metadata": {},
     "output_type": "execute_result"
    }
   ],
   "source": [
    "#* random()  0 이상 1 미만의 숫자 중에서 아무 숫자나 하나 뽑아서 돌려주는 일\n",
    "import random\n",
    "\n",
    "random.random()"
   ]
  },
  {
   "cell_type": "code",
   "execution_count": 47,
   "metadata": {},
   "outputs": [
    {
     "data": {
      "text/plain": [
       "2"
      ]
     },
     "execution_count": 47,
     "metadata": {},
     "output_type": "execute_result"
    }
   ],
   "source": [
    "# randrange() random.randrange(1,7)\n",
    "random.randrange(1, 7)\n",
    "#1~6 중에 랜덤으로 뽑아줌"
   ]
  },
  {
   "cell_type": "code",
   "execution_count": 48,
   "metadata": {},
   "outputs": [
    {
     "data": {
      "text/plain": [
       "['e', 'd', 'a', 'c', 'b']"
      ]
     },
     "execution_count": 48,
     "metadata": {},
     "output_type": "execute_result"
    }
   ],
   "source": [
    "#shuffle() 순서형 자료(sequence)를 뒤죽박죽으로 섞어놓는 함수\n",
    "abc = ['a', 'b', 'c', 'd', 'e']\n",
    "random.shuffle(abc)\n",
    "abc\n"
   ]
  },
  {
   "cell_type": "code",
   "execution_count": 53,
   "metadata": {},
   "outputs": [
    {
     "data": {
      "text/plain": [
       "'비빔밥'"
      ]
     },
     "execution_count": 53,
     "metadata": {},
     "output_type": "execute_result"
    }
   ],
   "source": [
    "menu = '쫄면', '육계장', '비빔밥'\n",
    "random.choice(menu)"
   ]
  },
  {
   "cell_type": "code",
   "execution_count": 57,
   "metadata": {},
   "outputs": [
    {
     "data": {
      "text/plain": [
       "False"
      ]
     },
     "execution_count": 57,
     "metadata": {},
     "output_type": "execute_result"
    }
   ],
   "source": [
    "random.choice([True, False])"
   ]
  },
  {
   "cell_type": "code",
   "execution_count": 59,
   "metadata": {},
   "outputs": [
    {
     "data": {
      "text/plain": [
       "0.13364052393374942"
      ]
     },
     "execution_count": 59,
     "metadata": {},
     "output_type": "execute_result"
    }
   ],
   "source": [
    "# output만 있는 함수\n",
    "import random # 랜덤 모듈을 가져옴\n",
    "\n",
    "def random_float():\n",
    "    randint_1 = random.randint(0,999999) #0~999998 까지 랜덤하게 숫자1개\n",
    "    randint_2 = random.randint(0,999999)\n",
    "    return randint_1 / randint_2\n",
    "random_float()"
   ]
  },
  {
   "cell_type": "code",
   "execution_count": 60,
   "metadata": {},
   "outputs": [
    {
     "data": {
      "text/plain": [
       "8"
      ]
     },
     "execution_count": 60,
     "metadata": {},
     "output_type": "execute_result"
    }
   ],
   "source": [
    "import numpy as np #random모듈은 np와 함께 사용할 수 있다. \n",
    "\n",
    "np.random.randint(10)"
   ]
  },
  {
   "cell_type": "code",
   "execution_count": 61,
   "metadata": {},
   "outputs": [
    {
     "data": {
      "text/plain": [
       "array([ 0.85669651,  1.35820406, -0.97101843, -1.03196813, -0.64809952])"
      ]
     },
     "execution_count": 61,
     "metadata": {},
     "output_type": "execute_result"
    }
   ],
   "source": [
    "#randn(m, n) : 평균0, 표준편차 1의 가우시안 표준정규분포 난수를 matrix array(m.n) 생성\n",
    "\n",
    "np.random.randn(5) "
   ]
  },
  {
   "cell_type": "code",
   "execution_count": 62,
   "metadata": {},
   "outputs": [
    {
     "data": {
      "text/plain": [
       "array([[-1.95462035, -0.14183504, -1.51591008, -0.11872357, -0.44385066],\n",
       "       [ 0.84265943, -0.44990592,  1.19892753, -0.39595348, -0.63225638]])"
      ]
     },
     "execution_count": 62,
     "metadata": {},
     "output_type": "execute_result"
    }
   ],
   "source": [
    "np.random.randn(2,5) #랜덤하게 2x3"
   ]
  },
  {
   "cell_type": "code",
   "execution_count": 63,
   "metadata": {},
   "outputs": [
    {
     "name": "stdout",
     "output_type": "stream",
     "text": [
      "SUNNY\n"
     ]
    }
   ],
   "source": [
    "# input / output이 없는 함수\n",
    "\n",
    "def print_my_name():\n",
    "    print(\"SUNNY\")\n",
    "\n",
    "print_my_name()"
   ]
  },
  {
   "cell_type": "markdown",
   "metadata": {},
   "source": [
    "### 함수의 세계 - 비함수의 세계"
   ]
  },
  {
   "cell_type": "markdown",
   "metadata": {},
   "source": [
    "함수의 인자값과 함수안에서 처음 생기는 변수는 함수 밖의 세계에 전혀 영향을 미치지 않음\n",
    "함수 안에 생긴 변수를 '지역변수'\n",
    "함수 밖에 변수를 '전역변수'\n",
    "전역변수는 지역변수에 영향을 미칠 수 있음"
   ]
  },
  {
   "cell_type": "code",
   "execution_count": 64,
   "metadata": {},
   "outputs": [
    {
     "name": "stdout",
     "output_type": "stream",
     "text": [
      "['난', '전', '역', '변', '수']\n",
      "['난', '전', '역', '변', '수', '난', '지', '역', '변', '수']\n"
     ]
    }
   ],
   "source": [
    "# 전역변수 \n",
    "난전역변수 = [\"난\",\"전\",\"역\",\"변\",\"수\"]\n",
    "\n",
    "def check():\n",
    "    # 지역변수\n",
    "    난지역변수 = [\"난\",\"지\",\"역\",\"변\",\"수\"]\n",
    "    난두개더한거 = 난전역변수 + 난지역변수\n",
    "    # 두 개 더한거 return할게요\n",
    "    return 난두개더한거\n",
    "\n",
    "check = check()\n",
    "print(난전역변수) # 전역변수에는 영향을 주지 않음.\n",
    "print(check)"
   ]
  },
  {
   "cell_type": "markdown",
   "metadata": {},
   "source": [
    "### 인자의 특징"
   ]
  },
  {
   "cell_type": "markdown",
   "metadata": {},
   "source": [
    "* 인자를 여러개 넣어 줄 수 있음\n",
    "* default값을 정해줄 수 있음"
   ]
  },
  {
   "cell_type": "code",
   "execution_count": 66,
   "metadata": {},
   "outputs": [
    {
     "name": "stdout",
     "output_type": "stream",
     "text": [
      "써니짱\n"
     ]
    }
   ],
   "source": [
    "# 단어와 단어를 결합해주는 함수\n",
    "def merge_word(a, b):\n",
    "    word = a +b\n",
    "    return word\n",
    "word = merge_word(\"써니\", \"짱\")\n",
    "print(word)"
   ]
  },
  {
   "cell_type": "code",
   "execution_count": 67,
   "metadata": {},
   "outputs": [
    {
     "name": "stdout",
     "output_type": "stream",
     "text": [
      "150\n"
     ]
    }
   ],
   "source": [
    "# 하지만 인자 a, b의 타입이 정해져있지 않아요\n",
    "# 그 말은 ? 문자가 아닐 수도 있다 ??\n",
    "word = merge_word(100, 50)\n",
    "print(word)"
   ]
  },
  {
   "cell_type": "code",
   "execution_count": 70,
   "metadata": {},
   "outputs": [
    {
     "name": "stdout",
     "output_type": "stream",
     "text": [
      "나랑놀자\n"
     ]
    }
   ],
   "source": [
    "# 어라? 난 문자만 되게 하고 싶은데?\n",
    "\n",
    "def merge_word(a = \"기본\", b=\"단어\"):\n",
    "    word = a + b\n",
    "    return word\n",
    "# 기본값이 정해져 있기 때문에 아무것도 넣지 않을 수 있음\n",
    "word = merge_word('나랑', '놀자')\n",
    "print(word)"
   ]
  },
  {
   "cell_type": "code",
   "execution_count": 71,
   "metadata": {},
   "outputs": [
    {
     "ename": "TypeError",
     "evalue": "a와 b는 문자여야 합니다",
     "output_type": "error",
     "traceback": [
      "\u001b[0;31m---------------------------------------------------------------------------\u001b[0m",
      "\u001b[0;31mTypeError\u001b[0m                                 Traceback (most recent call last)",
      "\u001b[0;32m<ipython-input-71-23a296292bfe>\u001b[0m in \u001b[0;36m<module>\u001b[0;34m\u001b[0m\n\u001b[1;32m      9\u001b[0m     \u001b[0;32mreturn\u001b[0m \u001b[0mword\u001b[0m\u001b[0;34m\u001b[0m\u001b[0;34m\u001b[0m\u001b[0m\n\u001b[1;32m     10\u001b[0m \u001b[0;34m\u001b[0m\u001b[0m\n\u001b[0;32m---> 11\u001b[0;31m \u001b[0mword\u001b[0m \u001b[0;34m=\u001b[0m \u001b[0mmerge_word\u001b[0m\u001b[0;34m(\u001b[0m\u001b[0;36m1\u001b[0m\u001b[0;34m,\u001b[0m\u001b[0;36m2\u001b[0m\u001b[0;34m)\u001b[0m\u001b[0;34m\u001b[0m\u001b[0;34m\u001b[0m\u001b[0m\n\u001b[0m\u001b[1;32m     12\u001b[0m \u001b[0mprint\u001b[0m\u001b[0;34m(\u001b[0m\u001b[0mword\u001b[0m\u001b[0;34m)\u001b[0m\u001b[0;34m\u001b[0m\u001b[0;34m\u001b[0m\u001b[0m\n",
      "\u001b[0;32m<ipython-input-71-23a296292bfe>\u001b[0m in \u001b[0;36mmerge_word\u001b[0;34m(a, b)\u001b[0m\n\u001b[1;32m      6\u001b[0m         \u001b[0;31m#https://wayhome25.github.io/python/2017/02/26/py-12-exception/\u001b[0m\u001b[0;34m\u001b[0m\u001b[0;34m\u001b[0m\u001b[0;34m\u001b[0m\u001b[0m\n\u001b[1;32m      7\u001b[0m         \u001b[0;31m#점프투파이썬: https://wikidocs.net/30\u001b[0m\u001b[0;34m\u001b[0m\u001b[0;34m\u001b[0m\u001b[0;34m\u001b[0m\u001b[0m\n\u001b[0;32m----> 8\u001b[0;31m         \u001b[0;32mraise\u001b[0m \u001b[0mTypeError\u001b[0m\u001b[0;34m(\u001b[0m\u001b[0;34m\"a와 b는 문자여야 합니다\"\u001b[0m\u001b[0;34m)\u001b[0m\u001b[0;34m\u001b[0m\u001b[0;34m\u001b[0m\u001b[0m\n\u001b[0m\u001b[1;32m      9\u001b[0m     \u001b[0;32mreturn\u001b[0m \u001b[0mword\u001b[0m\u001b[0;34m\u001b[0m\u001b[0;34m\u001b[0m\u001b[0m\n\u001b[1;32m     10\u001b[0m \u001b[0;34m\u001b[0m\u001b[0m\n",
      "\u001b[0;31mTypeError\u001b[0m: a와 b는 문자여야 합니다"
     ]
    }
   ],
   "source": [
    "# 이렇게 만들어 줄 수 있다.\n",
    "def merge_word(a = \"기본\", b=\"단어\"):\n",
    "    word = a + b\n",
    "    if type(word) != str:\n",
    "        # 올바른 값을 넣지 않으면 에러를 발생시키고 적당한 문구를 표시한다.\n",
    "        #https://wayhome25.github.io/python/2017/02/26/py-12-exception/\n",
    "        #점프투파이썬: https://wikidocs.net/30\n",
    "        raise TypeError(\"a와 b는 문자여야 합니다\") \n",
    "    return word\n",
    "\n",
    "word = merge_word(1,2)\n",
    "print(word)"
   ]
  },
  {
   "cell_type": "code",
   "execution_count": 72,
   "metadata": {},
   "outputs": [],
   "source": [
    "# 이건 몰라도 됩니다 - 추후에 배울 것\n",
    "# 이런 것도 있다 경험\n",
    "# 데코레이터 : 함수를 꾸며주는 함수\n",
    "def 난데코레이터(함수):\n",
    "    def decorator(*args):\n",
    "        print(\"Hellow ~\")\n",
    "        리턴함수 = 함수(*args)\n",
    "        return 리턴함수\n",
    "    return decorator"
   ]
  },
  {
   "cell_type": "code",
   "execution_count": 73,
   "metadata": {},
   "outputs": [],
   "source": [
    "@난데코레이터\n",
    "def 난함수(a, b):\n",
    "    c = a * b\n",
    "    return c"
   ]
  },
  {
   "cell_type": "code",
   "execution_count": 74,
   "metadata": {},
   "outputs": [
    {
     "name": "stdout",
     "output_type": "stream",
     "text": [
      "Hellow ~\n"
     ]
    },
    {
     "data": {
      "text/plain": [
       "2"
      ]
     },
     "execution_count": 74,
     "metadata": {},
     "output_type": "execute_result"
    }
   ],
   "source": [
    "난함수(1,2)"
   ]
  },
  {
   "cell_type": "markdown",
   "metadata": {},
   "source": [
    "#### 퀴즈 풀면서 공부한 내용"
   ]
  },
  {
   "cell_type": "markdown",
   "metadata": {},
   "source": [
    "##### python에서  * 표현이 어떤 용도로 사용하는지"
   ]
  },
  {
   "cell_type": "code",
   "execution_count": 77,
   "metadata": {},
   "outputs": [
    {
     "name": "stdout",
     "output_type": "stream",
     "text": [
      "2\n",
      "4\n"
     ]
    }
   ],
   "source": [
    "#곱셈과 거듭제곱\n",
    "\n",
    "a = 1 * 2 \n",
    "b = 2 ** 2 \n",
    "\n",
    "print(a)\n",
    "print(b)"
   ]
  },
  {
   "cell_type": "code",
   "execution_count": 85,
   "metadata": {},
   "outputs": [
    {
     "name": "stdout",
     "output_type": "stream",
     "text": [
      "list:[1, 1, 1, 1, 1, 1, 1, 1, 1, 1]\n"
     ]
    }
   ],
   "source": [
    "#리스트 확장\n",
    "test = [1]*10\n",
    "print('list:{}'.format(test))"
   ]
  },
  {
   "cell_type": "code",
   "execution_count": 86,
   "metadata": {},
   "outputs": [
    {
     "name": "stdout",
     "output_type": "stream",
     "text": [
      "tuple:(1, 1, 1, 1, 1, 1, 1, 1, 1, 1)\n"
     ]
    }
   ],
   "source": [
    "#튜플 확장\n",
    "test = (1,)*10\n",
    "print('tuple:{}'.format(test))"
   ]
  },
  {
   "cell_type": "code",
   "execution_count": 87,
   "metadata": {},
   "outputs": [
    {
     "name": "stdout",
     "output_type": "stream",
     "text": [
      "('a', 'b')\n",
      "{'a': 100, 'b': 200}\n"
     ]
    }
   ],
   "source": [
    "#가변인자 :임의의 함수에 인자로 몇개의 데이터가 들어올지 모르게 되는 경우에 사용하면 편리\n",
    "\n",
    "def args_function(*args):\n",
    "    print(args)\n",
    "\n",
    "def kwargs_function(**kwargs):\n",
    "    print(kwargs)\n",
    "    \n",
    "args_function('a', 'b') # ('a', 'b')\n",
    "kwargs_function(a = 100, b = 200) # {'a':100, 'b':200}"
   ]
  },
  {
   "cell_type": "code",
   "execution_count": 88,
   "metadata": {},
   "outputs": [
    {
     "name": "stdout",
     "output_type": "stream",
     "text": [
      "1 2 3 4\n",
      "5 6 7 8\n"
     ]
    }
   ],
   "source": [
    "#Unpacking  결과부분을 출력할 때, for-lopp를 이용하여 list를 순회하며 출력하는 경우\n",
    "\n",
    "\n",
    "# list unpacking\n",
    "test = [1, 2, 3, 4]\n",
    "print(*test) # 1 2 3 4\n",
    "\n",
    "# tuple unpacking\n",
    "test = (5, 6, 7, 8)\n",
    "print(*test) # 5 6 7 8"
   ]
  },
  {
   "cell_type": "code",
   "execution_count": null,
   "metadata": {},
   "outputs": [],
   "source": []
  },
  {
   "cell_type": "code",
   "execution_count": null,
   "metadata": {},
   "outputs": [],
   "source": []
  },
  {
   "cell_type": "code",
   "execution_count": null,
   "metadata": {},
   "outputs": [],
   "source": []
  }
 ],
 "metadata": {
  "kernelspec": {
   "display_name": "Python 3",
   "language": "python",
   "name": "python3"
  },
  "language_info": {
   "codemirror_mode": {
    "name": "ipython",
    "version": 3
   },
   "file_extension": ".py",
   "mimetype": "text/x-python",
   "name": "python",
   "nbconvert_exporter": "python",
   "pygments_lexer": "ipython3",
   "version": "3.7.9"
  }
 },
 "nbformat": 4,
 "nbformat_minor": 4
}
