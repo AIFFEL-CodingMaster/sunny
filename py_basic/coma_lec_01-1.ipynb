{
 "cells": [
  {
   "cell_type": "markdown",
   "metadata": {},
   "source": [
    "#### 개인 프로필로 변수 만들어보기"
   ]
  },
  {
   "cell_type": "code",
   "execution_count": 9,
   "metadata": {},
   "outputs": [
    {
     "name": "stdout",
     "output_type": "stream",
     "text": [
      "이름: 서윤선 \n",
      "영문이름: SEO YUN SUN\n",
      "전화번호:\t 010-1234-1234\n"
     ]
    }
   ],
   "source": [
    "name = '서윤선' \n",
    "eng_name = 'SEO YUN SUN'\n",
    "phone_number = '010-1234-1234'\n",
    "# 추가적으로 더 만들고 싶은 변수 생성\n",
    "\n",
    "# print 도 해보기\n",
    "# \\n을 사용하여 한 줄 띄우고 출력\n",
    "print(f'이름: {name} \\n영문이름: {eng_name}')\n",
    "# \\t를 사용하여 몇 칸 띄우고 출력\n",
    "print(f'전화번호:\\t {phone_number}')"
   ]
  },
  {
   "cell_type": "markdown",
   "metadata": {},
   "source": [
    "#### 숫자&문자"
   ]
  },
  {
   "cell_type": "code",
   "execution_count": 13,
   "metadata": {},
   "outputs": [
    {
     "name": "stdout",
     "output_type": "stream",
     "text": [
      "number_1은 : 1\n",
      "number_1의 type:  <class 'int'>\n",
      "number_2는 : 1.0\n",
      "number_1의 type:  <class 'float'>\n"
     ]
    }
   ],
   "source": [
    "number_1 = 1 \n",
    "number_2 = 1.0\n",
    "\n",
    "print(\"number_1은 :\",number_1)\n",
    "print(\"number_1의 type: \", type(number_1))\n",
    "print(\"number_2는 :\",number_2)\n",
    "print(\"number_1의 type: \", type(number_2))"
   ]
  },
  {
   "cell_type": "code",
   "execution_count": 14,
   "metadata": {},
   "outputs": [
    {
     "name": "stdout",
     "output_type": "stream",
     "text": [
      "string_1의 type:  <class 'str'>\n",
      "string_2의 type:  <class 'str'>\n",
      "string_3의 type:  <class 'str'>\n",
      "string_4의 type:  <class 'str'>\n"
     ]
    }
   ],
   "source": [
    "#'', \"\"로 숫자, 영어, 기호 등 어떤 것도 문자열로 표현할 수 있다.\n",
    "string_1 = \"가나다라마바사\"\n",
    "string_2 = 'abcdefg'\n",
    "string_3 = \"가나ab다라cd\"\n",
    "string_4 = '!@#!#!#%%asdafd123123'\n",
    "\n",
    "print(\"string_1의 type: \", type(string_1))\n",
    "print(\"string_2의 type: \", type(string_2))\n",
    "print(\"string_3의 type: \", type(string_3))\n",
    "print(\"string_4의 type: \", type(string_4))"
   ]
  },
  {
   "cell_type": "code",
   "execution_count": 15,
   "metadata": {},
   "outputs": [
    {
     "name": "stdout",
     "output_type": "stream",
     "text": [
      "abcdefgh\n",
      "abcd efgh ijkl\n"
     ]
    }
   ],
   "source": [
    "# 한 줄 출력 end는 공백도 출력할 수 있다.\n",
    "print('abcd', end=\"\")\n",
    "print('efgh')\n",
    "# 한 칸 띄우고 출력\n",
    "print(\"abcd\", end=\" \")\n",
    "print(\"efgh\", end=\" \")\n",
    "print(\"ijkl\")"
   ]
  },
  {
   "cell_type": "code",
   "execution_count": 28,
   "metadata": {},
   "outputs": [
    {
     "name": "stdout",
     "output_type": "stream",
     "text": [
      "1.23\n",
      "3.14\n",
      "--------------\n",
      "Hello sunny\n",
      "--------------\n",
      "오늘은 2021년 JAN 14일 입니다.\n"
     ]
    }
   ],
   "source": [
    "# 2자리 - 3 번째 자리에서 반올림\n",
    "print(\"%.2f\" % 1.23456789)\n",
    "# 변수명으로 넣기\n",
    "pi = 3.141592\n",
    "print(\"%.2f\" %pi)\n",
    "\n",
    "print(\"--------------\")\n",
    "#%f(실수), %s(문자), %d(정수)를 사용하여 출력하기도 확인 할 것.  \n",
    "name = 'sunny'\n",
    "print(\"Hello %s\" %(name))\n",
    "\n",
    "print(\"--------------\")\n",
    "year = 2021\n",
    "month = 'JAN'\n",
    "day = 14\n",
    "print('오늘은 %d년 %s %d일 입니다.'%(year,month,day))"
   ]
  },
  {
   "cell_type": "code",
   "execution_count": 34,
   "metadata": {},
   "outputs": [
    {
     "name": "stdout",
     "output_type": "stream",
     "text": [
      "나는 10시에 집에 간다\n",
      "나는 10시에 집에 간다\n",
      "나는 10시에 집에 간다\n",
      "--------------\n",
      "새싹들은 오늘 각자의 집에서 깨어나기 위해 열심히 코딩을 했다.\n"
     ]
    }
   ],
   "source": [
    "#format\n",
    "\n",
    "when = 10\n",
    "where = \"집\"\n",
    "print(\"나는 %d시에 %s에 간다\"%(when,where)) # %d: digit %s: string\n",
    "print(\"나는 {}시에 {}에 간다\".format(when,where)) # {}안에 format(변수)를 출력\n",
    "print(f\"나는 {when}시에 {where}에 간다\") # {변수} 출력\n",
    "print(\"--------------\")\n",
    "# f\"\" 을 사용해서 출력해보기\n",
    "when=\"오늘\"\n",
    "where=\"집에서\"\n",
    "why=\"깨어나기 위해\"\n",
    "\n",
    "print(f'새싹들은 {when} 각자의 {where} {why} 열심히 코딩을 했다.')"
   ]
  },
  {
   "cell_type": "markdown",
   "metadata": {},
   "source": [
    "#### 산술연산자"
   ]
  },
  {
   "cell_type": "code",
   "execution_count": 37,
   "metadata": {},
   "outputs": [
    {
     "name": "stdout",
     "output_type": "stream",
     "text": [
      "12\n",
      "8\n",
      "20\n",
      "5.0\n",
      "<class 'float'>\n",
      "--------------\n",
      "0\n"
     ]
    }
   ],
   "source": [
    "# 사칙연산을 허용함.\n",
    "a = 10\n",
    "b = 2\n",
    "print(a + b)\n",
    "print(a - b)\n",
    "print(a * b)\n",
    "print(a / b)\n",
    "print(type(a/b))\n",
    "print(\"--------------\")\n",
    "# % : 나머지를 구하는 것\n",
    "# a를 b로 나누었을 때 나머지\n",
    "print(a % b)"
   ]
  },
  {
   "cell_type": "code",
   "execution_count": 69,
   "metadata": {},
   "outputs": [
    {
     "name": "stdout",
     "output_type": "stream",
     "text": [
      "5\n",
      "5\n"
     ]
    }
   ],
   "source": [
    "# // : 몫을 구하는 것 : 무조건 정수형태로 나타남\n",
    "a = 10\n",
    "b = 2\n",
    "print(a // b)\n",
    "a = 11 # a를 11로 바꾸면?\n",
    "print(a // b)"
   ]
  },
  {
   "cell_type": "code",
   "execution_count": 71,
   "metadata": {},
   "outputs": [
    {
     "name": "stdout",
     "output_type": "stream",
     "text": [
      "숫자를 입력해주세요:6\n",
      "짝수\n"
     ]
    }
   ],
   "source": [
    "#num = int(input(\"정수 하나를 입력하세요 : \"))형태 익히기\n",
    "\n",
    "a = int(input(\"숫자를 입력해주세요:\"))\n",
    "\n",
    "if a % 2 == 0: # 짝수\n",
    "     print('짝수') \n",
    "else : #홀수\n",
    "     print('홀수')"
   ]
  },
  {
   "cell_type": "code",
   "execution_count": 136,
   "metadata": {},
   "outputs": [
    {
     "name": "stdout",
     "output_type": "stream",
     "text": [
      "짝수 입니다\n",
      "홀수 입니다\n",
      "짝수 입니다\n",
      "홀수 입니다\n",
      "짝수 입니다\n",
      "홀수 입니다\n",
      "짝수 입니다\n",
      "홀수 입니다\n",
      "짝수 입니다\n",
      "홀수 입니다\n",
      "짝수 입니다\n"
     ]
    }
   ],
   "source": [
    "# if a % 2 == 0: # 짝수\n",
    "# if a % 2 != 0: # 홀수\n",
    "\n",
    "for i in range(0, 11):\n",
    "  if i % 2 == 0:\n",
    "    print(\"짝수 입니다\")\n",
    "  if i % 2 != 0:\n",
    "    print(\"홀수 입니다\")"
   ]
  },
  {
   "cell_type": "code",
   "execution_count": 91,
   "metadata": {},
   "outputs": [
    {
     "name": "stdout",
     "output_type": "stream",
     "text": [
      "[0, 0, 0, 0, 0, 0, 0, 0, 0, 0]\n"
     ]
    }
   ],
   "source": [
    "# 많이 본 코드 중에 해보고 싶엇던 것 (반복문으로 리스트 만들기)\n",
    "#코딩도장 반복문으로 리스트 만들기 살짝 예습\n",
    "a = [] #빈 리스트 생성\n",
    "for i in range(10):\n",
    "    a.append(0)    # append로 요소 추가\n",
    "print(a)"
   ]
  },
  {
   "cell_type": "code",
   "execution_count": 92,
   "metadata": {},
   "outputs": [
    {
     "name": "stdout",
     "output_type": "stream",
     "text": [
      "[0]\n",
      "[0, 0]\n",
      "[0, 0, 0]\n",
      "[0, 0, 0, 0]\n",
      "[0, 0, 0, 0, 0]\n",
      "[0, 0, 0, 0, 0, 0]\n",
      "[0, 0, 0, 0, 0, 0, 0]\n",
      "[0, 0, 0, 0, 0, 0, 0, 0]\n",
      "[0, 0, 0, 0, 0, 0, 0, 0, 0]\n",
      "[0, 0, 0, 0, 0, 0, 0, 0, 0, 0]\n"
     ]
    }
   ],
   "source": [
    "a = [] #빈 리스트 생성\n",
    "for i in range(10):\n",
    "    a.append(0)    # append로 요소 추가\n",
    "    print(a)"
   ]
  },
  {
   "cell_type": "code",
   "execution_count": 96,
   "metadata": {},
   "outputs": [
    {
     "name": "stdout",
     "output_type": "stream",
     "text": [
      "[0]\n",
      "[0, 0]\n",
      "[0, 0, 0]\n",
      "[0, 0, 0, 0]\n",
      "[0, 0, 0, 0, 0]\n",
      "[0, 0, 0, 0, 0, 0]\n",
      "[0, 0, 0, 0, 0, 0, 0]\n"
     ]
    }
   ],
   "source": [
    "a = [] #빈 리스트 생성\n",
    "for i in range(3,10):\n",
    "    a.append(0)    # append로 요소 추가\n",
    "    print(a)"
   ]
  },
  {
   "cell_type": "code",
   "execution_count": 117,
   "metadata": {},
   "outputs": [
    {
     "name": "stdout",
     "output_type": "stream",
     "text": [
      "[1]\n",
      "[1, 2]\n",
      "[1, 2, 3]\n",
      "[1, 2, 3, 4]\n",
      "[1, 2, 3, 4, 5]\n",
      "[1, 2, 3, 4, 5, 6]\n",
      "[1, 2, 3, 4, 5, 6, 7]\n",
      "[1, 2, 3, 4, 5, 6, 7, 8]\n",
      "[1, 2, 3, 4, 5, 6, 7, 8, 9]\n",
      "[1, 2, 3, 4, 5, 6, 7, 8, 9, 10]\n"
     ]
    }
   ],
   "source": [
    "a = []\n",
    "for i in range(0,10):\n",
    "    a.append(i+1)\n",
    "    print(a)\n",
    "    \n",
    "#a라는 1~10까지의 요소가 할당된 리스트를 for문으로 만들고 싶은데.. 계속 안됨. "
   ]
  },
  {
   "cell_type": "code",
   "execution_count": 126,
   "metadata": {},
   "outputs": [
    {
     "name": "stdout",
     "output_type": "stream",
     "text": [
      "[0, 1, 2, 3, 4, 5, 6, 7, 8, 9]\n"
     ]
    }
   ],
   "source": [
    "a= list(range(0,10))\n",
    "print(a)"
   ]
  },
  {
   "cell_type": "markdown",
   "metadata": {},
   "source": [
    "#### 변수와 산술연산자와 출력을 이용해서 구구단을 뽑아볼까?"
   ]
  },
  {
   "cell_type": "code",
   "execution_count": 74,
   "metadata": {},
   "outputs": [
    {
     "name": "stdout",
     "output_type": "stream",
     "text": [
      "<class 'pandas.core.frame.DataFrame'>\n"
     ]
    }
   ],
   "source": [
    "import pandas as pd # 데이터 프레임 pd이용\n",
    "data_frame = pd.DataFrame()\n",
    "print(type(data_frame))"
   ]
  },
  {
   "cell_type": "code",
   "execution_count": 75,
   "metadata": {},
   "outputs": [
    {
     "name": "stdout",
     "output_type": "stream",
     "text": [
      "숫자를 입력해주세요3\n",
      "3단\n",
      "3 x 1 = 3\n",
      "3 x 2 = 6\n",
      "3 x 3 = 9\n",
      "3 x 4 = 12\n",
      "3 x 5 = 15\n",
      "3 x 6 = 18\n",
      "3 x 7 = 21\n",
      "3 x 8 = 24\n",
      "3 x 9 = 27\n"
     ]
    }
   ],
   "source": [
    "num = int(input(\"숫자를 입력해주세요\"))\n",
    "# input은 사용자에게 변수를 입력 받는 것\n",
    "print(f\"{num}단\")\n",
    "print(f'{num} x 1 = {num*1}')\n",
    "print(f'{num} x 2 = {num*2}')\n",
    "print(f'{num} x 3 = {num*3}')\n",
    "print(f'{num} x 4 = {num*4}')\n",
    "print(f'{num} x 5 = {num*5}')\n",
    "print(f'{num} x 6 = {num*6}')\n",
    "print(f'{num} x 7 = {num*7}')\n",
    "print(f'{num} x 8 = {num*8}')\n",
    "print(f'{num} x 9 = {num*9}')\n"
   ]
  },
  {
   "cell_type": "code",
   "execution_count": 100,
   "metadata": {},
   "outputs": [
    {
     "name": "stdout",
     "output_type": "stream",
     "text": [
      "2단\n",
      "2 x0 = 0\n",
      "2 x1 = 2\n",
      "2 x2 = 4\n",
      "2 x3 = 6\n",
      "2 x4 = 8\n",
      "2 x5 = 10\n",
      "2 x6 = 12\n",
      "2 x7 = 14\n",
      "2 x8 = 16\n",
      "2 x9 = 18\n"
     ]
    }
   ],
   "source": [
    "#for문의 이용한 구구단\n",
    "print('2단')\n",
    "for i in range(0,10): #1~9\n",
    "    print(f\"2 x{i} = {2*i}\")"
   ]
  },
  {
   "cell_type": "code",
   "execution_count": 142,
   "metadata": {},
   "outputs": [
    {
     "name": "stdout",
     "output_type": "stream",
     "text": [
      ":: 2단 ::\n",
      "2 x 1 = 2\n",
      "2 x 2 = 4\n",
      "2 x 3 = 6\n",
      "2 x 4 = 8\n",
      "2 x 5 = 10\n",
      "2 x 6 = 12\n",
      "2 x 7 = 14\n",
      "2 x 8 = 16\n",
      "2 x 9 = 18\n",
      "----------\n",
      ":: 3단 ::\n",
      "3 x 1 = 3\n",
      "3 x 2 = 6\n",
      "3 x 3 = 9\n",
      "3 x 4 = 12\n",
      "3 x 5 = 15\n",
      "3 x 6 = 18\n",
      "3 x 7 = 21\n",
      "3 x 8 = 24\n",
      "3 x 9 = 27\n",
      "----------\n",
      ":: 4단 ::\n",
      "4 x 1 = 4\n",
      "4 x 2 = 8\n",
      "4 x 3 = 12\n",
      "4 x 4 = 16\n",
      "4 x 5 = 20\n",
      "4 x 6 = 24\n",
      "4 x 7 = 28\n",
      "4 x 8 = 32\n",
      "4 x 9 = 36\n",
      "----------\n",
      ":: 5단 ::\n",
      "5 x 1 = 5\n",
      "5 x 2 = 10\n",
      "5 x 3 = 15\n",
      "5 x 4 = 20\n",
      "5 x 5 = 25\n",
      "5 x 6 = 30\n",
      "5 x 7 = 35\n",
      "5 x 8 = 40\n",
      "5 x 9 = 45\n",
      "----------\n",
      ":: 6단 ::\n",
      "6 x 1 = 6\n",
      "6 x 2 = 12\n",
      "6 x 3 = 18\n",
      "6 x 4 = 24\n",
      "6 x 5 = 30\n",
      "6 x 6 = 36\n",
      "6 x 7 = 42\n",
      "6 x 8 = 48\n",
      "6 x 9 = 54\n",
      "----------\n",
      ":: 7단 ::\n",
      "7 x 1 = 7\n",
      "7 x 2 = 14\n",
      "7 x 3 = 21\n",
      "7 x 4 = 28\n",
      "7 x 5 = 35\n",
      "7 x 6 = 42\n",
      "7 x 7 = 49\n",
      "7 x 8 = 56\n",
      "7 x 9 = 63\n",
      "----------\n",
      ":: 8단 ::\n",
      "8 x 1 = 8\n",
      "8 x 2 = 16\n",
      "8 x 3 = 24\n",
      "8 x 4 = 32\n",
      "8 x 5 = 40\n",
      "8 x 6 = 48\n",
      "8 x 7 = 56\n",
      "8 x 8 = 64\n",
      "8 x 9 = 72\n",
      "----------\n",
      ":: 9단 ::\n",
      "9 x 1 = 9\n",
      "9 x 2 = 18\n",
      "9 x 3 = 27\n",
      "9 x 4 = 36\n",
      "9 x 5 = 45\n",
      "9 x 6 = 54\n",
      "9 x 7 = 63\n",
      "9 x 8 = 72\n",
      "9 x 9 = 81\n",
      "----------\n"
     ]
    }
   ],
   "source": [
    "for dan in range(2,10):\n",
    "    print(f':: {dan}단 ::')  # 몇단인지 표시\n",
    "    for i in range(1, 10):\n",
    "        print(f'{dan} x {i} = {dan * i}')\n",
    "    print('-'*10)  #한개의 단이 끝나면 구분선"
   ]
  }
 ],
 "metadata": {
  "kernelspec": {
   "display_name": "Python 3",
   "language": "python",
   "name": "python3"
  },
  "language_info": {
   "codemirror_mode": {
    "name": "ipython",
    "version": 3
   },
   "file_extension": ".py",
   "mimetype": "text/x-python",
   "name": "python",
   "nbconvert_exporter": "python",
   "pygments_lexer": "ipython3",
   "version": "3.7.6"
  }
 },
 "nbformat": 4,
 "nbformat_minor": 4
}
