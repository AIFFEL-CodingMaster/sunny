{
 "cells": [
  {
   "cell_type": "markdown",
   "metadata": {},
   "source": [
    "## Part1_마지막 강의\n",
    "\n",
    "### Module\n",
    "* 다양한 클래스, 함수 등이 작성되어 있는 파이썬 코드 파일, .py\n",
    "\n",
    "### package\n",
    "* 모듈들이 모이면 패키지가 됨\n",
    "\n",
    "### library\n",
    "* 패키지가 모여서 라이브러리가 됨\n",
    "\n",
    "> ex) sklearn 라이브러리안에 ensemble 모델을 다루는 패키지가 있고 그 패키지안에 모델을 학습하는 모듈, 테스트하는 모듈 등이 있죠\n",
    "> 필요한 모든 코드를 우리가 다 만들 수 없기 때문에 필요한 라이브러리를 설치하고 import하여 사용하면 되는 것"
   ]
  },
  {
   "cell_type": "code",
   "execution_count": 3,
   "metadata": {},
   "outputs": [],
   "source": [
    "# import 하는 법\n",
    "# pandas 라이브러리 import\n",
    "import pandas"
   ]
  },
  {
   "cell_type": "code",
   "execution_count": 4,
   "metadata": {},
   "outputs": [
    {
     "data": {
      "text/plain": [
       "'1.1.4'"
      ]
     },
     "execution_count": 4,
     "metadata": {},
     "output_type": "execute_result"
    }
   ],
   "source": [
    "pandas.__version__"
   ]
  },
  {
   "cell_type": "code",
   "execution_count": 5,
   "metadata": {},
   "outputs": [],
   "source": [
    "# 하지만 pandas 타자로치기 길다 -> 무려 5글자\n",
    "# alias를 사용해서 줄이자 -> \"\"\"as\"\"\" 로 표현할 수 있음\n",
    "# as 뒤에 내가 쓰고 싶은 아무거나\n",
    "import pandas as pd"
   ]
  },
  {
   "cell_type": "code",
   "execution_count": 6,
   "metadata": {},
   "outputs": [
    {
     "data": {
      "text/plain": [
       "'1.1.4'"
      ]
     },
     "execution_count": 6,
     "metadata": {},
     "output_type": "execute_result"
    }
   ],
   "source": [
    "pd.__version__"
   ]
  },
  {
   "cell_type": "code",
   "execution_count": 7,
   "metadata": {},
   "outputs": [],
   "source": [
    "# 나는 pd가 싫다면? -> 아무거나 쓰면됨\n",
    "import pandas as dp"
   ]
  },
  {
   "cell_type": "code",
   "execution_count": 8,
   "metadata": {},
   "outputs": [
    {
     "data": {
      "text/plain": [
       "'1.1.4'"
      ]
     },
     "execution_count": 8,
     "metadata": {},
     "output_type": "execute_result"
    }
   ],
   "source": [
    "dp.__version__"
   ]
  },
  {
   "cell_type": "code",
   "execution_count": null,
   "metadata": {},
   "outputs": [],
   "source": [
    "# 아무거나 2\n",
    "# alias는 다르지만 다 똑같은 라이브러리\n",
    "import pandas as minchae"
   ]
  },
  {
   "cell_type": "code",
   "execution_count": null,
   "metadata": {},
   "outputs": [],
   "source": [
    "minchae.__version__"
   ]
  },
  {
   "cell_type": "code",
   "execution_count": 9,
   "metadata": {},
   "outputs": [],
   "source": [
    "# 라이브러리를 불러올 때 \n",
    "import os \n",
    "import sys\n",
    "# 이렇게 불러올 수 있지만\n",
    "import os, sys\n",
    "# 이렇게도 할 수 있습니다"
   ]
  },
  {
   "cell_type": "code",
   "execution_count": 11,
   "metadata": {},
   "outputs": [
    {
     "data": {
      "text/plain": [
       "'/home/ssac15/coma/py_basic'"
      ]
     },
     "execution_count": 11,
     "metadata": {},
     "output_type": "execute_result"
    }
   ],
   "source": [
    "# 앞에 라이브러리 선언없이 그냥 쓸 수 있죠\n",
    "# 현재 경로 출력\n",
    "os.getcwd()"
   ]
  },
  {
   "cell_type": "code",
   "execution_count": 12,
   "metadata": {},
   "outputs": [
    {
     "name": "stdout",
     "output_type": "stream",
     "text": [
      "/home/ssac15/coma/py_basic\n",
      "<class 'str'>\n"
     ]
    }
   ],
   "source": [
    "print(os.getcwd())\n",
    "print(type(os.getcwd()))"
   ]
  },
  {
   "cell_type": "markdown",
   "metadata": {},
   "source": [
    "* (참고) 타입이 str이면 하나의 object로 사용할 수 있다. \n",
    "이런 특성을 이용햐서 문자열을 추가로 더할 수 있다.\n",
    "<br>path와 path_new 변수에 각각 현재 경로와 현재경로+'/pics'를 할당</br>"
   ]
  },
  {
   "cell_type": "code",
   "execution_count": 13,
   "metadata": {},
   "outputs": [
    {
     "name": "stdout",
     "output_type": "stream",
     "text": [
      "/home/ssac15/coma/py_basic\n",
      "/home/ssac15/coma/py_basic/pics\n"
     ]
    }
   ],
   "source": [
    "# 새로운 경로 쉽게 만들기\n",
    "path = os.getcwd()\n",
    "path_new = os.getcwd() + '/pics'\n",
    "\n",
    "print(path)\n",
    "print(path_new)"
   ]
  },
  {
   "cell_type": "code",
   "execution_count": 14,
   "metadata": {},
   "outputs": [
    {
     "name": "stdout",
     "output_type": "stream",
     "text": [
      "/home/ssac15/coma/py_basic\r\n"
     ]
    }
   ],
   "source": [
    "# 현재 디렉토리를 확인할 수 있는 또 다른 명령어는 `!pwd`이다.\n",
    "#터미널로 연결하여 확인하는 방법 '!\" == 쥬피터 노트북에서 가능\n",
    "!pwd"
   ]
  },
  {
   "cell_type": "code",
   "execution_count": 17,
   "metadata": {},
   "outputs": [
    {
     "data": {
      "text/plain": [
       "['rsp2.py',\n",
       " '.ipynb_checkpoints',\n",
       " 'coma_lec_01-2.ipynb',\n",
       " 'coma_lec_02.ipynb',\n",
       " 'coma_lec_01-1.ipynb',\n",
       " 'coma_lec_03.ipynb',\n",
       " 'coma_lec_05.ipynb',\n",
       " 'coma_lec_04.ipynb']"
      ]
     },
     "execution_count": 17,
     "metadata": {},
     "output_type": "execute_result"
    }
   ],
   "source": [
    "# 경로에 있는 파일 또는 폴더 출력하기\n",
    "os.listdir(path)"
   ]
  },
  {
   "cell_type": "code",
   "execution_count": 18,
   "metadata": {},
   "outputs": [
    {
     "name": "stdout",
     "output_type": "stream",
     "text": [
      "rsp2.py\n"
     ]
    }
   ],
   "source": [
    "# 경로 내에 특정 파일 확장자를 출력하고 싶다면 아래와 같이 시도해보자!\n",
    "\n",
    "for i in os.listdir(path):\n",
    "    if i.endswith('py'):\n",
    "        print(i)\n",
    "        \n",
    "#endswith('확장자'): '확장자'로 끝나는 파일 찾기. 예시) 'jpg'라면 파일 이름 끝이 'jpg' 인 파일이면 True 반환"
   ]
  },
  {
   "cell_type": "code",
   "execution_count": 19,
   "metadata": {},
   "outputs": [
    {
     "data": {
      "text/plain": [
       "'/home/ssac15'"
      ]
     },
     "execution_count": 19,
     "metadata": {},
     "output_type": "execute_result"
    }
   ],
   "source": [
    "#환경 변수 출력\n",
    "os.getenv('HOME')"
   ]
  },
  {
   "cell_type": "code",
   "execution_count": 25,
   "metadata": {},
   "outputs": [
    {
     "name": "stdout",
     "output_type": "stream",
     "text": [
      "/home/ssac15\n",
      "/home/ssac15\n",
      "<class 'str'>\n"
     ]
    }
   ],
   "source": [
    "print(os.getenv('HOME'))\n",
    "print(os.environ['HOME'])\n",
    "print(type(os.environ['HOME']))\n",
    "\n",
    "# 운영 체제에 등록되어 있는 모든 환경 변수는 os 모듈의 environ이라는 속성을 통해서 접근이 가능\n",
    "# 둘 다 동일한 출력이며 데이터 타입이 'string'이므로 경로 설정시 사용할 수 있다!"
   ]
  },
  {
   "cell_type": "code",
   "execution_count": 26,
   "metadata": {},
   "outputs": [],
   "source": [
    "# 라이브러리 안에서 모든 것을 다 뽑아오고 싶다면 ''' * ''' 을 쓰세요\n",
    "from os import *"
   ]
  },
  {
   "cell_type": "code",
   "execution_count": 27,
   "metadata": {},
   "outputs": [],
   "source": [
    "\n",
    "# os의 모든 것을 다 가져왔습니다\n",
    "chdir(\"../../..\")"
   ]
  },
  {
   "cell_type": "code",
   "execution_count": 28,
   "metadata": {},
   "outputs": [
    {
     "data": {
      "text/plain": [
       "['ssac15']"
      ]
     },
     "execution_count": 28,
     "metadata": {},
     "output_type": "execute_result"
    }
   ],
   "source": [
    "listdir()"
   ]
  },
  {
   "cell_type": "code",
   "execution_count": 29,
   "metadata": {},
   "outputs": [
    {
     "data": {
      "text/plain": [
       "'..'"
      ]
     },
     "execution_count": 29,
     "metadata": {},
     "output_type": "execute_result"
    }
   ],
   "source": [
    "pardir"
   ]
  },
  {
   "cell_type": "code",
   "execution_count": 30,
   "metadata": {},
   "outputs": [
    {
     "data": {
      "text/plain": [
       "'.'"
      ]
     },
     "execution_count": 30,
     "metadata": {},
     "output_type": "execute_result"
    }
   ],
   "source": [
    "curdir"
   ]
  },
  {
   "cell_type": "markdown",
   "metadata": {},
   "source": [
    "**개인이 만든 모듈(.py)이 있다면 똑같이 import로 불러오면 됩니다, 다만 경로를 잘 맞춰야겠죠\n",
    "경로확인 할 때 os.getcwd() 로 현재 경로를 확인하고 같은 디렉토리안에 .py를 넣어주면 import 를 할 수 있습니다**"
   ]
  },
  {
   "cell_type": "markdown",
   "metadata": {},
   "source": [
    "## Try & Except"
   ]
  },
  {
   "cell_type": "code",
   "execution_count": 31,
   "metadata": {},
   "outputs": [],
   "source": [
    "def error_print():\n",
    "    print(a)"
   ]
  },
  {
   "cell_type": "code",
   "execution_count": 32,
   "metadata": {},
   "outputs": [
    {
     "name": "stdout",
     "output_type": "stream",
     "text": [
      "a\n"
     ]
    }
   ],
   "source": [
    "try:\n",
    "    error_print()\n",
    "except:\n",
    "    print(\"a\")"
   ]
  },
  {
   "cell_type": "code",
   "execution_count": 33,
   "metadata": {},
   "outputs": [
    {
     "name": "stdout",
     "output_type": "stream",
     "text": [
      "0으로 나눌 수 없음\n",
      "division by zero\n"
     ]
    }
   ],
   "source": [
    "try:\n",
    "    10 / 0\n",
    "except ZeroDivisionError as e:\n",
    "    print(\"0으로 나눌 수 없음\")\n",
    "    print(e)"
   ]
  },
  {
   "cell_type": "code",
   "execution_count": 34,
   "metadata": {},
   "outputs": [
    {
     "name": "stdout",
     "output_type": "stream",
     "text": [
      "에러없음\n",
      "에러없음\n"
     ]
    }
   ],
   "source": [
    "try:\n",
    "    10 / 1\n",
    "    print(\"에러없음\")\n",
    "except ZeroDivisionError as e:\n",
    "    print(\"0으로 나눌 수 없음\")\n",
    "else:\n",
    "    print(\"에러없음\")"
   ]
  },
  {
   "cell_type": "code",
   "execution_count": null,
   "metadata": {},
   "outputs": [],
   "source": [
    "try:\n",
    "    10 / 1\n",
    "    print(\"에러없음\")\n",
    "except ZeroDivisionError as e:\n",
    "    print(\"0으로 나눌 수 없음\")"
   ]
  },
  {
   "cell_type": "markdown",
   "metadata": {},
   "source": [
    "## for + list\n",
    "\n",
    "* list 안에 for문"
   ]
  },
  {
   "cell_type": "code",
   "execution_count": null,
   "metadata": {},
   "outputs": [],
   "source": [
    "# somethings 안에서 하나씩 꺼내서 리스트 안에 넣자\n",
    "_list = [i for i in somethings]"
   ]
  },
  {
   "cell_type": "code",
   "execution_count": 35,
   "metadata": {},
   "outputs": [
    {
     "name": "stdout",
     "output_type": "stream",
     "text": [
      "[1, 2, 3, 4, 5, 6, 7, 8, 9, 10, 11, 12, 13, 14, 15, 16, 17, 18, 19, 20, 21, 22, 23, 24, 25, 26, 27, 28, 29, 30, 31, 32, 33, 34, 35, 36, 37, 38, 39, 40, 41, 42, 43, 44, 45, 46, 47, 48, 49, 50, 51, 52, 53, 54, 55, 56, 57, 58, 59, 60, 61, 62, 63, 64, 65, 66, 67, 68, 69, 70, 71, 72, 73, 74, 75, 76, 77, 78, 79, 80, 81, 82, 83, 84, 85, 86, 87, 88, 89, 90, 91, 92, 93, 94, 95, 96, 97, 98, 99, 100]\n"
     ]
    }
   ],
   "source": [
    "# 활용\n",
    "# 1 부터 100까지 원소를 가지는 리스트 생성\n",
    "one_to_hundred = [ i for i in range(1,101)]\n",
    "print(one_to_hundred)"
   ]
  },
  {
   "cell_type": "code",
   "execution_count": 36,
   "metadata": {},
   "outputs": [
    {
     "name": "stdout",
     "output_type": "stream",
     "text": [
      "[100, 99, 98, 97, 96, 95, 94, 93, 92, 91, 90, 89, 88, 87, 86, 85, 84, 83, 82, 81, 80, 79, 78, 77, 76, 75, 74, 73, 72, 71, 70, 69, 68, 67, 66, 65, 64, 63, 62, 61, 60, 59, 58, 57, 56, 55, 54, 53, 52, 51, 50, 49, 48, 47, 46, 45, 44, 43, 42, 41, 40, 39, 38, 37, 36, 35, 34, 33, 32, 31, 30, 29, 28, 27, 26, 25, 24, 23, 22, 21, 20, 19, 18, 17, 16, 15, 14, 13, 12, 11, 10, 9, 8, 7, 6, 5, 4, 3, 2, 1]\n"
     ]
    }
   ],
   "source": [
    "# 거꾸로 100 부터 1까지\n",
    "hundred_to_one = [ i for i in range(100,0,-1)]\n",
    "print(hundred_to_one)"
   ]
  },
  {
   "cell_type": "code",
   "execution_count": 37,
   "metadata": {},
   "outputs": [
    {
     "name": "stdout",
     "output_type": "stream",
     "text": [
      "[2, 4, 6, 8, 10, 12, 14, 16, 18, 20, 22, 24, 26, 28, 30, 32, 34, 36, 38, 40, 42, 44, 46, 48, 50, 52, 54, 56, 58, 60, 62, 64, 66, 68, 70, 72, 74, 76, 78, 80, 82, 84, 86, 88, 90, 92, 94, 96, 98, 100]\n"
     ]
    }
   ],
   "source": [
    "# 1부터 100까지 중에 짝수만\n",
    "짝수만 = [ i for i in one_to_hundred if i % 2 == 0]\n",
    "print(짝수만)"
   ]
  },
  {
   "cell_type": "code",
   "execution_count": 38,
   "metadata": {},
   "outputs": [
    {
     "name": "stdout",
     "output_type": "stream",
     "text": [
      "['x', 2, 'x', 4, 'x', 6, 'x', 8, 'x', 10, 'x', 12, 'x', 14, 'x', 16, 'x', 18, 'x', 20, 'x', 22, 'x', 24, 'x', 26, 'x', 28, 'x', 30, 'x', 32, 'x', 34, 'x', 36, 'x', 38, 'x', 40, 'x', 42, 'x', 44, 'x', 46, 'x', 48, 'x', 50, 'x', 52, 'x', 54, 'x', 56, 'x', 58, 'x', 60, 'x', 62, 'x', 64, 'x', 66, 'x', 68, 'x', 70, 'x', 72, 'x', 74, 'x', 76, 'x', 78, 'x', 80, 'x', 82, 'x', 84, 'x', 86, 'x', 88, 'x', 90, 'x', 92, 'x', 94, 'x', 96, 'x', 98, 'x', 100]\n"
     ]
    }
   ],
   "source": [
    "# 짝수가 아니면 \"x\"\n",
    "짝수가아니면_x= [ i if i % 2 ==0 else \"x\" for i in one_to_hundred ]\n",
    "print(짝수가아니면_x)\n",
    "\n",
    "#위에 예제와 비교해 보면 for문의 위치가 if 혼자만 쓸 때는 오른쪽, if else 같이 쓰면 왼쪽인 것을 알 수 있습니당"
   ]
  },
  {
   "cell_type": "code",
   "execution_count": 39,
   "metadata": {},
   "outputs": [
    {
     "name": "stdout",
     "output_type": "stream",
     "text": [
      "[(0, 0), (0, 1), (0, 2), (0, 3), (0, 4), (1, 0), (1, 1), (1, 2), (1, 3), (1, 4), (2, 0), (2, 1), (2, 2), (2, 3), (2, 4), (3, 0), (3, 1), (3, 2), (3, 3), (3, 4), (4, 0), (4, 1), (4, 2), (4, 3), (4, 4)]\n"
     ]
    }
   ],
   "source": [
    "# 리스트 안에 for문의 for문\n",
    "for_and_for = [ (i,j) for i in range(5) for j in range(5) ]\n",
    "print(for_and_for)"
   ]
  },
  {
   "cell_type": "code",
   "execution_count": 40,
   "metadata": {},
   "outputs": [
    {
     "name": "stdout",
     "output_type": "stream",
     "text": [
      "[(0, 0, 0), (0, 0, 1), (0, 0, 2), (0, 1, 0), (0, 1, 1), (0, 1, 2), (0, 2, 0), (0, 2, 1), (0, 2, 2), (1, 0, 0), (1, 0, 1), (1, 0, 2), (1, 1, 0), (1, 1, 1), (1, 1, 2), (1, 2, 0), (1, 2, 1), (1, 2, 2), (2, 0, 0), (2, 0, 1), (2, 0, 2), (2, 1, 0), (2, 1, 1), (2, 1, 2), (2, 2, 0), (2, 2, 1), (2, 2, 2)]\n"
     ]
    }
   ],
   "source": [
    "# 그렇다면 for문의 for문의 for문은?\n",
    "for_and_for_and_for = [ (i,j,k) for i in range(3) for j in range(3) for k in range(3)]\n",
    "print(for_and_for_and_for)"
   ]
  },
  {
   "cell_type": "code",
   "execution_count": 42,
   "metadata": {},
   "outputs": [
    {
     "name": "stdout",
     "output_type": "stream",
     "text": [
      "[(1, 1, 1), (1, 1, 2), (1, 2, 1), (1, 2, 2), (2, 1, 1), (2, 1, 2), (2, 2, 1), (2, 2, 2)]\n"
     ]
    }
   ],
   "source": [
    "#그렇다면 for문의 for문의 for문의 조건을 달면?\n",
    "for_and_for_and_for_if = [ (i,j,k) for i in range(3) for j in range(3) for k in range(3) if i != 0 and j !=0 and k != 0]\n",
    "print(for_and_for_and_for_if)"
   ]
  },
  {
   "cell_type": "markdown",
   "metadata": {},
   "source": [
    "## Q : 혹시 다른 sequential DataType에는 안될까요?"
   ]
  },
  {
   "cell_type": "code",
   "execution_count": 43,
   "metadata": {},
   "outputs": [
    {
     "name": "stdout",
     "output_type": "stream",
     "text": [
      "<generator object <genexpr> at 0x7f37665639d0>\n"
     ]
    }
   ],
   "source": [
    "# tuple \n",
    "_tuple = ( i for i in range(10) )\n",
    "print(_tuple)"
   ]
  },
  {
   "cell_type": "code",
   "execution_count": 44,
   "metadata": {},
   "outputs": [
    {
     "name": "stdout",
     "output_type": "stream",
     "text": [
      "{0, 1, 2, 3, 4, 5, 6, 7, 8, 9}\n"
     ]
    }
   ],
   "source": [
    "# set\n",
    "_set = { i for i in range(10) }\n",
    "print(_set)"
   ]
  },
  {
   "cell_type": "code",
   "execution_count": 45,
   "metadata": {},
   "outputs": [
    {
     "name": "stdout",
     "output_type": "stream",
     "text": [
      "{0: 0, 1: 1, 2: 2, 3: 3, 4: 4, 5: 5, 6: 6, 7: 7, 8: 8, 9: 9}\n"
     ]
    }
   ],
   "source": [
    "# dict\n",
    "_dict = { i:j for i,j in enumerate(range(10)) }\n",
    "print(_dict)"
   ]
  },
  {
   "cell_type": "code",
   "execution_count": null,
   "metadata": {},
   "outputs": [],
   "source": []
  }
 ],
 "metadata": {
  "kernelspec": {
   "display_name": "Python 3",
   "language": "python",
   "name": "python3"
  },
  "language_info": {
   "codemirror_mode": {
    "name": "ipython",
    "version": 3
   },
   "file_extension": ".py",
   "mimetype": "text/x-python",
   "name": "python",
   "nbconvert_exporter": "python",
   "pygments_lexer": "ipython3",
   "version": "3.7.9"
  }
 },
 "nbformat": 4,
 "nbformat_minor": 4
}
