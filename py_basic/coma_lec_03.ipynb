{
 "cells": [
  {
   "cell_type": "markdown",
   "metadata": {},
   "source": [
    "## 반복문 \n",
    "\n",
    "* 말 그대로 코드를 반복하는 것\n",
    "    - for : 반복가능한 데이터의 길이만큼 반복 - \"iterable\" 하다\n",
    "    - 코드로 보시죠"
   ]
  },
  {
   "cell_type": "code",
   "execution_count": 6,
   "metadata": {},
   "outputs": [],
   "source": [
    "# 반복 가능한 것들 example\n",
    "list_1 = [1,2,3,4,5]\n",
    "tuple_2 = (1,2,3,4,5)\n",
    "set_1 = {1,2,3,4,5}\n",
    "dict_1 = {'a' : 1, 'b' : 2, 'c' : 3}\n",
    "string = \"abcd\"\n",
    "range_ = range(10) # 0~9까지 정수를 담고 있음"
   ]
  },
  {
   "cell_type": "markdown",
   "metadata": {},
   "source": [
    "### for문 코드 형태"
   ]
  },
  {
   "cell_type": "code",
   "execution_count": 2,
   "metadata": {},
   "outputs": [
    {
     "name": "stdout",
     "output_type": "stream",
     "text": [
      "1\n",
      "2\n",
      "3\n",
      "4\n",
      "5\n"
     ]
    }
   ],
   "source": [
    "for i in list_1:\n",
    "    print(i)"
   ]
  },
  {
   "cell_type": "code",
   "execution_count": 3,
   "metadata": {},
   "outputs": [
    {
     "name": "stdout",
     "output_type": "stream",
     "text": [
      "1\n",
      "2\n",
      "3\n",
      "4\n",
      "5\n"
     ]
    }
   ],
   "source": [
    "for i in tuple_2:\n",
    "    print(i)"
   ]
  },
  {
   "cell_type": "code",
   "execution_count": 4,
   "metadata": {},
   "outputs": [
    {
     "name": "stdout",
     "output_type": "stream",
     "text": [
      "1\n",
      "2\n",
      "3\n",
      "4\n",
      "5\n"
     ]
    }
   ],
   "source": [
    "for i in set_1:\n",
    "    print(i)"
   ]
  },
  {
   "cell_type": "code",
   "execution_count": 9,
   "metadata": {},
   "outputs": [
    {
     "name": "stdout",
     "output_type": "stream",
     "text": [
      "a\n",
      "b\n",
      "c\n"
     ]
    }
   ],
   "source": [
    "for i in dict_1:\n",
    "    print(i)"
   ]
  },
  {
   "cell_type": "code",
   "execution_count": 10,
   "metadata": {},
   "outputs": [
    {
     "name": "stdout",
     "output_type": "stream",
     "text": [
      "1\n",
      "2\n",
      "3\n"
     ]
    }
   ],
   "source": [
    "# key를 반목문으로 뽑앗, value를 프린트\n",
    "for i in dict_1:\n",
    "    print(dict_1[i])"
   ]
  },
  {
   "cell_type": "code",
   "execution_count": 13,
   "metadata": {},
   "outputs": [
    {
     "name": "stdout",
     "output_type": "stream",
     "text": [
      "['a']\n",
      "['a', 'b']\n",
      "['a', 'b', 'c']\n",
      "['a', 'b', 'c', 'd']\n"
     ]
    }
   ],
   "source": [
    "new_list = []\n",
    "\n",
    "for i in string:\n",
    "    new_list.append(i)\n",
    "    print(new_list)\n"
   ]
  },
  {
   "cell_type": "code",
   "execution_count": 14,
   "metadata": {},
   "outputs": [
    {
     "name": "stdout",
     "output_type": "stream",
     "text": [
      "i 는 순서 0\n",
      "j 는 데이터 1\n",
      "i 는 순서 1\n",
      "j 는 데이터 2\n",
      "i 는 순서 2\n",
      "j 는 데이터 3\n",
      "i 는 순서 3\n",
      "j 는 데이터 4\n",
      "i 는 순서 4\n",
      "j 는 데이터 5\n"
     ]
    }
   ],
   "source": [
    "# 반복 순서(index)와 함께 반복하기 - 다시 한 번 강조 python은 순서를 셀 때 0부터 시작\n",
    "# enumerate(), 앞 쪽에 순서가 같이 출력된다\n",
    "for i, j in enumerate(list_1):\n",
    "    print(f\"i 는 순서 {i}\")\n",
    "    print(f\"j 는 데이터 {j}\")"
   ]
  },
  {
   "cell_type": "markdown",
   "metadata": {},
   "source": [
    "## for문 안에 for문"
   ]
  },
  {
   "cell_type": "code",
   "execution_count": 27,
   "metadata": {},
   "outputs": [
    {
     "name": "stdout",
     "output_type": "stream",
     "text": [
      "[2]\n",
      "2\n",
      "[2, 4]\n",
      "2\n",
      "4\n",
      "[2, 4, 6]\n",
      "2\n",
      "4\n",
      "6\n",
      "[2, 4, 6, 8]\n",
      "2\n",
      "4\n",
      "6\n",
      "8\n",
      "[2, 4, 6, 8, 10]\n",
      "2\n",
      "4\n",
      "6\n",
      "8\n",
      "10\n"
     ]
    }
   ],
   "source": [
    "list_3 = []\n",
    "for i in list_1:\n",
    "    c= 2*i\n",
    "    list_3.append(c)\n",
    "    print(list_3)\n",
    "    for j in list_3:\n",
    "        print(j)"
   ]
  },
  {
   "cell_type": "markdown",
   "metadata": {},
   "source": [
    "## while 반복문\n",
    "\n",
    "* while : 조건을 만족하면 반복문 실행\n",
    "    - 조건을 걸어주는 것은 if 조건문과 방법이 같다\n",
    "    - 끝부분에 \":\" 그리고 다음 줄은 4칸 띄우고"
   ]
  },
  {
   "cell_type": "code",
   "execution_count": null,
   "metadata": {},
   "outputs": [],
   "source": [
    "while A == 0:\n",
    "    print(123)"
   ]
  },
  {
   "cell_type": "code",
   "execution_count": 29,
   "metadata": {},
   "outputs": [
    {
     "name": "stdout",
     "output_type": "stream",
     "text": [
      "9\n",
      "8\n",
      "7\n",
      "6\n",
      "5\n",
      "4\n",
      "3\n",
      "2\n",
      "[1]\n"
     ]
    }
   ],
   "source": [
    "# while\n",
    "list_1 = [1,2,3,4,5,6,7,8,9]\n",
    "\n",
    "# list_1의 길이가 1보다 크면 반복문 계속 실행\n",
    "while len(list_1) > 1:\n",
    "    # list_1.pop() : 리스트의 맨 마지막 원소를 pop 뽑아냄\n",
    "    print(list_1.pop())\n",
    "    '''\n",
    "    뒤에서부터 list_1의 길이가 1이 될 때까지 뽑아내기 때문에 list_1 안에 맨 앞의 원소인 1만 남을때까지 \n",
    "    반복문을 실행한다\n",
    "    왜?\n",
    "    조건에 길이가 1보다 클때라고 정의해줬기 때문에\n",
    "    '''\n",
    "# 남아 있는 list_1을 확인해보면 맨 앞의 원소 1만 남아있음\n",
    "print(list_1)"
   ]
  },
  {
   "cell_type": "code",
   "execution_count": null,
   "metadata": {},
   "outputs": [],
   "source": [
    "# 주의 할점\n",
    "# while 반복문을 돌면서 조건을 만족하지 않도록 만들지 않는다면 무한 루프에 빠짐\n",
    "n = 10\n",
    "while n > 0:\n",
    "    # 실행하면 무한 루프에 빠집니다. \n",
    "    print(\"끝나지 않는 무한 루프\")"
   ]
  },
  {
   "cell_type": "code",
   "execution_count": 31,
   "metadata": {},
   "outputs": [
    {
     "name": "stdout",
     "output_type": "stream",
     "text": [
      "10:곧 끝나는 루프\n",
      "9:곧 끝나는 루프\n",
      "8:곧 끝나는 루프\n",
      "7:곧 끝나는 루프\n",
      "6:곧 끝나는 루프\n",
      "5:곧 끝나는 루프\n",
      "4:곧 끝나는 루프\n",
      "3:곧 끝나는 루프\n",
      "2:곧 끝나는 루프\n",
      "1:곧 끝나는 루프\n"
     ]
    }
   ],
   "source": [
    "n = 10\n",
    "while n > 0:\n",
    "    print(f\"{n}:곧 끝나는 루프\")\n",
    "    # 반복문이 한 바퀴 돌 때마다 n을 1씩 감소시켜주면 언젠가 0보다 크지 않은 순간이 오고 반복문이 끝남\n",
    "    n = n - 1"
   ]
  },
  {
   "cell_type": "code",
   "execution_count": 32,
   "metadata": {},
   "outputs": [
    {
     "name": "stdout",
     "output_type": "stream",
     "text": [
      "강제로 끝내는 방법 바로 'break'\n"
     ]
    }
   ],
   "source": [
    "# while문을 강제로 끝내는 법\n",
    "n = 10\n",
    "while n > 0:\n",
    "    print(\"강제로 끝내는 방법 바로 'break'\")\n",
    "    break"
   ]
  },
  {
   "cell_type": "code",
   "execution_count": 33,
   "metadata": {},
   "outputs": [
    {
     "name": "stdout",
     "output_type": "stream",
     "text": [
      "n :  10\n",
      "n :  9\n",
      "n :  8\n",
      "n :  7\n",
      "n :  6\n"
     ]
    }
   ],
   "source": [
    "\n",
    "# 조건문을 사용하여 조건을 만족하면 강제로 끝내기\n",
    "n = 10 \n",
    "while n > 0:\n",
    "    print(\"n : \", n)\n",
    "    n = n - 1\n",
    "    # n이 5가 되는 순간 반복문 종료\n",
    "    if n == 5:\n",
    "        break"
   ]
  },
  {
   "cell_type": "code",
   "execution_count": 36,
   "metadata": {},
   "outputs": [
    {
     "ename": "SyntaxError",
     "evalue": "invalid syntax (<ipython-input-36-304ecb4f9ba4>, line 4)",
     "output_type": "error",
     "traceback": [
      "\u001b[0;36m  File \u001b[0;32m\"<ipython-input-36-304ecb4f9ba4>\"\u001b[0;36m, line \u001b[0;32m4\u001b[0m\n\u001b[0;31m    while:\u001b[0m\n\u001b[0m         ^\u001b[0m\n\u001b[0;31mSyntaxError\u001b[0m\u001b[0;31m:\u001b[0m invalid syntax\n"
     ]
    }
   ],
   "source": [
    "# Hello World를 입력 받으면 종료되는 반복문 만들기\n",
    "sentense = \"\"\n",
    "# 조건을 뭐라고 주어야 할까?\n",
    "while :\n",
    "    # input으로 입력 받기\n",
    "    print(\"Hello World가 아니면 멈추지 않음\")\n",
    "    sentense = input()\n",
    "    print(\"sentense : \", sentense)"
   ]
  },
  {
   "cell_type": "markdown",
   "metadata": {},
   "source": [
    "## 조건문\n",
    "\n",
    "* 조건을 만족하면 실행함\n",
    "    - if : 만약 ~ 라면 실행\n",
    "    - elif : if가 아니고 elif 만약 ~라면 실행\n",
    "    - else : 앞에 언급한 조건이 아니면 else 실행\n",
    "* if 조건 끝에 : 붙여서 끝부분임을 표시해줘야함\n",
    "* 그리고 그 다음 코드는 4칸을 띄우고 작성한다 -> indentation이라고 부름"
   ]
  },
  {
   "cell_type": "code",
   "execution_count": null,
   "metadata": {},
   "outputs": [],
   "source": [
    "if a == True: # 이렇게 끝에 : 표시 해주고\n",
    "  # 이렇게 4칸 띄우고\n",
    "  a = a + 1"
   ]
  },
  {
   "cell_type": "code",
   "execution_count": 38,
   "metadata": {},
   "outputs": [
    {
     "name": "stdout",
     "output_type": "stream",
     "text": [
      "55\n",
      "100보다 작음\n"
     ]
    }
   ],
   "source": [
    "# 조건문을 만들어보자\n",
    "list_1 = [1,2,3,4,5,6,7,8,9,10]\n",
    "\n",
    "# 만약 list_1의 합이 100보다 작으면 print 실행\n",
    "if sum(list_1) < 100:\n",
    "    print(sum(list_1))\n",
    "    print(\"100보다 작음\")"
   ]
  },
  {
   "cell_type": "code",
   "execution_count": 39,
   "metadata": {},
   "outputs": [],
   "source": [
    "# 만약 조건이 맞지 않으면?\n",
    "if sum(list_1) > 100:\n",
    "    print(\"list_1의 합은 55인데 100보다 크다라는 조건이 틀려서 어짜피 이 print는 실행 안됨\")"
   ]
  },
  {
   "cell_type": "code",
   "execution_count": 40,
   "metadata": {},
   "outputs": [
    {
     "name": "stdout",
     "output_type": "stream",
     "text": [
      "위에 쓴 두 조건이 틀렸기 때문에 이게 실행 되겠죠\n"
     ]
    }
   ],
   "source": [
    "# 여러가지 조건을 걸고 싶다\n",
    "# 조건은 위에서부터 차례대로 검증\n",
    "if sum(list_1) > 100:\n",
    "    print(\"list_1의 합은 55인데 100보다 크다라는 조건이 틀려서 어짜피 이 print는 실행 안됨\")\n",
    "elif sum(list_1) >70:\n",
    "    print(\"이것도 어짜피 실행 안됨, 55는 70보다 작기 때문\")\n",
    "else:\n",
    "    print(\"위에 쓴 두 조건이 틀렸기 때문에 이게 실행 되겠죠\")"
   ]
  },
  {
   "cell_type": "code",
   "execution_count": 41,
   "metadata": {},
   "outputs": [
    {
     "name": "stdout",
     "output_type": "stream",
     "text": [
      "[1, 2, 3, 4, 5, 6, 7, 8, 9, 10, 11]\n"
     ]
    }
   ],
   "source": [
    "# if도 맞고 elif도 맞다면?\n",
    "if list_1[0] ==1:\n",
    "    list_1.append(11)\n",
    "    print(list_1)\n",
    "elif list_1[1] > 0:\n",
    "    print(\"이것이 실행이 될까요?\")\n",
    "    \n",
    "# 조건이 둘 다 맞을 때 처음 맞은 if문만 실행되는 이유\n",
    "# if 조건문은 위에서부터 아래로 내려오면서 실행이 되고 조건을 만족하는 순간 아래의 코드를 실행하고\n",
    "# 다음 elif 조건문을 실행하지 않고 끝이나서 안됩니다"
   ]
  },
  {
   "cell_type": "code",
   "execution_count": null,
   "metadata": {},
   "outputs": [],
   "source": [
    "# 여러가지 조건을 만드는 법\n",
    "list_2 = [\"A\",\"B\",\"C\"]\n",
    "# list_2가 존재하면 조건문 실행\n",
    "if list_2:\n",
    "    print(\"list_2는 존재하니까 실행\")"
   ]
  },
  {
   "cell_type": "code",
   "execution_count": null,
   "metadata": {},
   "outputs": [],
   "source": [
    "# list_2가 None이 아니면 조건문 실행\n",
    "if list_2 is not None:\n",
    "    print(\"list_2는 None이 아니니까 실행\")"
   ]
  },
  {
   "cell_type": "code",
   "execution_count": null,
   "metadata": {},
   "outputs": [],
   "source": [
    "# \"A\" 가 list_2에 있으면 조건문 실행\n",
    "if \"A\" in list_2:\n",
    "    print(\"list_2안에 A 가 있으니까 실행\")\n",
    "# \"D\" 가 list_2에 있지 않으면 조건문 실행\n",
    "if \"D\" not in list_2:\n",
    "    print(\"list_2는 A B C 밖에 없죠\")"
   ]
  },
  {
   "cell_type": "code",
   "execution_count": null,
   "metadata": {},
   "outputs": [],
   "source": [
    "# 조건문이 실행되게 만들어보기\n",
    "list_3 =\n",
    "if len(list_3) < 10:\n",
    "    print(\"list_3 : \", list_3)"
   ]
  },
  {
   "cell_type": "code",
   "execution_count": null,
   "metadata": {},
   "outputs": [],
   "source": [
    "# a의 type이 set이면 조건문 실행\n",
    "a = \n",
    "if  == :\n",
    "    print('type of a : set')"
   ]
  },
  {
   "cell_type": "code",
   "execution_count": null,
   "metadata": {},
   "outputs": [],
   "source": [
    "\n",
    "# elif 조건에서 실행되도록 조건문 만들어보기\n",
    "b = None\n",
    "\n",
    "if b is not None:\n",
    "    print(\"실행 x\")\n",
    "elif"
   ]
  },
  {
   "cell_type": "code",
   "execution_count": null,
   "metadata": {},
   "outputs": [],
   "source": []
  },
  {
   "cell_type": "code",
   "execution_count": null,
   "metadata": {},
   "outputs": [],
   "source": []
  }
 ],
 "metadata": {
  "kernelspec": {
   "display_name": "Python 3",
   "language": "python",
   "name": "python3"
  },
  "language_info": {
   "codemirror_mode": {
    "name": "ipython",
    "version": 3
   },
   "file_extension": ".py",
   "mimetype": "text/x-python",
   "name": "python",
   "nbconvert_exporter": "python",
   "pygments_lexer": "ipython3",
   "version": "3.7.9"
  }
 },
 "nbformat": 4,
 "nbformat_minor": 4
}
