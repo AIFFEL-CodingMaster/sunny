{
 "cells": [
  {
   "cell_type": "markdown",
   "metadata": {},
   "source": [
    "#### 비교 연산자"
   ]
  },
  {
   "cell_type": "code",
   "execution_count": 3,
   "metadata": {},
   "outputs": [
    {
     "name": "stdout",
     "output_type": "stream",
     "text": [
      "True\n",
      "False\n",
      "False\n",
      "False\n",
      "True\n",
      "True\n",
      "----------------\n",
      "True\n",
      "True\n",
      "True\n"
     ]
    }
   ],
   "source": [
    "# True False 로 출력된다.\n",
    "number_1 = 10\n",
    "number_2 = 10\n",
    "print(number_1 == number_2)\n",
    "print(number_1 != number_2)\n",
    "print(number_1 > number_2)\n",
    "print(number_1 < number_2)\n",
    "print(number_1 <= number_2)\n",
    "print(number_1 >= number_2)\n",
    "\n",
    "print('----------------')\n",
    "#문자열을 비롯한 다른 DataType도 다 비교 가능합니다\n",
    "print('ㅁ' == 'ㅁ')\n",
    "print(['^오^'] != \"이것은 문자열\")\n",
    "print({1,2,\"삼\"} != {2,3,4})"
   ]
  },
  {
   "cell_type": "code",
   "execution_count": 21,
   "metadata": {},
   "outputs": [
    {
     "name": "stdout",
     "output_type": "stream",
     "text": [
      "0\n"
     ]
    }
   ],
   "source": [
    "# 비교연산으로 menu에 있는 원소들을 한 번씩만 사용해서 answer를 0으로 만들기\n",
    "menu = [\"ABC\",1,10,\"ABC\"]\n",
    "answer1 = menu[0] == menu[1]#answer1 = false =0\n",
    "answer2 = menu[2] == menu[3]#answer1 = false =0\n",
    "\n",
    "answer = answer1 + answer2 \n",
    "print(answer)"
   ]
  },
  {
   "cell_type": "code",
   "execution_count": 22,
   "metadata": {},
   "outputs": [
    {
     "name": "stdout",
     "output_type": "stream",
     "text": [
      "3\n"
     ]
    }
   ],
   "source": [
    "# 문제\n",
    "# 위에 예시처럼 menu와 비교연산자를 사용하여 answer에 3출력되게 하기\n",
    "menu = [5, 5, 123, 456, [\"가나다라\"],[\"가나다라\"], '123','456']\n",
    "answer_1 = menu[0] == menu[1]#1\n",
    "answer_2 = menu[2] == menu[6]#0\n",
    "answer_3 = menu[4] == menu[5]#1\n",
    "answer_4 = menu[3] != menu[7]#1\n",
    "answer_5 = menu[1] == menu[5]#0\n",
    "\n",
    "answer = answer_1 + answer_2 + answer_3 + answer_4 + answer_5\n",
    "print(answer)"
   ]
  },
  {
   "cell_type": "markdown",
   "metadata": {},
   "source": [
    "#### 논리연산자"
   ]
  },
  {
   "cell_type": "code",
   "execution_count": 30,
   "metadata": {},
   "outputs": [
    {
     "name": "stdout",
     "output_type": "stream",
     "text": [
      "True\n",
      "True\n",
      "False\n",
      "True\n",
      "False\n"
     ]
    }
   ],
   "source": [
    "#and, or, not\n",
    "a = 10\n",
    "b = 10\n",
    "c = 100\n",
    "d = 1000\n",
    "\n",
    "print((a and b) == 10)\n",
    "print((c or d) == 100)\n",
    "print((c or d) != 100)\n",
    "print((c or not d) == 100)\n",
    "print((c or not d) == 10)"
   ]
  },
  {
   "cell_type": "markdown",
   "metadata": {},
   "source": [
    "#### 조건문"
   ]
  },
  {
   "cell_type": "code",
   "execution_count": null,
   "metadata": {},
   "outputs": [],
   "source": [
    "if a == True: # 이렇게 끝에 : 표시 해주고\n",
    "    a = a + 1 # 이렇게 4칸 띄우고"
   ]
  },
  {
   "cell_type": "code",
   "execution_count": 49,
   "metadata": {},
   "outputs": [
    {
     "name": "stdout",
     "output_type": "stream",
     "text": [
      "[1, 2, 3, 4, 5, 6, 7, 8, 9, 10]\n",
      "55\n",
      "100보다 작음\n"
     ]
    }
   ],
   "source": [
    "list_1 = [1,2,3,4,5,6,7,8,9,10]\n",
    "#list_1= list(range(1,11))#리스트 생성 방법 반복연습\n",
    "print(list_1)\n",
    "\n",
    "if sum(list_1) < 100:\n",
    "    print(sum(list_1))\n",
    "    print(\"100보다 작음\")"
   ]
  },
  {
   "cell_type": "code",
   "execution_count": 50,
   "metadata": {},
   "outputs": [
    {
     "name": "stdout",
     "output_type": "stream",
     "text": [
      "[1, 2, 3, 4, 5, 6, 7, 8, 9, 10, 11]\n"
     ]
    }
   ],
   "source": [
    "# if도 맞고 elif도 맞다면?\n",
    "if list_1[0] ==1:\n",
    "    list_1.append(11)\n",
    "    print(list_1)\n",
    "elif list_2[1] > 0:\n",
    "    print(\"이것이 실행이 될까요?\")"
   ]
  },
  {
   "cell_type": "code",
   "execution_count": 53,
   "metadata": {},
   "outputs": [
    {
     "name": "stdout",
     "output_type": "stream",
     "text": [
      "list_2는 None이 아니니까 실행\n",
      "list_2안에 A 가 있으니까 실행\n",
      "list_2는 A B C 밖에 없죠\n"
     ]
    }
   ],
   "source": [
    "# list_2가 None이 아니면 조건문 실행\n",
    "list_2 = [\"A\",\"B\",\"C\"]\n",
    "\n",
    "if list_2 is not None:\n",
    "    print(\"list_2는 None이 아니니까 실행\")\n",
    "    # \"A\" 가 list_2에 있으면 조건문 실행\n",
    "if \"A\" in list_2:\n",
    "    print(\"list_2안에 A 가 있으니까 실행\")\n",
    "# \"D\" 가 list_2에 있지 않으면 조건문 실행\n",
    "if \"D\" not in list_2:\n",
    "    print(\"list_2는 A B C 밖에 없죠\")"
   ]
  },
  {
   "cell_type": "code",
   "execution_count": 56,
   "metadata": {},
   "outputs": [
    {
     "name": "stdout",
     "output_type": "stream",
     "text": [
      "ok\n"
     ]
    }
   ],
   "source": [
    "# elif 조건에서 실행되도록 조건문 만들어보기\n",
    "b = None\n",
    "\n",
    "if b is not None:\n",
    "    print(\"실행 x\")\n",
    "elif b is None:\n",
    "    print(\"ok\")"
   ]
  },
  {
   "cell_type": "markdown",
   "metadata": {},
   "source": [
    "#### while 반복문"
   ]
  },
  {
   "cell_type": "code",
   "execution_count": 58,
   "metadata": {},
   "outputs": [
    {
     "name": "stdout",
     "output_type": "stream",
     "text": [
      "9\n",
      "8\n",
      "7\n",
      "6\n",
      "5\n",
      "4\n",
      "3\n",
      "2\n",
      "--------\n",
      "[1]\n"
     ]
    }
   ],
   "source": [
    "#조건을 걸어주는 것은 if 조건문과 방법이 같다\n",
    "\n",
    "list_1 = [1,2,3,4,5,6,7,8,9]\n",
    "\n",
    "# list_1의 길이가 1보다 크면 반복문 계속 실행\n",
    "while len(list_1) > 1:\n",
    "    # list_1.pop() : 리스트의 맨 마지막 원소를 pop 뽑아냄\n",
    "    print(list_1.pop())\n",
    "\n",
    "print('--------')\n",
    "    # 남아 있는 list_1을 확인해보면 맨 앞의 원소 1만 남아있음\n",
    "print(list_1)"
   ]
  },
  {
   "cell_type": "code",
   "execution_count": 59,
   "metadata": {},
   "outputs": [
    {
     "name": "stdout",
     "output_type": "stream",
     "text": [
      "n :  10\n",
      "n :  9\n",
      "n :  8\n",
      "n :  7\n",
      "n :  6\n"
     ]
    }
   ],
   "source": [
    "# 조건문을 사용하여 조건을 만족하면 강제로 끝내기 / 무한루프 방지\n",
    "n = 10 \n",
    "while n > 0:\n",
    "    print(\"n : \", n)\n",
    "    n = n - 1\n",
    "    # n이 5가 되는 순간 반복문 종료\n",
    "    if n == 5:\n",
    "        break"
   ]
  },
  {
   "cell_type": "code",
   "execution_count": 1,
   "metadata": {},
   "outputs": [
    {
     "name": "stdout",
     "output_type": "stream",
     "text": [
      "sentense :Hello World라고 쓰지 말 것\n"
     ]
    }
   ],
   "source": [
    "# Hello World를 입력 받으면 종료되는 반복문 만들기\n",
    "sentense  = input(\"sentense :\")\n",
    "\n",
    "# 조건을 뭐라고 주어야 할까?\n",
    "while sentense == 'Hello World' :\n",
    "    # input으로 입력 받기\n",
    "    print(\"Hello World가 아니면 멈추지 않음\")\n",
    "    \n",
    "    if sentense != 'Hello World':\n",
    "     print(\"sentense : \", sentense)"
   ]
  }
 ],
 "metadata": {
  "kernelspec": {
   "display_name": "Python 3",
   "language": "python",
   "name": "python3"
  },
  "language_info": {
   "codemirror_mode": {
    "name": "ipython",
    "version": 3
   },
   "file_extension": ".py",
   "mimetype": "text/x-python",
   "name": "python",
   "nbconvert_exporter": "python",
   "pygments_lexer": "ipython3",
   "version": "3.7.6"
  }
 },
 "nbformat": 4,
 "nbformat_minor": 4
}
