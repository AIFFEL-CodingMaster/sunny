{
 "cells": [
  {
   "cell_type": "markdown",
   "metadata": {},
   "source": [
    "## class"
   ]
  },
  {
   "cell_type": "markdown",
   "metadata": {},
   "source": [
    "* OOP의 꽃 class\n",
    "* class는 내가 구현하고 싶은 어떤 것(쉽게 생각해보면 명사로 표현되는 것)을 지금까지 다뤘던 문법을 이용해서 구현하는 것이라고 생각하면 됩니다\n",
    "* 변수와 함수를 활용해서 한 번 만들어보죠\n",
    "* class안에 함수는 \"메소드\" 라고도 부릅니다\n",
    "* class를 인스턴스화 할때 아래처럼 했었죠?!\n"
   ]
  },
  {
   "cell_type": "code",
   "execution_count": null,
   "metadata": {},
   "outputs": [],
   "source": [
    "#클래스(객체)를 변수에 담음\n",
    "변수 = 클래스()"
   ]
  },
  {
   "cell_type": "code",
   "execution_count": null,
   "metadata": {},
   "outputs": [],
   "source": [
    "# object는 써도 되고 안써도 되고\n",
    "class 클래스(object):\n",
    "  def 메소드(self):\n",
    "      pass\n",
    "# 메소드에 self는 거의 있어야 함, 물론 없을 수도 있긴 있음\n",
    "class 클래스:\n",
    "  def 메소드(self):\n",
    "      pass"
   ]
  },
  {
   "cell_type": "markdown",
   "metadata": {},
   "source": [
    "* 인스턴스는 클래스가 가진 메소드를 전부 사용가능"
   ]
  },
  {
   "cell_type": "code",
   "execution_count": null,
   "metadata": {},
   "outputs": [],
   "source": [
    "# 인스턴스.메소드()\n",
    "변수.메소드()"
   ]
  },
  {
   "cell_type": "markdown",
   "metadata": {},
   "source": [
    "* 클래스는 변수도 가질 수 있습니다\n",
    "* 변수사용은 이렇게"
   ]
  },
  {
   "cell_type": "code",
   "execution_count": null,
   "metadata": {},
   "outputs": [],
   "source": [
    "# 메소드와는 다르게 ()가 없습니다\n",
    "변수.클래스가 가진변수"
   ]
  },
  {
   "cell_type": "code",
   "execution_count": null,
   "metadata": {},
   "outputs": [],
   "source": [
    "#클래스는 명사라고 했죠?! -> 클래스의 메소드는 그 명사가 취할 수 있는 동사, 형용사 느낌으로 생각하면 좀 쉽습니다\n",
    "# example\n",
    "class DataFrame:\n",
    "  def head(self):\n",
    "      위에서네줄 = 어떤코드\n",
    "      print(위에서네줄)"
   ]
  },
  {
   "cell_type": "markdown",
   "metadata": {},
   "source": [
    "### 클래스-2\n",
    "\n",
    "**구성**\n",
    "* 클래스 변수\n",
    "* 인스턴스 변수\n",
    "* [클래스변수, 인스턴스변수] -> 클래스 or 인스턴스가 가지는 속성\n",
    "* 메소드 -> 클래스의 기능 -> 어떤 액션"
   ]
  },
  {
   "cell_type": "code",
   "execution_count": 2,
   "metadata": {},
   "outputs": [],
   "source": [
    "class Phone:\n",
    "    phone_book = {}\n",
    "    \n",
    "    def call_someone(self, someone, someone_number):\n",
    "        print(f\"{someone}에게 전화를 겁니다\")\n",
    "        print(f\"{someone_number}\")\n",
    "    \n",
    "    def save_phone_number(self, name, phone_number):\n",
    "        self.phone_book[name] = phone_number\n",
    "        print(\"저장 완료\")"
   ]
  },
  {
   "cell_type": "code",
   "execution_count": 3,
   "metadata": {},
   "outputs": [],
   "source": [
    "# Phone클래스 상속 받기\n",
    "class SmartPhone(Phone):\n",
    "    # 클래스 변수 영역\n",
    "    # 클래스가 기본적으로 가지는 속성\n",
    "    where = \"main\"\n",
    "    power = 'off'\n",
    "    app_list = [\"시계\", \"달력\", \"카메라\", \"사진첩\"]\n",
    "    internet = \"off\"\n",
    "    \n",
    "    # 생성자 -> 클래스를 변수에 할당하여 인스턴스화 할 때 생성되는 변수를 받는 것\n",
    "    # 인스턴스 변수 생성 - > 인스턴스가 되기 전까지는 이 변수는 \"미지수\"\n",
    "    def __init__(self, company, model, color, waterproof):\n",
    "        self.company = company,\n",
    "        self.model = model,\n",
    "        self.color = color,\n",
    "        self.waterpoof = True\n",
    "        # 회사가 Apple일 경우 앱스토어 추가, 아닐 경우 구글스토어 추가\n",
    "        if company == \"Apple\":\n",
    "            self.app_list.append(\"앱스토어\")\n",
    "        else:\n",
    "            self.app_list.append(\"구글스토어\")\n",
    "    \n",
    "    # 스마트폰의 전원을 키거나 끄거나하는 액션\n",
    "    def power_on_or_off(self):\n",
    "        # 실행 시, 전원이 꺼져있으면 켜고, 켜져있으면 끄는 기능 \n",
    "        if self.power =='off':\n",
    "            self.power = 'on'\n",
    "            print('전원이 켜졌습니다')\n",
    "        elif self.power =='on':\n",
    "            self.power = 'off'\n",
    "            print('전원이 꺼졌습니다.')\n",
    "    \n",
    "    # 나의 앱 리스트 보여주기\n",
    "    def show_my_apps(self):\n",
    "        print(f\"나의 Apps : {self.app_list}\")\n",
    "        return self.app_list\n",
    "    \n",
    "    def connect_internet(self):\n",
    "        self.internet == \"on\"\n",
    "    \n",
    "    def app_download(self, app_name):\n",
    "        # open 앱스토어 or 구글스토어\n",
    "        if self.company == \"Apple\":\n",
    "            self.where = \"앱스토어\"\n",
    "        else:\n",
    "            self.where = \"구글스토어\"\n",
    "        \n",
    "        if self.internet =='on' and self.powewr =='on':\n",
    "        # App을 다운로드하고 app_list에 저장\n",
    "            print(f'{app_name} 을 다운로드 합니다.')\n",
    "            self.app_list.append(app_name)\n",
    "            # App 목록을 반환해보겠습니다.\n",
    "            return self.app_list\n",
    "        \n",
    "        elif self.power =='off':\n",
    "        # 전원이 꺼져있는데 실행을 시도하면 RuntimeError를 내도록해보겠습니다.\n",
    "            raise RuntimeError('전원을 확인하세요')\n",
    "        \n",
    "        # 인터넷 연결이 없는데 시도하면 연결 후 다운로드 시도\n",
    "        elif self.internet =='off':\n",
    "            while True:\n",
    "                ask = input('인터넷 연결이 없습니다. 연결하시겠습니까? yes or no')\n",
    "                if ask =='yes':\n",
    "                    self.connect_internet()\n",
    "                    print(f'{app_name} 을 다운로드 합니다.')\n",
    "                    self.app_list.append(app_name)\n",
    "                    return app_name\n",
    "                    break\n",
    "                elif ask =='no':\n",
    "                    print('다운로드 실패')\n",
    "                    break\n",
    "    def back_to_main(self):\n",
    "        self.where = \"main\"\n",
    "    \n",
    "    # method overriding\n",
    "    def call_someone(self, someone, someone_number):\n",
    "        self.where =\"통화중\"\n",
    "        print(f\"{someone}에게 전화를 겁니다\")\n",
    "        print(f\"{someone_number}\")"
   ]
  },
  {
   "cell_type": "code",
   "execution_count": 4,
   "metadata": {},
   "outputs": [],
   "source": [
    "iphone = SmartPhone(\"Apple\", \"Iphone8\", \"black\", True)"
   ]
  },
  {
   "cell_type": "code",
   "execution_count": 5,
   "metadata": {},
   "outputs": [
    {
     "name": "stdout",
     "output_type": "stream",
     "text": [
      "전원이 켜졌습니다\n"
     ]
    }
   ],
   "source": [
    "iphone.power_on_or_off()"
   ]
  },
  {
   "cell_type": "code",
   "execution_count": 6,
   "metadata": {},
   "outputs": [
    {
     "name": "stdout",
     "output_type": "stream",
     "text": [
      "나의 Apps : ['시계', '달력', '카메라', '사진첩', '앱스토어']\n"
     ]
    }
   ],
   "source": [
    "my_apps = iphone.show_my_apps()"
   ]
  },
  {
   "cell_type": "code",
   "execution_count": 7,
   "metadata": {},
   "outputs": [
    {
     "name": "stdout",
     "output_type": "stream",
     "text": [
      "인터넷 연결이 없습니다. 연결하시겠습니까? yes or noyes\n",
      "카카오톡 을 다운로드 합니다.\n"
     ]
    }
   ],
   "source": [
    "new_app = iphone.app_download(\"카카오톡\")"
   ]
  },
  {
   "cell_type": "code",
   "execution_count": 8,
   "metadata": {},
   "outputs": [
    {
     "name": "stdout",
     "output_type": "stream",
     "text": [
      "나의 Apps : ['시계', '달력', '카메라', '사진첩', '앱스토어', '카카오톡']\n"
     ]
    },
    {
     "data": {
      "text/plain": [
       "['시계', '달력', '카메라', '사진첩', '앱스토어', '카카오톡']"
      ]
     },
     "execution_count": 8,
     "metadata": {},
     "output_type": "execute_result"
    }
   ],
   "source": [
    "iphone.show_my_apps()"
   ]
  },
  {
   "cell_type": "markdown",
   "metadata": {},
   "source": [
    "## 클래스의 상속\n",
    "\n",
    "* 부모클래스가 자식클래스에게 속성과 메소드를 물려주는 것\n",
    "* 같은 기능을 가진 코드를 여러 번 짤 필요가 없기 때문에 물려받자\n",
    "* 상속이라고 표현하지만 사실상 자식이 부모의 것을 이용하는 것"
   ]
  },
  {
   "cell_type": "code",
   "execution_count": null,
   "metadata": {},
   "outputs": [],
   "source": [
    "# 이런 식으로 표현\n",
    "class 자식클래스(부모클래스):\n",
    "  pass"
   ]
  },
  {
   "cell_type": "code",
   "execution_count": 9,
   "metadata": {},
   "outputs": [
    {
     "name": "stdout",
     "output_type": "stream",
     "text": [
      "저장 완료\n"
     ]
    }
   ],
   "source": [
    "# 부모클래스의 save_phone_number 메소드를 사용할 수 있음 -> 상속 받았기 때문\n",
    "iphone.save_phone_number(\"Sunny\", \"010-1234-5678\")"
   ]
  },
  {
   "cell_type": "code",
   "execution_count": 10,
   "metadata": {},
   "outputs": [
    {
     "data": {
      "text/plain": [
       "{'Sunny': '010-1234-5678'}"
      ]
     },
     "execution_count": 10,
     "metadata": {},
     "output_type": "execute_result"
    }
   ],
   "source": [
    "# 전화번호부에 저장이 되었음\n",
    "iphone.phone_book"
   ]
  },
  {
   "cell_type": "code",
   "execution_count": null,
   "metadata": {},
   "outputs": [],
   "source": [
    "# 프로젝트 당시 사용했던 코드\n",
    "# utils.py\n",
    "from tensorflow.keras.callbacks import Callback\n",
    "from tensorflow.keras import backend as K \n",
    "import math\n",
    "\n",
    "class FoodDataPaths:\n",
    "    image_data_path = ''\n",
    "    food_dir_path = ''\n",
    "    tfr_path = ''\n",
    "    model_save_path = ''\n",
    "    models_dir = ''\n",
    "    test_image_path = ''\n",
    "\n",
    "\n",
    "    @classmethod\n",
    "    def make_img_food_path(cls, img_data_path, food_dir_path):\n",
    "        cls.image_data_path = img_data_path\n",
    "        cls.food_dir_path = food_dir_path\n",
    "    \n",
    "    @classmethod\n",
    "    def make_tfr_path(cls, tfr_path):\n",
    "        cls.tfr_path = tfr_path\n",
    "\n",
    "    @classmethod\n",
    "    def make_model_save_path(cls, model_save_path):\n",
    "        cls.model_save_path = model_save_path\n",
    "    \n",
    "    @classmethod\n",
    "    def make_models_dir(cls, models_dir):\n",
    "        cls.models_dir = models_dir\n",
    "\n",
    "    @classmethod\n",
    "    def make_test_image_path(cls, test_image_path):\n",
    "        cls.test_image_path = test_image_path\n",
    "\n",
    "\n",
    "class CosineAnnealingScheduler(Callback):\n",
    "    \"\"\"Cosine annealing scheduler.\n",
    "    \"\"\"\n",
    "\n",
    "    def __init__(self, T_max, eta_max, eta_min=0, verbose=0):\n",
    "        super(CosineAnnealingScheduler, self).__init__()\n",
    "        self.T_max = T_max\n",
    "        self.eta_max = eta_max\n",
    "        self.eta_min = eta_min\n",
    "        self.verbose = verbose\n",
    "\n",
    "    def on_epoch_begin(self, epoch, logs=None):\n",
    "        if not hasattr(self.model.optimizer, 'lr'):\n",
    "            raise ValueError('Optimizer must have a \"lr\" attribute.')\n",
    "        lr = self.eta_min + (self.eta_max - self.eta_min) * (1 + math.cos(math.pi * epoch / self.T_max)) / 2\n",
    "        K.set_value(self.model.optimizer.lr, lr)\n",
    "        if self.verbose > 0:\n",
    "            print('\\nEpoch %05d: CosineAnnealingScheduler setting learning '\n",
    "                  'rate to %s.' % (epoch + 1, lr))\n",
    "\n",
    "    def on_epoch_end(self, epoch, logs=None):\n",
    "        logs = logs or {}\n",
    "        logs['lr'] = K.get_value(self.model.optimizer.lr)"
   ]
  },
  {
   "cell_type": "code",
   "execution_count": null,
   "metadata": {},
   "outputs": [],
   "source": [
    " prediction.py\n",
    "from tqdm import tqdm\n",
    "import tensorflow as tf \n",
    "import numpy as np \n",
    "from glob import glob\n",
    "from utils import FoodDataPaths\n",
    "\n",
    "np.random.seed(123)\n",
    "\n",
    "class Prediction(FoodDataPaths):\n",
    "\n",
    "    def _load_image(self, path, img_size) :\n",
    "        img = tf.io.read_file(path)\n",
    "        img = tf.image.decode_image(img, channels=3, expand_animations=False)\n",
    "        img = tf.image.resize(img, (img_size, img_size))\n",
    "\n",
    "        label = int(path.split('/')[-2].split('_')[-1])\n",
    "        return img, label\n",
    "\n",
    "    def predict_test(self, model, img_size, nums=0):\n",
    "        test_image_path = glob(self.test_image_path)\n",
    "        correct = 0\n",
    "        if nums == 0:\n",
    "            img_paths = test_image_path\n",
    "        else:\n",
    "            img_paths = np.random.choice(test_image_path, nums, replace=False)\n",
    "\n",
    "        for img_path in tqdm(img_paths):\n",
    "            img, label = self._load_image(img_path, img_size)\n",
    "            img = img[np.newaxis, :, :]\n",
    "            pred = int(np.argmax(model.predict(img)))\n",
    "\n",
    "            if pred == label:\n",
    "                correct += 1\n",
    "\n",
    "        print(f'정확도 : {round(correct / len(img_paths), 4) * 100}%')"
   ]
  },
  {
   "cell_type": "markdown",
   "metadata": {},
   "source": [
    "## 다중상속\n",
    "\n",
    "### 간단한 다중 상속의 개념\n"
   ]
  },
  {
   "cell_type": "code",
   "execution_count": 36,
   "metadata": {},
   "outputs": [],
   "source": [
    "class English:\n",
    "    \n",
    "    def print_alphabet(self):\n",
    "        print(\"a b c d e f g h i j k l m n o p q r s t u v w x y z\")"
   ]
  },
  {
   "cell_type": "code",
   "execution_count": 38,
   "metadata": {},
   "outputs": [],
   "source": [
    "class Korean:\n",
    "    \n",
    "    def print_ghanadara(self):\n",
    "        print(\"가 나 다 라\")"
   ]
  },
  {
   "cell_type": "code",
   "execution_count": 39,
   "metadata": {},
   "outputs": [],
   "source": [
    "class Language(English, Korean):\n",
    "    kind = [\"English\", \"Korean\"]"
   ]
  },
  {
   "cell_type": "code",
   "execution_count": 40,
   "metadata": {},
   "outputs": [],
   "source": [
    "Languages = Language()"
   ]
  },
  {
   "cell_type": "code",
   "execution_count": 41,
   "metadata": {},
   "outputs": [
    {
     "data": {
      "text/plain": [
       "['English', 'Korean']"
      ]
     },
     "execution_count": 41,
     "metadata": {},
     "output_type": "execute_result"
    }
   ],
   "source": [
    "Languages.kind"
   ]
  },
  {
   "cell_type": "code",
   "execution_count": 42,
   "metadata": {},
   "outputs": [
    {
     "name": "stdout",
     "output_type": "stream",
     "text": [
      "a b c d e f g h i j k l m n o p q r s t u v w x y z\n"
     ]
    }
   ],
   "source": [
    "Languages.print_alphabet()"
   ]
  },
  {
   "cell_type": "code",
   "execution_count": 43,
   "metadata": {},
   "outputs": [
    {
     "name": "stdout",
     "output_type": "stream",
     "text": [
      "가 나 다 라\n"
     ]
    }
   ],
   "source": [
    "Languages.print_ghanadara()"
   ]
  },
  {
   "cell_type": "markdown",
   "metadata": {},
   "source": [
    "## 상속받은 것 중에 이름이 같은 메소드가 있다면 ?"
   ]
  },
  {
   "cell_type": "code",
   "execution_count": 44,
   "metadata": {},
   "outputs": [],
   "source": [
    "class English:\n",
    "    \n",
    "    def print_alphabet(self):\n",
    "        print(\"a b c d e f g h i j k l m n o p q r s t u v w x y z\")\n",
    "        \n",
    "    def what_language(self):\n",
    "        print(\"영어\")"
   ]
  },
  {
   "cell_type": "code",
   "execution_count": 45,
   "metadata": {},
   "outputs": [],
   "source": [
    "class Korean:\n",
    "    \n",
    "    def print_ghanadara(self):\n",
    "        print(\"가 나 다 라\")\n",
    "    \n",
    "    def what_language(self):\n",
    "        print(\"한국어\")"
   ]
  },
  {
   "cell_type": "code",
   "execution_count": 48,
   "metadata": {},
   "outputs": [],
   "source": [
    "class Language(English, Korean):\n",
    "    kind = [\"English\", \"Korean\"]"
   ]
  },
  {
   "cell_type": "code",
   "execution_count": 49,
   "metadata": {},
   "outputs": [],
   "source": [
    "Languages = Language()"
   ]
  },
  {
   "cell_type": "code",
   "execution_count": 51,
   "metadata": {},
   "outputs": [
    {
     "name": "stdout",
     "output_type": "stream",
     "text": [
      "영어\n"
     ]
    }
   ],
   "source": [
    "# 메소드 이름이 겹칠 경우 처음에 상속 받은 클래스에서 가져옴\n",
    "Languages.what_language()"
   ]
  },
  {
   "cell_type": "markdown",
   "metadata": {},
   "source": [
    "##  클래스_매직메소드"
   ]
  },
  {
   "cell_type": "code",
   "execution_count": 11,
   "metadata": {},
   "outputs": [],
   "source": [
    "import numpy as np\n",
    "import pandas as pd"
   ]
  },
  {
   "cell_type": "code",
   "execution_count": 12,
   "metadata": {},
   "outputs": [
    {
     "name": "stdout",
     "output_type": "stream",
     "text": [
      "[[0.45026582 0.59280448 0.94872346 0.94077303 0.48644351 0.73149169\n",
      "  0.83645426 0.17052415 0.27300918 0.66273134]\n",
      " [0.89237945 0.98455154 0.14357379 0.79610806 0.24007178 0.71938753\n",
      "  0.7501192  0.75801406 0.62169235 0.69028066]\n",
      " [0.15362547 0.45094878 0.98009657 0.53418463 0.27360379 0.69923806\n",
      "  0.13062102 0.87693155 0.049753   0.30803158]\n",
      " [0.74709956 0.32103506 0.20467011 0.91495736 0.11304354 0.74442485\n",
      "  0.76098269 0.087233   0.01937644 0.11310287]\n",
      " [0.82292305 0.83249053 0.05258701 0.25335419 0.46620048 0.11429245\n",
      "  0.68059231 0.0247789  0.19997353 0.37765853]\n",
      " [0.09487441 0.11241907 0.64103291 0.79223431 0.99934368 0.21986908\n",
      "  0.02382357 0.46313524 0.80679282 0.02548146]\n",
      " [0.50615339 0.4753619  0.55346908 0.18148567 0.47757126 0.6936835\n",
      "  0.41702051 0.68766277 0.15092624 0.73013447]\n",
      " [0.40185642 0.94547174 0.22268671 0.22505805 0.06282913 0.47084942\n",
      "  0.02628075 0.76457884 0.48216004 0.36079152]\n",
      " [0.73646459 0.96768276 0.26559762 0.22789682 0.68087487 0.51828167\n",
      "  0.04061163 0.9848662  0.80716647 0.17030474]\n",
      " [0.38996747 0.638398   0.16803997 0.56054495 0.59668101 0.13852438\n",
      "  0.50197586 0.35592458 0.71304319 0.72648673]]\n"
     ]
    }
   ],
   "source": [
    "uniform = np.random.uniform(size=(10,10))\n",
    "print(uniform)"
   ]
  },
  {
   "cell_type": "code",
   "execution_count": 14,
   "metadata": {},
   "outputs": [
    {
     "name": "stdout",
     "output_type": "stream",
     "text": [
      "          a         b         c         d         e         f         g  \\\n",
      "0  0.450266  0.592804  0.948723  0.940773  0.486444  0.731492  0.836454   \n",
      "1  0.892379  0.984552  0.143574  0.796108  0.240072  0.719388  0.750119   \n",
      "2  0.153625  0.450949  0.980097  0.534185  0.273604  0.699238  0.130621   \n",
      "3  0.747100  0.321035  0.204670  0.914957  0.113044  0.744425  0.760983   \n",
      "4  0.822923  0.832491  0.052587  0.253354  0.466200  0.114292  0.680592   \n",
      "5  0.094874  0.112419  0.641033  0.792234  0.999344  0.219869  0.023824   \n",
      "6  0.506153  0.475362  0.553469  0.181486  0.477571  0.693684  0.417021   \n",
      "7  0.401856  0.945472  0.222687  0.225058  0.062829  0.470849  0.026281   \n",
      "8  0.736465  0.967683  0.265598  0.227897  0.680875  0.518282  0.040612   \n",
      "9  0.389967  0.638398  0.168040  0.560545  0.596681  0.138524  0.501976   \n",
      "\n",
      "          h         i         j  \n",
      "0  0.170524  0.273009  0.662731  \n",
      "1  0.758014  0.621692  0.690281  \n",
      "2  0.876932  0.049753  0.308032  \n",
      "3  0.087233  0.019376  0.113103  \n",
      "4  0.024779  0.199974  0.377659  \n",
      "5  0.463135  0.806793  0.025481  \n",
      "6  0.687663  0.150926  0.730134  \n",
      "7  0.764579  0.482160  0.360792  \n",
      "8  0.984866  0.807166  0.170305  \n",
      "9  0.355925  0.713043  0.726487  \n"
     ]
    }
   ],
   "source": [
    "data = pd.DataFrame(uniform, columns=\"a b c d e f g h i j\".split())\n",
    "print(data)"
   ]
  },
  {
   "cell_type": "code",
   "execution_count": 16,
   "metadata": {},
   "outputs": [],
   "source": [
    "# 위의 데이터를 활용하여 PandasData class를 생성\n",
    "class PandasData:\n",
    "    def __init__(self, data):\n",
    "        self.data = data"
   ]
  },
  {
   "cell_type": "code",
   "execution_count": 17,
   "metadata": {},
   "outputs": [
    {
     "name": "stdout",
     "output_type": "stream",
     "text": [
      "<__main__.PandasData object at 0x7fef96fea190>\n"
     ]
    }
   ],
   "source": [
    "# 인스턴스 생성\n",
    "pd_data = PandasData(data)\n",
    "# 클래스를 프린트하면!\n",
    "print(pd_data)"
   ]
  },
  {
   "cell_type": "code",
   "execution_count": 19,
   "metadata": {},
   "outputs": [],
   "source": [
    "\n",
    "# 자 이제 클래스 매직메소드를 알아봅시다\n",
    "class PandasData:\n",
    "    def __init__(self, data):\n",
    "        self.data = data\n",
    "    \n",
    "    # 객체를 문자열로 나타내줌\n",
    "    def __str__(self):\n",
    "        return \"안녕 나는 클래스!\"\n",
    "    \n",
    "    # index를 출력할 수 있도록 해줌\n",
    "    def __getitem__(self, idx):\n",
    "        return self.data[idx]\n",
    "    \n",
    "    # 길이를 출력\n",
    "    def __len__(self):\n",
    "        return len(self.data)\n",
    "    \n",
    "    # 클래스를 함수처럼 호출할 수 있게 해줌\n",
    "    def __call__(self):\n",
    "        # 호출을 하면 head를 찍어보는 걸로 한 번 만들어 보자\n",
    "        return self.data.head()"
   ]
  },
  {
   "cell_type": "code",
   "execution_count": 20,
   "metadata": {},
   "outputs": [
    {
     "name": "stdout",
     "output_type": "stream",
     "text": [
      "안녕 나는 클래스!\n"
     ]
    }
   ],
   "source": [
    "# 인스턴스 생성\n",
    "pd_data = PandasData(data)\n",
    "# 클래스를 프린트하면!\n",
    "print(pd_data)"
   ]
  },
  {
   "cell_type": "code",
   "execution_count": 21,
   "metadata": {},
   "outputs": [
    {
     "data": {
      "text/plain": [
       "'안녕 나는 클래스!'"
      ]
     },
     "execution_count": 21,
     "metadata": {},
     "output_type": "execute_result"
    }
   ],
   "source": [
    "str(pd_data)"
   ]
  },
  {
   "cell_type": "code",
   "execution_count": 22,
   "metadata": {},
   "outputs": [
    {
     "data": {
      "text/html": [
       "<div>\n",
       "<style scoped>\n",
       "    .dataframe tbody tr th:only-of-type {\n",
       "        vertical-align: middle;\n",
       "    }\n",
       "\n",
       "    .dataframe tbody tr th {\n",
       "        vertical-align: top;\n",
       "    }\n",
       "\n",
       "    .dataframe thead th {\n",
       "        text-align: right;\n",
       "    }\n",
       "</style>\n",
       "<table border=\"1\" class=\"dataframe\">\n",
       "  <thead>\n",
       "    <tr style=\"text-align: right;\">\n",
       "      <th></th>\n",
       "      <th>a</th>\n",
       "      <th>b</th>\n",
       "      <th>c</th>\n",
       "      <th>d</th>\n",
       "      <th>e</th>\n",
       "      <th>f</th>\n",
       "      <th>g</th>\n",
       "      <th>h</th>\n",
       "      <th>i</th>\n",
       "      <th>j</th>\n",
       "    </tr>\n",
       "  </thead>\n",
       "  <tbody>\n",
       "    <tr>\n",
       "      <th>3</th>\n",
       "      <td>0.747100</td>\n",
       "      <td>0.321035</td>\n",
       "      <td>0.204670</td>\n",
       "      <td>0.914957</td>\n",
       "      <td>0.113044</td>\n",
       "      <td>0.744425</td>\n",
       "      <td>0.760983</td>\n",
       "      <td>0.087233</td>\n",
       "      <td>0.019376</td>\n",
       "      <td>0.113103</td>\n",
       "    </tr>\n",
       "    <tr>\n",
       "      <th>4</th>\n",
       "      <td>0.822923</td>\n",
       "      <td>0.832491</td>\n",
       "      <td>0.052587</td>\n",
       "      <td>0.253354</td>\n",
       "      <td>0.466200</td>\n",
       "      <td>0.114292</td>\n",
       "      <td>0.680592</td>\n",
       "      <td>0.024779</td>\n",
       "      <td>0.199974</td>\n",
       "      <td>0.377659</td>\n",
       "    </tr>\n",
       "  </tbody>\n",
       "</table>\n",
       "</div>"
      ],
      "text/plain": [
       "          a         b         c         d         e         f         g  \\\n",
       "3  0.747100  0.321035  0.204670  0.914957  0.113044  0.744425  0.760983   \n",
       "4  0.822923  0.832491  0.052587  0.253354  0.466200  0.114292  0.680592   \n",
       "\n",
       "          h         i         j  \n",
       "3  0.087233  0.019376  0.113103  \n",
       "4  0.024779  0.199974  0.377659  "
      ]
     },
     "execution_count": 22,
     "metadata": {},
     "output_type": "execute_result"
    }
   ],
   "source": [
    "pd_data[3:5]"
   ]
  },
  {
   "cell_type": "code",
   "execution_count": 23,
   "metadata": {},
   "outputs": [
    {
     "data": {
      "text/plain": [
       "10"
      ]
     },
     "execution_count": 23,
     "metadata": {},
     "output_type": "execute_result"
    }
   ],
   "source": [
    "len(pd_data)"
   ]
  },
  {
   "cell_type": "code",
   "execution_count": 24,
   "metadata": {},
   "outputs": [
    {
     "data": {
      "text/html": [
       "<div>\n",
       "<style scoped>\n",
       "    .dataframe tbody tr th:only-of-type {\n",
       "        vertical-align: middle;\n",
       "    }\n",
       "\n",
       "    .dataframe tbody tr th {\n",
       "        vertical-align: top;\n",
       "    }\n",
       "\n",
       "    .dataframe thead th {\n",
       "        text-align: right;\n",
       "    }\n",
       "</style>\n",
       "<table border=\"1\" class=\"dataframe\">\n",
       "  <thead>\n",
       "    <tr style=\"text-align: right;\">\n",
       "      <th></th>\n",
       "      <th>a</th>\n",
       "      <th>b</th>\n",
       "      <th>c</th>\n",
       "      <th>d</th>\n",
       "      <th>e</th>\n",
       "      <th>f</th>\n",
       "      <th>g</th>\n",
       "      <th>h</th>\n",
       "      <th>i</th>\n",
       "      <th>j</th>\n",
       "    </tr>\n",
       "  </thead>\n",
       "  <tbody>\n",
       "    <tr>\n",
       "      <th>0</th>\n",
       "      <td>0.450266</td>\n",
       "      <td>0.592804</td>\n",
       "      <td>0.948723</td>\n",
       "      <td>0.940773</td>\n",
       "      <td>0.486444</td>\n",
       "      <td>0.731492</td>\n",
       "      <td>0.836454</td>\n",
       "      <td>0.170524</td>\n",
       "      <td>0.273009</td>\n",
       "      <td>0.662731</td>\n",
       "    </tr>\n",
       "    <tr>\n",
       "      <th>1</th>\n",
       "      <td>0.892379</td>\n",
       "      <td>0.984552</td>\n",
       "      <td>0.143574</td>\n",
       "      <td>0.796108</td>\n",
       "      <td>0.240072</td>\n",
       "      <td>0.719388</td>\n",
       "      <td>0.750119</td>\n",
       "      <td>0.758014</td>\n",
       "      <td>0.621692</td>\n",
       "      <td>0.690281</td>\n",
       "    </tr>\n",
       "    <tr>\n",
       "      <th>2</th>\n",
       "      <td>0.153625</td>\n",
       "      <td>0.450949</td>\n",
       "      <td>0.980097</td>\n",
       "      <td>0.534185</td>\n",
       "      <td>0.273604</td>\n",
       "      <td>0.699238</td>\n",
       "      <td>0.130621</td>\n",
       "      <td>0.876932</td>\n",
       "      <td>0.049753</td>\n",
       "      <td>0.308032</td>\n",
       "    </tr>\n",
       "    <tr>\n",
       "      <th>3</th>\n",
       "      <td>0.747100</td>\n",
       "      <td>0.321035</td>\n",
       "      <td>0.204670</td>\n",
       "      <td>0.914957</td>\n",
       "      <td>0.113044</td>\n",
       "      <td>0.744425</td>\n",
       "      <td>0.760983</td>\n",
       "      <td>0.087233</td>\n",
       "      <td>0.019376</td>\n",
       "      <td>0.113103</td>\n",
       "    </tr>\n",
       "    <tr>\n",
       "      <th>4</th>\n",
       "      <td>0.822923</td>\n",
       "      <td>0.832491</td>\n",
       "      <td>0.052587</td>\n",
       "      <td>0.253354</td>\n",
       "      <td>0.466200</td>\n",
       "      <td>0.114292</td>\n",
       "      <td>0.680592</td>\n",
       "      <td>0.024779</td>\n",
       "      <td>0.199974</td>\n",
       "      <td>0.377659</td>\n",
       "    </tr>\n",
       "    <tr>\n",
       "      <th>5</th>\n",
       "      <td>0.094874</td>\n",
       "      <td>0.112419</td>\n",
       "      <td>0.641033</td>\n",
       "      <td>0.792234</td>\n",
       "      <td>0.999344</td>\n",
       "      <td>0.219869</td>\n",
       "      <td>0.023824</td>\n",
       "      <td>0.463135</td>\n",
       "      <td>0.806793</td>\n",
       "      <td>0.025481</td>\n",
       "    </tr>\n",
       "    <tr>\n",
       "      <th>6</th>\n",
       "      <td>0.506153</td>\n",
       "      <td>0.475362</td>\n",
       "      <td>0.553469</td>\n",
       "      <td>0.181486</td>\n",
       "      <td>0.477571</td>\n",
       "      <td>0.693684</td>\n",
       "      <td>0.417021</td>\n",
       "      <td>0.687663</td>\n",
       "      <td>0.150926</td>\n",
       "      <td>0.730134</td>\n",
       "    </tr>\n",
       "    <tr>\n",
       "      <th>7</th>\n",
       "      <td>0.401856</td>\n",
       "      <td>0.945472</td>\n",
       "      <td>0.222687</td>\n",
       "      <td>0.225058</td>\n",
       "      <td>0.062829</td>\n",
       "      <td>0.470849</td>\n",
       "      <td>0.026281</td>\n",
       "      <td>0.764579</td>\n",
       "      <td>0.482160</td>\n",
       "      <td>0.360792</td>\n",
       "    </tr>\n",
       "    <tr>\n",
       "      <th>8</th>\n",
       "      <td>0.736465</td>\n",
       "      <td>0.967683</td>\n",
       "      <td>0.265598</td>\n",
       "      <td>0.227897</td>\n",
       "      <td>0.680875</td>\n",
       "      <td>0.518282</td>\n",
       "      <td>0.040612</td>\n",
       "      <td>0.984866</td>\n",
       "      <td>0.807166</td>\n",
       "      <td>0.170305</td>\n",
       "    </tr>\n",
       "    <tr>\n",
       "      <th>9</th>\n",
       "      <td>0.389967</td>\n",
       "      <td>0.638398</td>\n",
       "      <td>0.168040</td>\n",
       "      <td>0.560545</td>\n",
       "      <td>0.596681</td>\n",
       "      <td>0.138524</td>\n",
       "      <td>0.501976</td>\n",
       "      <td>0.355925</td>\n",
       "      <td>0.713043</td>\n",
       "      <td>0.726487</td>\n",
       "    </tr>\n",
       "  </tbody>\n",
       "</table>\n",
       "</div>"
      ],
      "text/plain": [
       "          a         b         c         d         e         f         g  \\\n",
       "0  0.450266  0.592804  0.948723  0.940773  0.486444  0.731492  0.836454   \n",
       "1  0.892379  0.984552  0.143574  0.796108  0.240072  0.719388  0.750119   \n",
       "2  0.153625  0.450949  0.980097  0.534185  0.273604  0.699238  0.130621   \n",
       "3  0.747100  0.321035  0.204670  0.914957  0.113044  0.744425  0.760983   \n",
       "4  0.822923  0.832491  0.052587  0.253354  0.466200  0.114292  0.680592   \n",
       "5  0.094874  0.112419  0.641033  0.792234  0.999344  0.219869  0.023824   \n",
       "6  0.506153  0.475362  0.553469  0.181486  0.477571  0.693684  0.417021   \n",
       "7  0.401856  0.945472  0.222687  0.225058  0.062829  0.470849  0.026281   \n",
       "8  0.736465  0.967683  0.265598  0.227897  0.680875  0.518282  0.040612   \n",
       "9  0.389967  0.638398  0.168040  0.560545  0.596681  0.138524  0.501976   \n",
       "\n",
       "          h         i         j  \n",
       "0  0.170524  0.273009  0.662731  \n",
       "1  0.758014  0.621692  0.690281  \n",
       "2  0.876932  0.049753  0.308032  \n",
       "3  0.087233  0.019376  0.113103  \n",
       "4  0.024779  0.199974  0.377659  \n",
       "5  0.463135  0.806793  0.025481  \n",
       "6  0.687663  0.150926  0.730134  \n",
       "7  0.764579  0.482160  0.360792  \n",
       "8  0.984866  0.807166  0.170305  \n",
       "9  0.355925  0.713043  0.726487  "
      ]
     },
     "execution_count": 24,
     "metadata": {},
     "output_type": "execute_result"
    }
   ],
   "source": [
    "pd_data[:10]"
   ]
  },
  {
   "cell_type": "code",
   "execution_count": 32,
   "metadata": {},
   "outputs": [
    {
     "name": "stdout",
     "output_type": "stream",
     "text": [
      "a\n",
      "b\n",
      "c\n",
      "d\n",
      "e\n",
      "f\n",
      "g\n",
      "h\n",
      "i\n",
      "j\n"
     ]
    }
   ],
   "source": [
    "for i in pd_data[:10]:\n",
    "    print(i)"
   ]
  },
  {
   "cell_type": "code",
   "execution_count": 33,
   "metadata": {},
   "outputs": [
    {
     "data": {
      "text/html": [
       "<div>\n",
       "<style scoped>\n",
       "    .dataframe tbody tr th:only-of-type {\n",
       "        vertical-align: middle;\n",
       "    }\n",
       "\n",
       "    .dataframe tbody tr th {\n",
       "        vertical-align: top;\n",
       "    }\n",
       "\n",
       "    .dataframe thead th {\n",
       "        text-align: right;\n",
       "    }\n",
       "</style>\n",
       "<table border=\"1\" class=\"dataframe\">\n",
       "  <thead>\n",
       "    <tr style=\"text-align: right;\">\n",
       "      <th></th>\n",
       "      <th>a</th>\n",
       "      <th>b</th>\n",
       "      <th>c</th>\n",
       "      <th>d</th>\n",
       "      <th>e</th>\n",
       "      <th>f</th>\n",
       "      <th>g</th>\n",
       "      <th>h</th>\n",
       "      <th>i</th>\n",
       "      <th>j</th>\n",
       "    </tr>\n",
       "  </thead>\n",
       "  <tbody>\n",
       "    <tr>\n",
       "      <th>0</th>\n",
       "      <td>0.450266</td>\n",
       "      <td>0.592804</td>\n",
       "      <td>0.948723</td>\n",
       "      <td>0.940773</td>\n",
       "      <td>0.486444</td>\n",
       "      <td>0.731492</td>\n",
       "      <td>0.836454</td>\n",
       "      <td>0.170524</td>\n",
       "      <td>0.273009</td>\n",
       "      <td>0.662731</td>\n",
       "    </tr>\n",
       "    <tr>\n",
       "      <th>1</th>\n",
       "      <td>0.892379</td>\n",
       "      <td>0.984552</td>\n",
       "      <td>0.143574</td>\n",
       "      <td>0.796108</td>\n",
       "      <td>0.240072</td>\n",
       "      <td>0.719388</td>\n",
       "      <td>0.750119</td>\n",
       "      <td>0.758014</td>\n",
       "      <td>0.621692</td>\n",
       "      <td>0.690281</td>\n",
       "    </tr>\n",
       "    <tr>\n",
       "      <th>2</th>\n",
       "      <td>0.153625</td>\n",
       "      <td>0.450949</td>\n",
       "      <td>0.980097</td>\n",
       "      <td>0.534185</td>\n",
       "      <td>0.273604</td>\n",
       "      <td>0.699238</td>\n",
       "      <td>0.130621</td>\n",
       "      <td>0.876932</td>\n",
       "      <td>0.049753</td>\n",
       "      <td>0.308032</td>\n",
       "    </tr>\n",
       "    <tr>\n",
       "      <th>3</th>\n",
       "      <td>0.747100</td>\n",
       "      <td>0.321035</td>\n",
       "      <td>0.204670</td>\n",
       "      <td>0.914957</td>\n",
       "      <td>0.113044</td>\n",
       "      <td>0.744425</td>\n",
       "      <td>0.760983</td>\n",
       "      <td>0.087233</td>\n",
       "      <td>0.019376</td>\n",
       "      <td>0.113103</td>\n",
       "    </tr>\n",
       "    <tr>\n",
       "      <th>4</th>\n",
       "      <td>0.822923</td>\n",
       "      <td>0.832491</td>\n",
       "      <td>0.052587</td>\n",
       "      <td>0.253354</td>\n",
       "      <td>0.466200</td>\n",
       "      <td>0.114292</td>\n",
       "      <td>0.680592</td>\n",
       "      <td>0.024779</td>\n",
       "      <td>0.199974</td>\n",
       "      <td>0.377659</td>\n",
       "    </tr>\n",
       "  </tbody>\n",
       "</table>\n",
       "</div>"
      ],
      "text/plain": [
       "          a         b         c         d         e         f         g  \\\n",
       "0  0.450266  0.592804  0.948723  0.940773  0.486444  0.731492  0.836454   \n",
       "1  0.892379  0.984552  0.143574  0.796108  0.240072  0.719388  0.750119   \n",
       "2  0.153625  0.450949  0.980097  0.534185  0.273604  0.699238  0.130621   \n",
       "3  0.747100  0.321035  0.204670  0.914957  0.113044  0.744425  0.760983   \n",
       "4  0.822923  0.832491  0.052587  0.253354  0.466200  0.114292  0.680592   \n",
       "\n",
       "          h         i         j  \n",
       "0  0.170524  0.273009  0.662731  \n",
       "1  0.758014  0.621692  0.690281  \n",
       "2  0.876932  0.049753  0.308032  \n",
       "3  0.087233  0.019376  0.113103  \n",
       "4  0.024779  0.199974  0.377659  "
      ]
     },
     "execution_count": 33,
     "metadata": {},
     "output_type": "execute_result"
    }
   ],
   "source": [
    "# 함수처럼 () 써서 호출하면 됨\n",
    "pd_data()"
   ]
  },
  {
   "cell_type": "markdown",
   "metadata": {},
   "source": [
    "### 연습 _카페 클래스 만들기\n",
    "\n",
    "* 속성\n",
    "\n",
    "    - 테이블수\n",
    "    - 메뉴판\n",
    "    - 무인\n",
    "    - 커피원두\n",
    "    - 오늘의커피\n",
    "    - 오늘의주문량\n",
    "* 기능 \n",
    "    - 주문받기\n",
    "    - 커피만들기\n",
    "    - 완료알림"
   ]
  },
  {
   "cell_type": "code",
   "execution_count": 53,
   "metadata": {},
   "outputs": [],
   "source": [
    "class Cafe:\n",
    "    무인 = False\n",
    "    오늘의주문량 = 0\n",
    "    \n",
    "    def __init__(self, 테이블수, 메뉴판, 커피원두, 오늘의커피):\n",
    "        # 인스턴스 변수\n",
    "        self.테이블수 = 테이블수\n",
    "        self.메뉴판 = 메뉴판\n",
    "        self.커피원두 = 커피원두\n",
    "        self.오늘의커피 = 오늘의커피\n",
    "        \n",
    "    def 주문받기(self, 주문=\"아메리카노\", 샷추가=True):\n",
    "        if 주문 not in self.메뉴판:\n",
    "            raise IndexError(\"주문하신 음료가 메뉴에 없습니다\")\n",
    "        \n",
    "        else:\n",
    "            print(f\"{주문} 1잔 주문 받았습니다\")\n",
    "            self.오늘의주문량 += 1\n",
    "            if 샷추가 == True:\n",
    "                print(\"샷을 추가합니다\")\n",
    "    def 커피만들기(self):\n",
    "        print(\"커피만들기 시작\")\n",
    "        print(\"...\")\n",
    "        print(\"커피완성\")\n",
    "    \n",
    "    def 완료알림(self):\n",
    "        print(\"주문하신 음료 나왔습니다\")"
   ]
  },
  {
   "cell_type": "code",
   "execution_count": 54,
   "metadata": {},
   "outputs": [],
   "source": [
    "starbucks = Cafe(30, [\"아메리카노\", \"돌체라떼\", \"자바칩프라프치노\", \"소이라떼\", \"딸기라떼\"], [\"케냐원두\", \"예가체프\", \"에티오피아\",\"온두라스\"],\"아메리카노\")"
   ]
  },
  {
   "cell_type": "code",
   "execution_count": 55,
   "metadata": {},
   "outputs": [
    {
     "name": "stdout",
     "output_type": "stream",
     "text": [
      "False\n",
      "0\n",
      "30\n",
      "['케냐원두', '예가체프', '에티오피아', '온두라스']\n",
      "아메리카노\n",
      "['아메리카노', '돌체라떼', '자바칩프라프치노', '소이라떼', '딸기라떼']\n"
     ]
    }
   ],
   "source": [
    "\n",
    "print(starbucks.무인) # 클래스 변수\n",
    "print(starbucks.오늘의주문량) # 클래스 변수\n",
    "# 인스턴스 변수\n",
    "print(starbucks.테이블수)\n",
    "print(starbucks.커피원두)\n",
    "print(starbucks.오늘의커피)\n",
    "print(starbucks.메뉴판)"
   ]
  },
  {
   "cell_type": "code",
   "execution_count": 56,
   "metadata": {},
   "outputs": [
    {
     "name": "stdout",
     "output_type": "stream",
     "text": [
      "False\n",
      "0\n",
      "30\n",
      "['케냐원두', '예가체프', '에티오피아', '온두라스']\n",
      "아메리카노\n",
      "['아메리카노', '돌체라떼', '자바칩프라프치노', '소이라떼', '딸기라떼']\n"
     ]
    }
   ],
   "source": [
    "print(Cafe.무인) # 클래스 변수\n",
    "print(Cafe.오늘의주문량) # 클래스 변수\n",
    "# 인스턴스 변수\n",
    "print(starbucks.테이블수)\n",
    "print(starbucks.커피원두)\n",
    "print(starbucks.오늘의커피)\n",
    "print(starbucks.메뉴판)"
   ]
  },
  {
   "cell_type": "code",
   "execution_count": 57,
   "metadata": {},
   "outputs": [
    {
     "name": "stdout",
     "output_type": "stream",
     "text": [
      "아메리카노 1잔 주문 받았습니다\n",
      "샷을 추가합니다\n"
     ]
    }
   ],
   "source": [
    "starbucks.주문받기()"
   ]
  },
  {
   "cell_type": "code",
   "execution_count": 58,
   "metadata": {},
   "outputs": [
    {
     "name": "stdout",
     "output_type": "stream",
     "text": [
      "커피만들기 시작\n",
      "...\n",
      "커피완성\n"
     ]
    }
   ],
   "source": [
    "starbucks.커피만들기()"
   ]
  },
  {
   "cell_type": "code",
   "execution_count": 59,
   "metadata": {},
   "outputs": [
    {
     "name": "stdout",
     "output_type": "stream",
     "text": [
      "주문하신 음료 나왔습니다\n"
     ]
    }
   ],
   "source": [
    "starbucks.완료알림()"
   ]
  },
  {
   "cell_type": "code",
   "execution_count": 64,
   "metadata": {},
   "outputs": [
    {
     "name": "stdout",
     "output_type": "stream",
     "text": [
      "1\n"
     ]
    }
   ],
   "source": [
    "print(starbucks.오늘의주문량)"
   ]
  }
 ],
 "metadata": {
  "kernelspec": {
   "display_name": "Python 3",
   "language": "python",
   "name": "python3"
  },
  "language_info": {
   "codemirror_mode": {
    "name": "ipython",
    "version": 3
   },
   "file_extension": ".py",
   "mimetype": "text/x-python",
   "name": "python",
   "nbconvert_exporter": "python",
   "pygments_lexer": "ipython3",
   "version": "3.7.9"
  }
 },
 "nbformat": 4,
 "nbformat_minor": 4
}
