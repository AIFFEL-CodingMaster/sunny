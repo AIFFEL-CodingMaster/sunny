{
 "cells": [
  {
   "cell_type": "markdown",
   "metadata": {},
   "source": [
    "## Tips"
   ]
  },
  {
   "cell_type": "code",
   "execution_count": 6,
   "metadata": {},
   "outputs": [],
   "source": [
    "list_ = [1,2,3,4,]"
   ]
  },
  {
   "cell_type": "code",
   "execution_count": 7,
   "metadata": {},
   "outputs": [],
   "source": [
    "list_.reverse()"
   ]
  },
  {
   "cell_type": "code",
   "execution_count": 8,
   "metadata": {},
   "outputs": [
    {
     "data": {
      "text/plain": [
       "[4, 3, 2, 1]"
      ]
     },
     "execution_count": 8,
     "metadata": {},
     "output_type": "execute_result"
    }
   ],
   "source": [
    "list_"
   ]
  },
  {
   "cell_type": "code",
   "execution_count": 10,
   "metadata": {},
   "outputs": [],
   "source": [
    "list_ = [1,2,3,4,]"
   ]
  },
  {
   "cell_type": "code",
   "execution_count": 11,
   "metadata": {},
   "outputs": [],
   "source": [
    "list_.sort(reverse=True)"
   ]
  },
  {
   "cell_type": "code",
   "execution_count": 12,
   "metadata": {},
   "outputs": [
    {
     "data": {
      "text/plain": [
       "[4, 3, 2, 1]"
      ]
     },
     "execution_count": 12,
     "metadata": {},
     "output_type": "execute_result"
    }
   ],
   "source": [
    "list_"
   ]
  },
  {
   "cell_type": "code",
   "execution_count": 13,
   "metadata": {},
   "outputs": [],
   "source": [
    "list_.append(0)"
   ]
  },
  {
   "cell_type": "code",
   "execution_count": 14,
   "metadata": {},
   "outputs": [
    {
     "data": {
      "text/plain": [
       "[4, 3, 2, 1, 0]"
      ]
     },
     "execution_count": 14,
     "metadata": {},
     "output_type": "execute_result"
    }
   ],
   "source": [
    "list_"
   ]
  },
  {
   "cell_type": "code",
   "execution_count": null,
   "metadata": {},
   "outputs": [],
   "source": [
    "'''이러면 안됩니다'''\n",
    "# list_ = list_.sort()\n",
    "# list_ = list_.append()\n",
    "# list_ = list_.extend()\n",
    "# list_ = list_.reverse()"
   ]
  },
  {
   "cell_type": "code",
   "execution_count": 15,
   "metadata": {},
   "outputs": [
    {
     "name": "stdout",
     "output_type": "stream",
     "text": [
      "[4, 3, 2, 1, 0]\n"
     ]
    }
   ],
   "source": [
    "print(list_)"
   ]
  },
  {
   "cell_type": "code",
   "execution_count": 16,
   "metadata": {},
   "outputs": [
    {
     "name": "stdout",
     "output_type": "stream",
     "text": [
      "Writing ../rcp.py\n"
     ]
    }
   ],
   "source": [
    "%%writefile ../rcp.py\n",
    "\n",
    "# import random \n",
    "from random import randint\n",
    "n = int(input(\"몇 판 ?\"))\n",
    "\n",
    "\n",
    "# player_win, player_lose, computer_win, computer_lose, draw =0, 0, 0, 0, 0  \n",
    "\n",
    "\n",
    "player_win, player_lose = 0, 0\n",
    "computer_win, computer_lose = 0, 0\n",
    "draw = 0\n",
    "\n",
    "\n",
    "while n > 0:\n",
    "    player = input(\"가위 바위 보 ?!?! : \")\n",
    "    if player not in ['가위','바위','보']:\n",
    "        continue\n",
    "    computer = randint(0,2)\n",
    "\n",
    "\n",
    "    if player == '가위':\n",
    "        player = 0\n",
    "    elif player == '바위':\n",
    "        player = 1\n",
    "    else:\n",
    "        player = 2\n",
    "    \n",
    "    \n",
    "    if player == computer:\n",
    "        print(\"경기 결과 : 비김 \")\n",
    "        draw += 1\n",
    "    \n",
    "    elif player == 0 and computer == 1:\n",
    "        print(\"컴퓨터 : 바위\")\n",
    "        print(\"경기 결과 : 컴퓨터 승\")\n",
    "        player_lose += 1\n",
    "        computer_win += 1\n",
    "\n",
    "    elif player == 0 and computer == 2:\n",
    "        print(\"컴퓨터 : 보\")\n",
    "        print(\"경기 결과 : 플레이어 승\")\n",
    "        player_win += 1\n",
    "        computer_lose += 1\n",
    "\n",
    "    elif player == 1 and computer == 0:\n",
    "        print(\"컴퓨터 : 가위\")\n",
    "        print(\"경기 결과 : 플레이어 승\")\n",
    "        player_win += 1\n",
    "        computer_lose += 1\n",
    "\n",
    "    elif player == 1 and computer == 2:\n",
    "        print(\"컴퓨터 : 보\")\n",
    "        print(\"경기 결과 : 컴퓨터 승\")\n",
    "        player_lose += 1\n",
    "        computer_win += 1\n",
    "\n",
    "    elif player == 2 and computer == 0:\n",
    "        print(\"컴퓨터 : 가위\")\n",
    "        print(\"경기 결과 : 컴퓨터 승\")\n",
    "        player_lose += 1\n",
    "        computer_win += 1\n",
    "\n",
    "    elif player == 2 and computer == 1:\n",
    "        print(\"컴퓨터 : 바위\")\n",
    "        print(\"경기 결과 : 플레이어 승\")\n",
    "        player_win += 1\n",
    "        computer_lose += 1\n",
    "\n",
    "    print()\n",
    "    n -=1      \n",
    "print(f\"플레이어 {player_win}승 {draw}무 {player_lose}패\")\n",
    "print(f\"컴퓨터   {computer_win}승 {draw}무 {computer_lose}패\")"
   ]
  },
  {
   "cell_type": "code",
   "execution_count": 17,
   "metadata": {},
   "outputs": [
    {
     "name": "stdout",
     "output_type": "stream",
     "text": [
      "coma_lec_01-1.ipynb  coma_lec_03.ipynb\t  come_lec_04-2.ipynb\r\n",
      "coma_lec_01-2.ipynb  coma_lec_04-1.ipynb  part1_etc.ipynb\r\n",
      "coma_lec_02.ipynb    coma_lec_05.ipynb\t  rsp2.py\r\n"
     ]
    }
   ],
   "source": [
    "!ls"
   ]
  },
  {
   "cell_type": "code",
   "execution_count": 18,
   "metadata": {},
   "outputs": [
    {
     "name": "stdout",
     "output_type": "stream",
     "text": [
      "coma_lec_01-1.ipynb  coma_lec_03.ipynb    come_lec_04-2.ipynb\r\n",
      "coma_lec_01-2.ipynb  coma_lec_04-1.ipynb  part1_etc.ipynb\r\n",
      "coma_lec_02.ipynb    coma_lec_05.ipynb    rsp2.py\r\n"
     ]
    }
   ],
   "source": [
    "%ls"
   ]
  },
  {
   "cell_type": "code",
   "execution_count": 19,
   "metadata": {},
   "outputs": [
    {
     "name": "stdout",
     "output_type": "stream",
     "text": [
      "몇 판 ?2\n",
      "가위 바위 보 ?!?! : 보\n",
      "경기 결과 : 비김 \n",
      "\n",
      "가위 바위 보 ?!?! : 가위\n",
      "경기 결과 : 비김 \n",
      "\n",
      "플레이어 0승 2무 0패\n",
      "컴퓨터   0승 2무 0패\n"
     ]
    }
   ],
   "source": [
    "%run ../rcp.py"
   ]
  },
  {
   "cell_type": "code",
   "execution_count": 20,
   "metadata": {},
   "outputs": [
    {
     "name": "stdout",
     "output_type": "stream",
     "text": [
      "rm: 'rcp.py'를 지울 수 없음: 그런 파일이나 디렉터리가 없습니다\r\n"
     ]
    }
   ],
   "source": [
    "\n",
    "# 방금만들 파일 필요없어서 삭제\n",
    "%rm rcp.py"
   ]
  },
  {
   "cell_type": "code",
   "execution_count": 21,
   "metadata": {},
   "outputs": [],
   "source": [
    "!mkdir temporary"
   ]
  },
  {
   "cell_type": "code",
   "execution_count": 22,
   "metadata": {},
   "outputs": [],
   "source": [
    "!rm -r temporary/"
   ]
  },
  {
   "cell_type": "code",
   "execution_count": 23,
   "metadata": {},
   "outputs": [
    {
     "name": "stdout",
     "output_type": "stream",
     "text": [
      "coma_lec_01-1.ipynb  coma_lec_03.ipynb    come_lec_04-2.ipynb\r\n",
      "coma_lec_01-2.ipynb  coma_lec_04-1.ipynb  part1_etc.ipynb\r\n",
      "coma_lec_02.ipynb    coma_lec_05.ipynb    rsp2.py\r\n"
     ]
    }
   ],
   "source": [
    "%ls"
   ]
  },
  {
   "cell_type": "code",
   "execution_count": 24,
   "metadata": {},
   "outputs": [],
   "source": [
    "dir_files = !ls"
   ]
  },
  {
   "cell_type": "code",
   "execution_count": 25,
   "metadata": {},
   "outputs": [
    {
     "data": {
      "text/plain": [
       "['coma_lec_01-1.ipynb',\n",
       " 'coma_lec_01-2.ipynb',\n",
       " 'coma_lec_02.ipynb',\n",
       " 'coma_lec_03.ipynb',\n",
       " 'coma_lec_04-1.ipynb',\n",
       " 'coma_lec_05.ipynb',\n",
       " 'come_lec_04-2.ipynb',\n",
       " 'part1_etc.ipynb',\n",
       " 'rsp2.py']"
      ]
     },
     "execution_count": 25,
     "metadata": {},
     "output_type": "execute_result"
    }
   ],
   "source": [
    "list(dir_files)"
   ]
  },
  {
   "cell_type": "code",
   "execution_count": 26,
   "metadata": {},
   "outputs": [
    {
     "name": "stdout",
     "output_type": "stream",
     "text": [
      "Writing hello.py\n"
     ]
    }
   ],
   "source": [
    "%%writefile hello.py\n",
    "\n",
    "print(\"Hello World\")"
   ]
  },
  {
   "cell_type": "code",
   "execution_count": 27,
   "metadata": {},
   "outputs": [
    {
     "name": "stdout",
     "output_type": "stream",
     "text": [
      "coma_lec_01-1.ipynb  coma_lec_03.ipynb\t  come_lec_04-2.ipynb  rsp2.py\r\n",
      "coma_lec_01-2.ipynb  coma_lec_04-1.ipynb  hello.py\r\n",
      "coma_lec_02.ipynb    coma_lec_05.ipynb\t  part1_etc.ipynb\r\n"
     ]
    }
   ],
   "source": [
    "!ls"
   ]
  },
  {
   "cell_type": "code",
   "execution_count": 28,
   "metadata": {},
   "outputs": [],
   "source": [
    "%rm hello.py"
   ]
  },
  {
   "cell_type": "code",
   "execution_count": 29,
   "metadata": {},
   "outputs": [
    {
     "name": "stdout",
     "output_type": "stream",
     "text": [
      "coma_lec_01-1.ipynb  coma_lec_03.ipynb\t  come_lec_04-2.ipynb\r\n",
      "coma_lec_01-2.ipynb  coma_lec_04-1.ipynb  part1_etc.ipynb\r\n",
      "coma_lec_02.ipynb    coma_lec_05.ipynb\t  rsp2.py\r\n"
     ]
    }
   ],
   "source": [
    "!ls"
   ]
  },
  {
   "cell_type": "code",
   "execution_count": null,
   "metadata": {},
   "outputs": [],
   "source": []
  }
 ],
 "metadata": {
  "kernelspec": {
   "display_name": "Python 3",
   "language": "python",
   "name": "python3"
  },
  "language_info": {
   "codemirror_mode": {
    "name": "ipython",
    "version": 3
   },
   "file_extension": ".py",
   "mimetype": "text/x-python",
   "name": "python",
   "nbconvert_exporter": "python",
   "pygments_lexer": "ipython3",
   "version": "3.7.9"
  }
 },
 "nbformat": 4,
 "nbformat_minor": 4
}
